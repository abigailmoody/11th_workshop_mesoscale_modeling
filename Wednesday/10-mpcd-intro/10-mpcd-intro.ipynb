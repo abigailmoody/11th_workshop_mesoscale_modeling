{
 "cells": [
  {
   "cell_type": "markdown",
   "id": "74e01c6a",
   "metadata": {},
   "source": [
    "# Multiparticle collision dynamics\n",
    "\n",
    "## Overview\n",
    "\n",
    "### Questions\n",
    "\n",
    "- What is multiparticle collision dynamics (MPCD)?\n",
    "- How do I setup an MPCD fluid in bulk?\n",
    "- How do transport properties of the MPCD fluid depend on the collision parameters?\n",
    "\n",
    "### Objectives\n",
    "\n",
    "- Demonstrate how to initialize MPCD particles using a **Snapshot**.\n",
    "- Explain how to configure the MPCD **Integrator** with a **StreamingMethod**\n",
    "  and **CollisionMethod**.\n",
    "- Demonstrate how to run a simulation and gather data from particles.\n",
    "\n",
    "## Boilerplate code"
   ]
  },
  {
   "cell_type": "code",
   "execution_count": 1,
   "id": "d3c358fa",
   "metadata": {},
   "outputs": [],
   "source": [
    "import freud\n",
    "import hoomd\n",
    "import hoomd.mpcd\n",
    "import matplotlib\n",
    "import numpy\n",
    "import scipy.stats\n",
    "\n",
    "%matplotlib inline\n",
    "matplotlib.style.use(\"ggplot\")\n",
    "import matplotlib_inline\n",
    "\n",
    "matplotlib_inline.backend_inline.set_matplotlib_formats(\"svg\")"
   ]
  },
  {
   "cell_type": "markdown",
   "id": "4ca9165d",
   "metadata": {},
   "source": [
    "## Initialization\n",
    "\n",
    "MPCD particles can be initialized using a [hoomd.Snapshot](https://hoomd-blue.readthedocs.io/en/stable/hoomd/snapshot.html).\n",
    "Let's fill a cubic box with edge length $50 \\ell$ at a number density $\\rho = 5/\\ell^3$,\n",
    "where $\\ell$ is the unit of length. First, create the **Snapshot** and set the box size:"
   ]
  },
  {
   "cell_type": "code",
   "execution_count": 2,
   "id": "40c7e0c0",
   "metadata": {},
   "outputs": [],
   "source": [
    "L = 50\n",
    "density = 5\n",
    "snapshot = hoomd.Snapshot()\n",
    "snapshot.configuration.box = [L, L, L, 0, 0, 0]"
   ]
  },
  {
   "cell_type": "markdown",
   "id": "31d1cee4",
   "metadata": {},
   "source": [
    "Then, calculate the number of particles and fill the box with positions drawn\n",
    "from a uniform random distribution:"
   ]
  },
  {
   "cell_type": "code",
   "execution_count": 3,
   "id": "4bb1b5e8",
   "metadata": {},
   "outputs": [],
   "source": [
    "snapshot.mpcd.N = int(density * L**3)\n",
    "rng = numpy.random.default_rng(seed=42)\n",
    "snapshot.mpcd.position[:] = rng.uniform(\n",
    "    low=-0.5 * L, high=0.5 * L, size=(snapshot.mpcd.N, 3)\n",
    ")"
   ]
  },
  {
   "cell_type": "markdown",
   "id": "db3343b4",
   "metadata": {},
   "source": [
    "The MPCD particles default to having unit mass *m*. You can change it to a\n",
    "different value using `Snapshot.mpcd.mass` if you want to use something else.\n",
    "Here, we set it explicitly to one for completeness:"
   ]
  },
  {
   "cell_type": "code",
   "execution_count": 4,
   "id": "2e4827f5",
   "metadata": {},
   "outputs": [],
   "source": [
    "mass = 1\n",
    "snapshot.mpcd.mass = mass"
   ]
  },
  {
   "cell_type": "markdown",
   "id": "8f7e1a90",
   "metadata": {},
   "source": [
    "MPCD particles typically need to start with a velocity. We can draw these\n",
    "velocities from the Maxwell-Boltzmann distribution consistent with\n",
    "$T = 1.0\\varepsilon/k_{\\rm B} $, $\\varepsilon$ is the unit of energy and\n",
    "$k_{\\rm B}$ is the Boltzmann constant. Note that it is important to subtract off\n",
    "any center-of-mass motion! MPCD is momentum-conserving, so the particles will\n",
    "drift if you do not."
   ]
  },
  {
   "cell_type": "code",
   "execution_count": 5,
   "id": "160401c0",
   "metadata": {},
   "outputs": [],
   "source": [
    "kT = 1.0\n",
    "velocity = rng.normal(0.0, numpy.sqrt(kT / mass), (snapshot.mpcd.N, 3))\n",
    "velocity -= numpy.mean(velocity, axis=0)\n",
    "snapshot.mpcd.velocity[:] = velocity"
   ]
  },
  {
   "cell_type": "markdown",
   "id": "1b00cb86",
   "metadata": {},
   "source": [
    "All MPCD particles also need to have a type, although nothing is currently done\n",
    "with it in the code. `Snapshot.mpcd.typeid` defaults to zero, so we can just\n",
    "need to put some type name into the list, say \"A\"."
   ]
  },
  {
   "cell_type": "code",
   "execution_count": 6,
   "id": "45c0e546",
   "metadata": {},
   "outputs": [],
   "source": [
    "snapshot.mpcd.types = [\"A\"]"
   ]
  },
  {
   "cell_type": "markdown",
   "id": "86a4fb75",
   "metadata": {},
   "source": [
    "Now that the `Snapshot` is fully initialized, we can use it to create a\n",
    "`Simulation`. Note that this works even though there are no regular HOOMD\n",
    "particles in the snapshot."
   ]
  },
  {
   "cell_type": "code",
   "execution_count": 7,
   "id": "4a7ce98a",
   "metadata": {},
   "outputs": [],
   "source": [
    "simulation = hoomd.Simulation(device=hoomd.device.auto_select(), seed=1)\n",
    "simulation.create_state_from_snapshot(snapshot)"
   ]
  },
  {
   "cell_type": "markdown",
   "id": "9b32ef90",
   "metadata": {},
   "source": [
    "## Configuring the MPCD integrator\n",
    "\n",
    "The motion of the MPCD particles is governed by alternating streaming and\n",
    "collision steps. During the streaming step, the particles move according to\n",
    "Newton's equations of motion. During the collision step, the particles are\n",
    "assigned to a \"collision\" cell and stochastically exchange momentum with each\n",
    "other in a cell. The time between collisions is called the collision time. These\n",
    "equations of motion are implemented by the MPCD [Integrator](https://hoomd-blue.readthedocs.io/en/stable/hoomd/mpcd/integrator.html).\n",
    "The amount of time covered by a streaming step or the time between collisions is\n",
    "a multiple of the timestep of this integrator.\n",
    "\n",
    "Here we will use a timestep of $1.0\\tau$ where $\\tau = \\sqrt{m\\ell^2/\\varepsilon}$\n",
    "is the unit of time. This timestep will correspond to our collision time because\n",
    "we only have MPCD particles (see below)."
   ]
  },
  {
   "cell_type": "code",
   "execution_count": 8,
   "id": "efdcfedf",
   "metadata": {},
   "outputs": [],
   "source": [
    "integrator = hoomd.mpcd.Integrator(dt=1.0)\n",
    "simulation.operations.integrator = integrator"
   ]
  },
  {
   "cell_type": "markdown",
   "id": "46afbd7f",
   "metadata": {},
   "source": [
    "We will use the SRD collision rule with collision time $\\Delta t = 1.0\\tau$,\n",
    "collision angle $\\alpha = 130^\\circ$, and a thermostat to maintain constant\n",
    "temperature. We attach an [SRDCollisionMethod](https://hoomd-blue.readthedocs.io/en/stable/hoomd/mpcd/collide/stochasticrotationdynamics.html)\n",
    "to the `Integrator` and have a collision occur every timestep. The default\n",
    "collision cell is a cube with edge length $1\\ell$. Note that this collision time\n",
    "is large compared to what is typically used, but we are using it for\n",
    "demonstration purposes."
   ]
  },
  {
   "cell_type": "code",
   "execution_count": 9,
   "id": "41c66d71",
   "metadata": {},
   "outputs": [],
   "source": [
    "angle = 130\n",
    "integrator.collision_method = hoomd.mpcd.collide.StochasticRotationDynamics(\n",
    "    period=1, angle=angle, kT=kT\n",
    ")"
   ]
  },
  {
   "cell_type": "markdown",
   "id": "dd09dcf3",
   "metadata": {},
   "source": [
    "Now, we also need to setup our streaming method.\n",
    "Since we are in a box with periodic boundary conditions, we can use the [Bulk](https://hoomd-blue.readthedocs.io/en/stable/hoomd/mpcd/stream/bulk.html)\n",
    "streaming method to propogate solvent particles with no confining geometry.\n",
    "Streaming is only performed every collision step because the particles move\n",
    "with constant velocity between collisions."
   ]
  },
  {
   "cell_type": "code",
   "execution_count": 10,
   "id": "348e17b5",
   "metadata": {},
   "outputs": [],
   "source": [
    "integrator.streaming_method = hoomd.mpcd.stream.Bulk(\n",
    "    period=integrator.collision_method.period\n",
    ")"
   ]
  },
  {
   "cell_type": "markdown",
   "id": "a5bc53ba",
   "metadata": {},
   "source": [
    "Although it does not affect correctness, the performance of MPCD simulations\n",
    "can be sped up considerably by periodically sorting the particles. Experience\n",
    "shows about every 20 collision is a reasonable frequency for doing this in HOOMD,\n",
    "so we attach a sorter that does this."
   ]
  },
  {
   "cell_type": "code",
   "execution_count": 11,
   "id": "1cdcb05e",
   "metadata": {},
   "outputs": [],
   "source": [
    "integrator.mpcd_particle_sorter = hoomd.mpcd.tune.ParticleSorter(\n",
    "    trigger=20 * integrator.collision_method.period\n",
    ")"
   ]
  },
  {
   "cell_type": "markdown",
   "id": "b654dc80",
   "metadata": {},
   "source": [
    "## Diffusion coefficient\n",
    "\n",
    "### Simulation\n",
    "\n",
    "Now that the simulation is configured, let's run a short sequence of simulations\n",
    "to estimate the diffusion coefficient of the MPCD particles.\n",
    "\n",
    "MPCD particles do not track image flags, but their motion usually becomes\n",
    "diffusive pretty quickly. Hence, we can run a short simulation where we:\n",
    "\n",
    "1. Record the initial positions of the particles at $t_0$.\n",
    "2. Run up to a short time $t_1$ for the motion to become diffusive.\n",
    "3. Measure the mean squared displacement $\\Delta r^2(t_1)$ between $t_0$ and $t_1$.\n",
    "4. Run up to a second short time $t_2$.\n",
    "5. Measure the mean squared displacement $\\Delta r^2(t_2)$ between $t_0$ and $t_2$.\n",
    "6. Estimate the diffusion coefficient:\n",
    "\n",
    "   $$\n",
    "   D \\approx \\frac{\\Delta r^2(t_2) - \\Delta r^2(t_1)}{6(t_2 - t_1)}\n",
    "   $$\n",
    "\n",
    "7. Repeat to obtain a desired number of samples. Compute an average and estimate\n",
    "   an uncertainty from the different samples."
   ]
  },
  {
   "cell_type": "code",
   "execution_count": 12,
   "id": "88f3e688",
   "metadata": {},
   "outputs": [
    {
     "name": "stdout",
     "output_type": "stream",
     "text": [
      "6.43e-01 +/- 4.28e-04\n"
     ]
    }
   ],
   "source": [
    "num_samples = 10\n",
    "wait_time = 2\n",
    "sample_time = 2\n",
    "D = numpy.zeros(num_samples)\n",
    "for i in range(num_samples):\n",
    "    # save initial position of particles\n",
    "    snapshot = simulation.state.get_snapshot()\n",
    "    r0 = numpy.array(snapshot.mpcd.position)\n",
    "\n",
    "    # run forward 1 time unit and store\n",
    "    simulation.run(numpy.round(wait_time / integrator.dt).astype(int))\n",
    "    snapshot = simulation.state.get_snapshot()\n",
    "    r1 = numpy.array(snapshot.mpcd.position)\n",
    "    box = freud.box.Box.from_box(snapshot.configuration.box)\n",
    "    dr = box.wrap(r1 - r0)\n",
    "    msd1 = numpy.mean(numpy.sum(dr**2, axis=1))\n",
    "\n",
    "    # run another time unit and store\n",
    "    simulation.run(numpy.round(sample_time / integrator.dt).astype(int))\n",
    "    snapshot = simulation.state.get_snapshot()\n",
    "    r2 = numpy.array(snapshot.mpcd.position)\n",
    "    box = freud.box.Box.from_box(snapshot.configuration.box)\n",
    "    dr = box.wrap(r2 - r0)\n",
    "    msd2 = numpy.mean(numpy.sum(dr**2, axis=1))\n",
    "    \n",
    "    D[i] = (msd2 - msd1) / (6 * sample_time)\n",
    "\n",
    "D_sim = numpy.mean(D)\n",
    "D_sim_err = scipy.stats.sem(D)\n",
    "print(f\"{D_sim:.2e} +/- {D_sim_err:.2e}\")"
   ]
  },
  {
   "cell_type": "markdown",
   "id": "70fcb860",
   "metadata": {},
   "source": [
    "### Theoretical prediction\n",
    "\n",
    "The self-diffusion coefficient for the SRD solvent can be\n",
    "[theoretically approximated](https://doi.org/10.1007/978-3-540-87706-6_1) as:\n",
    "\n",
    "$$\n",
    "D = \\frac{k_{\\rm B} T \\Delta t}{2 m}\n",
    "    \\left[\\frac{3M}{(1-\\cos \\alpha)(M - 1 + e^{-M})} - 1 \\right]\n",
    "$$\n",
    "\n",
    "where *M* is the average number of particles in a collision cell. Since our\n",
    "collision cells are cubes with unit length, $M = \\rho \\ell^3$. This contribution\n",
    "comes only from the streaming step."
   ]
  },
  {
   "cell_type": "code",
   "execution_count": 13,
   "id": "bfca2965",
   "metadata": {},
   "outputs": [
    {
     "name": "stdout",
     "output_type": "stream",
     "text": [
      "6.39e-01\n"
     ]
    }
   ],
   "source": [
    "angle_rad = numpy.radians(angle)\n",
    "collision_time = integrator.dt * integrator.collision_method.period\n",
    "M = density\n",
    "D_theory = (0.5 * kT * collision_time / mass) * (\n",
    "    (3 * M) / ((1 - numpy.cos(angle_rad)) * (M - 1 + numpy.exp(-M))) - 1)\n",
    "print(f\"{D_theory:.2e}\")"
   ]
  },
  {
   "cell_type": "markdown",
   "id": "a4869b58",
   "metadata": {},
   "source": [
    "*Question*: what is the percent error between the theoretical and simulated\n",
    "diffusion coefficient?"
   ]
  },
  {
   "cell_type": "markdown",
   "id": "73f6cd2e",
   "metadata": {},
   "source": [
    "## Shear viscosity\n",
    "\n",
    "### Theoretical prediction\n",
    "\n",
    "The shear viscosity of the SRD collision method can also be\n",
    "[estimated theoretically](https://doi.org/10.1007/978-3-540-87706-6_1). It has\n",
    "two contibutions: one from the streaming step and one from the collision step.\n",
    "The *kinematic* viscosity $\\nu = \\nu_{\\rm s} + \\nu_{\\rm c}$ can be computed\n",
    "using:\n",
    "\n",
    "$$\n",
    "\\begin{align}\n",
    "\\nu_{\\rm s} &= \\frac{k_{\\rm B} T \\Delta t}{2 m} \\left[\n",
    "    \\frac{5 M}{(M-1+e^{-M})(2-\\cos\\alpha - \\cos 2\\alpha)} - 1\\right] \\\\\n",
    "\\nu_{\\rm c} &= \\frac{\\ell^2}{\\Delta t} \\left[\n",
    "    \\frac{M - 1 + e^{-M}}{18 M}(1 - \\cos\\alpha) \\right]\n",
    "\\end{align}\n",
    "$$\n",
    "\n",
    "It has units of $\\ell^2/\\tau$."
   ]
  },
  {
   "cell_type": "code",
   "execution_count": 14,
   "id": "4e432476",
   "metadata": {},
   "outputs": [
    {
     "name": "stdout",
     "output_type": "stream",
     "text": [
      "0.68\n"
     ]
    }
   ],
   "source": [
    "nu_s = (0.5 * kT * collision_time / mass) * ((5 * M) / (\n",
    "    (M - 1 + numpy.exp(-M)) * (2 - numpy.cos(angle_rad) - numpy.cos(2 * angle_rad))\n",
    " ) - 1)\n",
    "\n",
    "nu_c = (1 / collision_time) * ((M - 1 + numpy.exp(-M))/(18 * M) * (1 - numpy.cos(angle_rad)))\n",
    "kinematic_viscosity = nu_s + nu_c\n",
    "\n",
    "print(f\"{kinematic_viscosity:.2f}\")"
   ]
  },
  {
   "cell_type": "markdown",
   "id": "b1a3a7a1",
   "metadata": {},
   "source": [
    "The corresponding *dynamic* viscosity is $\\mu = m \\rho \\nu$, and it has units\n",
    "of $\\varepsilon \\tau/\\ell^3$."
   ]
  },
  {
   "cell_type": "code",
   "execution_count": 15,
   "id": "b3a6d8b2",
   "metadata": {},
   "outputs": [
    {
     "name": "stdout",
     "output_type": "stream",
     "text": [
      "3.40\n"
     ]
    }
   ],
   "source": [
    "dynamic_viscosity = mass * density * kinematic_viscosity\n",
    "print(f\"{dynamic_viscosity:.2f}\")"
   ]
  },
  {
   "cell_type": "markdown",
   "id": "7e45c638",
   "metadata": {},
   "source": [
    "The dynamic viscosity can be measured from simulations using a variety of\n",
    "techniques, but these are bit more involved than we have time to get into right\n",
    "now. We'll use one method in a later activity!"
   ]
  },
  {
   "cell_type": "markdown",
   "id": "eda3ef63",
   "metadata": {},
   "source": [
    "## Additional activities\n",
    "\n",
    "1. How does the diffusion coefficient change if you decrease the collision time?\n",
    "2. Does the accuracy of the theoretical prediction for the diffusion\n",
    "   coefficient get better or worse if you decrease the collision time?\n",
    "3. How does the diffusion coefficient depend on collision angle?\n",
    "4. If you start from a different distribution of velocities, does they still\n",
    "   become Maxwell-Boltzmann distributed after you run a short simulation? Does\n",
    "   it matter if there is a thermostat? You can use `numpy.histogram` to check\n",
    "   the distribution of velocities."
   ]
  }
 ],
 "metadata": {
  "kernelspec": {
   "display_name": "Python 3",
   "language": "python",
   "name": "python3"
  },
  "language_info": {
   "codemirror_mode": {
    "name": "ipython",
    "version": 3
   },
   "file_extension": ".py",
   "mimetype": "text/x-python",
   "name": "python",
   "nbconvert_exporter": "python",
   "pygments_lexer": "ipython3",
   "version": "3.13.5"
  }
 },
 "nbformat": 4,
 "nbformat_minor": 5
}
