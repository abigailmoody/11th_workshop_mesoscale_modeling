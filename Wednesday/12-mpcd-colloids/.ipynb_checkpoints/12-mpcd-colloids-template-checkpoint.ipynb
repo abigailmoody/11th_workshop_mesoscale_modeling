{
 "cells": [
  {
   "cell_type": "markdown",
   "id": "64f5e93c",
   "metadata": {},
   "source": [
    "# Sedimentation of a colloidal particle\n",
    "\n",
    "## Overview\n",
    "\n",
    "### Questions\n",
    "\n",
    "- How do I model a colloidal particle suspended in MPCD particles?\n",
    "- How do I simulate a bulk sedimentation process?\n",
    "- What are finite-size effects for sedimentation?\n",
    "\n",
    "### Objectives\n",
    "\n",
    "- Explain the discrete model for a colloidal particle and demonstrate how to\n",
    "  setup such a model in HOOMD-blue.\n",
    "- Explain the concept of sedimentation and demonstrate how to apply the\n",
    "  corresponding body forces to a colloidal particle and MPCD particles.\n",
    "- Demonstrate how to simulate sedimentation and measure the sedimentation\n",
    "  velocity of a colloidal particle.\n",
    "- Explain the origin of finite-size effects in sedimentation and show how to\n",
    "  correct simulation measurements for them.\n",
    "\n",
    "## Boilerplate code"
   ]
  },
  {
   "cell_type": "code",
   "execution_count": null,
   "id": "09d1ead3",
   "metadata": {},
   "outputs": [],
   "source": [
    "import json\n",
    "\n",
    "import gsd.hoomd\n",
    "import hoomd\n",
    "import hoomd.azplugins\n",
    "import hoomd.mpcd\n",
    "import matplotlib\n",
    "import numpy\n",
    "\n",
    "%matplotlib inline\n",
    "matplotlib.style.use(\"ggplot\")\n",
    "import matplotlib_inline\n",
    "\n",
    "matplotlib_inline.backend_inline.set_matplotlib_formats(\"svg\")"
   ]
  },
  {
   "cell_type": "markdown",
   "id": "d6c36974",
   "metadata": {},
   "source": [
    "## Background\n",
    "\n",
    "A colloidal particle is typically much larger than the size of an MPCD collision\n",
    "cell. Hence, it cannot be modeled simply as a single particle that participates\n",
    "in the collision, like we did for a monomer in a polymer chain. Multiple\n",
    "approaches have been proposed for coupling colloidal particles to the MPCD fluid.\n",
    "We will use the approach of [Poblete et al.](https://doi.org/10.1103/PhysRevE.90.033314),\n",
    "which discretizes the surface of the particle into smaller particles.\n",
    "Wani et al. showed that this approach works quite well for not only\n",
    "[spherical particles](https://doi.org/10.1063/5.0075002) but also more\n",
    "[complex particle shapes](https://doi.org/10.1039/D4SM00271G).\n",
    "\n",
    "Sedimentation is the process of a colloidal particle falling through a fluid,\n",
    "usually due to a density mismatch. Given enough time, the particle will come\n",
    "to a steady sedimentation velocity $U$ in response to an effective force $F$\n",
    "that causes it to sediment. For a single particle, the two are related through\n",
    "the *drag coefficient* $\\gamma$:\n",
    "\n",
    "$$\n",
    "U = F / \\gamma\n",
    "$$\n",
    "\n",
    "For a sphere of diameter $d$ with a no-slip surface, $\\gamma = 3 \\pi \\mu d$.\n",
    "Let's see if MPCD can reproduce something like this!\n",
    "\n",
    "## Initialization\n",
    "\n",
    "We have created a discrete model of a sphere with diameter 6 for you. There\n",
    "is one central particle of type A, and there are 162 surface particles of type\n",
    "A-constituent. The constituent particles are bonded to their nearest neighbors\n",
    "and to the central particle. We have created a file `bond_lengths.json` that\n",
    "gives the approximate lengths of all these bonds. The sphere starts at the\n",
    "center of a cubic simulation box with edge length $L = 30\\,\\ell$.\n",
    "\n",
    "The first thing we need to do is open the GSD file for the sphere and load it\n",
    "into a HOOMD snapshot."
   ]
  },
  {
   "cell_type": "code",
   "execution_count": null,
   "id": "de7053d6",
   "metadata": {},
   "outputs": [],
   "source": [
    "with gsd.hoomd.open(\"sphere.gsd\") as traj:\n",
    "    snapshot = hoomd.Snapshot.from_gsd_frame(traj[0], hoomd.communicator.Communicator())"
   ]
  },
  {
   "cell_type": "markdown",
   "id": "7740439b",
   "metadata": {},
   "source": [
    "We want to make sure all the MD particles have the right mass and no drift in\n",
    "their velocities. We set the mass of the MD particles to be the same as the mass\n",
    "of MPCD particles in a collision cell. The collisions cells have unit volume by\n",
    "default, so this mass is same as the number density, $\\rho = 5/\\ell^3$, times\n",
    "the MPCD particle mass *m*. We zero all the velocities because the MPCD particles\n",
    "will rethermalize them quickly later."
   ]
  },
  {
   "cell_type": "markdown",
   "id": "84d01ad9",
   "metadata": {},
   "source": [
    "In the cell below, assign the MD particles a velocity of 0 and the right\n",
    "mass using [Snapshot.particles](https://hoomd-blue.readthedocs.io/en/stable/hoomd/snapshot.html#hoomd.Snapshot.particles)."
   ]
  },
  {
   "cell_type": "code",
   "execution_count": null,
   "id": "19f4b0b7",
   "metadata": {},
   "outputs": [],
   "source": [
    "mass = 1\n",
    "density = 5\n",
    "kT = 1\n",
    "\n",
    "# Set velocity and mass using snapshot.particles"
   ]
  },
  {
   "cell_type": "markdown",
   "id": "15974f15",
   "metadata": {},
   "source": [
    "Then, we will add the MPCD particles to fill the box volume *V*. The number of\n",
    "MPCD particles to add is $N = \\rho V$. We follow essentially the same procedure\n",
    "as before, except that this time we read the box from the snapshot."
   ]
  },
  {
   "cell_type": "code",
   "execution_count": null,
   "id": "826d36c6",
   "metadata": {},
   "outputs": [],
   "source": [
    "box = hoomd.Box.from_box(snapshot.configuration.box)\n",
    "rng = numpy.random.default_rng(seed=42)\n",
    "\n",
    "snapshot.mpcd.types = [\"A\"]\n",
    "snapshot.mpcd.N = numpy.round(density * box.volume).astype(int)\n",
    "snapshot.mpcd.mass = mass\n",
    "snapshot.mpcd.position[:] = box.L * rng.uniform(\n",
    "    low=-0.5, high=0.5, size=(snapshot.mpcd.N, 3)\n",
    ")"
   ]
  },
  {
   "cell_type": "markdown",
   "id": "d08d4138",
   "metadata": {},
   "source": [
    "Also for the MPCD particles velocities, we do as before: draw from the distribution,\n",
    "force them to have a zero mean and then assign to `snapshot.mpcd.velocity`.\n",
    "\n",
    "Complete the cell below"
   ]
  },
  {
   "cell_type": "code",
   "execution_count": null,
   "id": "e56f64bf",
   "metadata": {},
   "outputs": [],
   "source": [
    "vel = rng.normal(loc=0.0, scale=numpy.sqrt(kT / mass), size=(snapshot.mpcd.N, 3))\n",
    "\n",
    "# Set velocities of MPCD particles."
   ]
  },
  {
   "cell_type": "markdown",
   "id": "8f360089",
   "metadata": {},
   "source": [
    "Snapshot is complete. Define the [simulation](https://hoomd-blue.readthedocs.io/en/stable/hoomd/simulation.html#hoomd.Simulation.create_state_from_snapshot) and create state from the snapshot.\n",
    "\n",
    "You can do this in the cell below. "
   ]
  },
  {
   "cell_type": "code",
   "execution_count": null,
   "id": "47c5d648",
   "metadata": {},
   "outputs": [],
   "source": [
    "simulation = None"
   ]
  },
  {
   "cell_type": "markdown",
   "id": "bd512133",
   "metadata": {},
   "source": [
    "Later, we are also going to need to know how many HOOMD particles make up a\n",
    "sphere and how many MPCD particles there are, so let's save that while we have\n",
    "the snapshot."
   ]
  },
  {
   "cell_type": "code",
   "execution_count": null,
   "id": "5862fc9a",
   "metadata": {},
   "outputs": [],
   "source": [
    "num_per_sphere = snapshot.particles.N\n",
    "num_MPCD = snapshot.mpcd.N"
   ]
  },
  {
   "cell_type": "markdown",
   "id": "f3723e50",
   "metadata": {},
   "source": [
    "## Configuring the MPCD integrator\n",
    "\n",
    "Since we have regular HOOMD particles that are embedded in our MPCD particles,\n",
    "we will need to configure both MD and MPCD options.\n",
    "\n",
    "### MD configuration\n",
    "\n",
    "We need to use a timestep that is suitable for MD. Here, we are going to be\n",
    "using stiff harmonic springs to hold the discrete sphere model together, so\n",
    "we select a small timestep of $0.002\\,\\tau$."
   ]
  },
  {
   "cell_type": "code",
   "execution_count": null,
   "id": "8a15f047",
   "metadata": {},
   "outputs": [],
   "source": [
    "integrator = hoomd.mpcd.Integrator(dt=0.002)\n",
    "simulation.operations.integrator = integrator"
   ]
  },
  {
   "cell_type": "markdown",
   "id": "50799a70",
   "metadata": {},
   "source": [
    "Since we only have one colloidal particle, we don't need a pair potential.\n",
    "However, we do need [bond potentials](https://hoomd-blue.readthedocs.io/en/stable/hoomd/md/bond/harmonic.html) to enforce the distances between the\n",
    "particles that make up the sphere. Based on experience, we use a stiff spring\n",
    "constant of $5000\\varepsilon/\\ell^2$ for all springs. We use our JSON file of\n",
    "lengths to setup the potential for all the different bond lengths we have."
   ]
  },
  {
   "cell_type": "code",
   "execution_count": null,
   "id": "c3ef40af",
   "metadata": {},
   "outputs": [],
   "source": [
    "with open(\"bond_lengths.json\") as f:\n",
    "    bond_lengths = json.load(f)\n",
    "\n",
    "harmonic = hoomd.md.bond.Harmonic()\n",
    "for bond_type, bond_length in bond_lengths.items():\n",
    "    harmonic.params[bond_type] = dict(k=5000.0, r0=bond_length)\n",
    "\n",
    "# append \"harmonic\" to the list of forces in the integrator\n",
    "integrator.forces.append(harmonic)"
   ]
  },
  {
   "cell_type": "markdown",
   "id": "157c546f",
   "metadata": {},
   "source": [
    "(If you are interested, confirm the timestep is sufficiently small for\n",
    "this spring constant by estimating the spring relaxation time.)\n",
    "\n",
    "To simulate sedimentation, we also need to put a\n",
    "[constant force](https://hoomd-blue.readthedocs.io/en/stable/hoomd/md/force/constant.html)\n",
    "on the particle. We distribute this force to all the particles in the sphere, arbitrarily\n",
    "choosing for it to move in the *x* direction. We are going to use a pretty large\n",
    "force to make it easier to measure the motion of the sphere. In real\n",
    "simulations, this force would probably be a lot smaller, especially if\n",
    "simulating a suspension of particles."
   ]
  },
  {
   "cell_type": "code",
   "execution_count": null,
   "id": "7fa835b2",
   "metadata": {},
   "outputs": [],
   "source": [
    "F = 40.\n",
    "all_ = hoomd.filter.All()\n",
    "sphere_force = hoomd.md.force.Constant(filter=all_)\n",
    "for i in (\"A\", \"A-constituent\"):\n",
    "    sphere_force.constant_force[i] = (F / num_per_sphere, 0, 0)\n",
    "\n",
    "# append \"sphere_force\" to the list of forces in the integrator\n",
    "integrator.forces.append(sphere_force)"
   ]
  },
  {
   "cell_type": "markdown",
   "id": "e6107a6c",
   "metadata": {},
   "source": [
    "As for the polymers, we will use a `ConstantVolume` [(NVE)](https://hoomd-blue.readthedocs.io/en/stable/hoomd/md/methods/constantvolume.html) integration method\n",
    "for the MD particles. \n",
    "\n",
    "Complete the first line of the cell below. "
   ]
  },
  {
   "cell_type": "code",
   "execution_count": null,
   "id": "f17f5c97",
   "metadata": {},
   "outputs": [],
   "source": [
    "nve = None \n",
    "\n",
    "integrator.methods.append(nve)"
   ]
  },
  {
   "cell_type": "markdown",
   "id": "58c689b3",
   "metadata": {},
   "source": [
    "### MPCD configuration\n",
    "\n",
    "Now that the base MD simulation is configured, we can setup the corresponding\n",
    "MPCD simulation. The collision method will be our standard SRD fluid\n",
    "(collision time $\\Delta t = 0.1\\tau$, collision angle $\\alpha = 130^\\circ$, and\n",
    "a thermostat to maintain constant temperature), but importantly, we now couple\n",
    "the constituent particles (on the surface) to the solvent here!"
   ]
  },
  {
   "cell_type": "code",
   "execution_count": null,
   "id": "63cf07cd",
   "metadata": {},
   "outputs": [],
   "source": [
    "integrator.collision_method = hoomd.mpcd.collide.StochasticRotationDynamics(\n",
    "    period=numpy.round(0.1 / integrator.dt).astype(int),\n",
    "    angle=130,\n",
    "    kT=kT,\n",
    "    embedded_particles=hoomd.filter.Type([\"A-constituent\"])\n",
    ")"
   ]
  },
  {
   "cell_type": "markdown",
   "id": "6e2f00a8",
   "metadata": {},
   "source": [
    "Like before, the streaming method will be\n",
    "[`Bulk`](https://hoomd-blue.readthedocs.io/en/stable/hoomd/mpcd/stream/bulk.html);\n",
    "however, this time we need to include a force acting on the solvent to model the sedimentation process. The system (colloid + fluid) should have a net force of zero, so the force on the\n",
    "sphere must be balanced by a force acting on all the MPCD particles. There is\n",
    "only one colloidal particle, so we can divide the applied force by the number\n",
    "of MPCD particles.\n",
    "\n",
    "MPCD particles only support a limited number of\n",
    "[body forces](https://hoomd-blue.readthedocs.io/en/stable/hoomd/mpcd/module-force.html),\n",
    "and these forces must be specified with the streaming method. We hence create the force and\n",
    "streaming method at the same time:"
   ]
  },
  {
   "cell_type": "code",
   "execution_count": null,
   "id": "cca87b4f",
   "metadata": {},
   "outputs": [],
   "source": [
    "solvent_force = hoomd.mpcd.force.ConstantForce((-F / num_MPCD, 0, 0))\n",
    "integrator.streaming_method = hoomd.mpcd.stream.Bulk(\n",
    "    period=integrator.collision_method.period,\n",
    "    mpcd_particle_force=solvent_force,\n",
    ")"
   ]
  },
  {
   "cell_type": "markdown",
   "id": "6d94b82c",
   "metadata": {},
   "source": [
    "Last, add the particle [sorter](https://hoomd-blue.readthedocs.io/en/stable/hoomd/mpcd/tune/particlesorter.html#hoomd.mpcd.tune.ParticleSorter) for performance.\n",
    "\n",
    "Fill in the cel below. You can set the `trigger` to be 20 times the collision\n",
    "period (`integrator.collision_method.period`)."
   ]
  },
  {
   "cell_type": "code",
   "execution_count": null,
   "id": "e8197dcc",
   "metadata": {},
   "outputs": [],
   "source": [
    "integrator.mpcd_particle_sorter = None"
   ]
  },
  {
   "cell_type": "markdown",
   "id": "b0f3c213",
   "metadata": {},
   "source": [
    "## Sedimentation\n",
    "\n",
    "### Calculating velocity\n",
    "\n",
    "We are now ready to sample the sedimentation velocity. We can do this by\n",
    "computing the average velocity of all the HOOMD particles that make up the\n",
    "colloid over time. You can implement this procedure yourself\n",
    "using NumPy, but it can be slow due to the large number of MPCD particles.\n",
    "We will use the [VelocityCompute](https://azplugins.readthedocs.io/en/stable/module-azplugins-compute.html#hoomd.azplugins.compute.VelocityCompute)\n",
    "from azplugins to do the same calculation. This compute evaluates the\n",
    "mass-averaged velocity of a group of HOOMD particles and/or the MPCD particles\n",
    "using the native particle data and the current device. You can then time-average\n",
    "the result of this calculation in Python.\n",
    "\n",
    "We will make two `VelocityCompute`s: one just for the colloid, and one for the\n",
    "entire system. The second should always have a velocity close to zero if we have\n",
    "balanced the forces correctly, so we will use this as a quick before/after\n",
    "sanity check!"
   ]
  },
  {
   "cell_type": "code",
   "execution_count": null,
   "id": "e2f3eb9f",
   "metadata": {},
   "outputs": [],
   "source": [
    "colloid_velocity = hoomd.azplugins.compute.VelocityCompute(filter=all_)\n",
    "all_velocity = hoomd.azplugins.compute.VelocityCompute(\n",
    "    filter=all_, include_mpcd_particles=True\n",
    ")\n",
    "simulation.operations.computes.extend([colloid_velocity, all_velocity])"
   ]
  },
  {
   "cell_type": "markdown",
   "id": "19d5a616",
   "metadata": {},
   "source": [
    "Before we start the simulation, we can check the values of both. We see they're\n",
    "both zero within floating-point error!"
   ]
  },
  {
   "cell_type": "code",
   "execution_count": null,
   "id": "b086eea5",
   "metadata": {},
   "outputs": [],
   "source": [
    "simulation.run(0)\n",
    "print(colloid_velocity.velocity)\n",
    "print(all_velocity.velocity)"
   ]
  },
  {
   "cell_type": "markdown",
   "id": "2f51f350",
   "metadata": {},
   "source": [
    "### Warmup\n",
    "\n",
    "Now, we need to run the simulation long enough that the colloidal particle\n",
    "reaches a steady-state velocity. Let's monitor the *x* component of its velocity\n",
    "in a sequence of short runs. This warmup will run for 1000 collisions ($100\\tau$)."
   ]
  },
  {
   "cell_type": "code",
   "execution_count": null,
   "id": "e2f737b9",
   "metadata": {},
   "outputs": [],
   "source": [
    "num_samples = 100\n",
    "num_steps_per_sample = 10 * integrator.collision_method.period\n",
    "times = numpy.zeros(num_samples, dtype=int)\n",
    "velocity = numpy.zeros(num_samples)\n",
    "for i in range(num_samples):\n",
    "    simulation.run(num_steps_per_sample)\n",
    "    times[i] = simulation.timestep * integrator.dt\n",
    "    velocity[i] = colloid_velocity.velocity[0]"
   ]
  },
  {
   "cell_type": "markdown",
   "id": "27fa319f",
   "metadata": {},
   "source": [
    "We see that the particle velocity quickly becomes nonzero, and it seems to be\n",
    "fluctuating around about $0.1\\ell/\\tau$ but with a pretty large spread. We\n",
    "should be able to get a decent average with frequent sampling, though."
   ]
  },
  {
   "cell_type": "code",
   "execution_count": null,
   "id": "380b8eb5",
   "metadata": {},
   "outputs": [],
   "source": [
    "fig = matplotlib.figure.Figure(figsize=(5, 3.09))\n",
    "ax = fig.add_subplot()\n",
    "\n",
    "# plot velocity vesus time\n",
    "\n",
    "ax.set_xlabel(r\"time ($\\tau$)\")\n",
    "ax.set_ylabel(r\"$U$ ($\\ell/\\tau$)\")\n",
    "fig"
   ]
  },
  {
   "cell_type": "markdown",
   "id": "57cb9076",
   "metadata": {},
   "source": [
    "As a sanity check, we confirm that the total velocity of the system is still\n",
    "close to zero:"
   ]
  },
  {
   "cell_type": "code",
   "execution_count": null,
   "id": "896872ff",
   "metadata": {},
   "outputs": [],
   "source": [
    "print(all_velocity.velocity)"
   ]
  },
  {
   "cell_type": "markdown",
   "id": "cf593f11",
   "metadata": {},
   "source": [
    "### Production\n",
    "\n",
    "Now that a steady-state has been reached, we can sample the colloid velocity\n",
    "frequently to compute an average. Due to the hybrid use of MD and MPCD, as well\n",
    "as the periodic nature of the MPCD collisions, it is a good idea to sample the\n",
    "velocity at different times relative to the collision. Sampling every collision\n",
    "period plus 1 timestep is an easy way to achieve this. We will sample for\n",
    "another 1000 collisions ($100\\tau$).\n",
    "\n",
    "You'll need to fill in the simulation details inside the loop."
   ]
  },
  {
   "cell_type": "code",
   "execution_count": null,
   "id": "76305767",
   "metadata": {},
   "outputs": [],
   "source": [
    "num_samples = 1_000\n",
    "num_steps_per_sample = integrator.collision_method.period + 1\n",
    "velocity = numpy.zeros(num_samples)\n",
    "for i in range(num_samples):\n",
    "    # fill in this loop like we did above to sample the velocity\n",
    "    pass"
   ]
  },
  {
   "cell_type": "markdown",
   "id": "39127563",
   "metadata": {},
   "source": [
    "Now, we calculate the average sedimentation velocity from the series of\n",
    "measurements we took. Use NumPy to calculate the mean of the array."
   ]
  },
  {
   "cell_type": "code",
   "execution_count": null,
   "id": "718df0af",
   "metadata": {},
   "outputs": [],
   "source": [
    "sedimentation_velocity = None\n",
    "print(f\"{sedimentation_velocity:.3e}\")"
   ]
  },
  {
   "cell_type": "markdown",
   "id": "4dd3f282",
   "metadata": {},
   "source": [
    "### Finite-size effects\n",
    "\n",
    "How does the simulated velocity compare to the theoretical expectation?"
   ]
  },
  {
   "cell_type": "code",
   "execution_count": null,
   "id": "506a030f",
   "metadata": {},
   "outputs": [],
   "source": [
    "dynamic_viscosity = 3.96\n",
    "diameter = 6\n",
    "drag_coefficient_theory = None  # use the expression given in the background section of this tutorial\n",
    "sedimentation_velocity_theory = F / drag_coefficient_theory\n",
    "print(f\"{sedimentation_velocity_theory:.3e}\")"
   ]
  },
  {
   "cell_type": "markdown",
   "id": "ea086dda",
   "metadata": {},
   "source": [
    "Uh oh, we're quite a bit under! One possible reason for this is the presence\n",
    "of *finite-size effects* on the sedimentation process. Due to the periodic\n",
    "boundary conditions, the velocity of a particle falling in an array of its\n",
    "periodic images is less than if the particle fell in isolation. For a single\n",
    "particle in a cubic box with edge length *L*, the finite-size correction to\n",
    "the sedimentation velocity $\\Delta U$ is:\n",
    "\n",
    "$$\n",
    "\\Delta U = \\xi \\frac{F}{6 \\pi \\mu L}\n",
    "$$\n",
    "\n",
    "where $\\xi = 2.837297$ is a constant specific to the cubic box geometry. The\n",
    "theoretical formulas from our introduction to MPCD give a dynamic viscosity of\n",
    "$\\mu = 3.96 \\varepsilon \\tau/\\ell^3$."
   ]
  },
  {
   "cell_type": "code",
   "execution_count": null,
   "id": "0e2a1430",
   "metadata": {},
   "outputs": [],
   "source": [
    "xi = 2.837297\n",
    "L = simulation.state.box.Lx\n",
    "sedimentation_velocity_corr = (\n",
    "    sedimentation_velocity\n",
    "    + xi * F / (6 * numpy.pi * dynamic_viscosity * L)\n",
    ")\n",
    "print(f\"{sedimentation_velocity_corr:.3e}\")"
   ]
  },
  {
   "cell_type": "markdown",
   "id": "d596d0a0",
   "metadata": {},
   "source": [
    "Much better! Finite-size effects can be surprisingly large. Now that we've\n",
    "corrected for them, the remaining differences might be due to limitations of the\n",
    "model, the applied force being too large, or statistics."
   ]
  },
  {
   "cell_type": "markdown",
   "id": "ba3c355a",
   "metadata": {},
   "source": [
    "## Additional activities\n",
    "\n",
    "1. MPCD conserves the center-of-mass velocity of the system. Based on your\n",
    "   measured sedimentation velocity, calculate the solvent velocity.\n",
    "2. The sedimentation velocity should be a linear function of the applied force,\n",
    "   provided the applied force is sufficiently small. Repeat the measurement at\n",
    "   a few different forces and make a plot to confirm this.\n",
    "3. Show that the finite-size effects decrease (increase) if you increase\n",
    "   (decrease) the box size in the initial snapshot. If you have enough time to\n",
    "   collect good measurements, prepare a plot of $U$ vs. $1/L$ to confirm it\n",
    "   follows the expected finite-size correction.\n",
    "4. Estimate the uncertainty in your measurements by conducting multiple\n",
    "   independent simulations with different seeds, and estimate the uncertainty\n",
    "   from the standard error of the mean between independent simulations.\n",
    "5. What happens if you increase the MD timestep?"
   ]
  }
 ],
 "metadata": {
  "kernelspec": {
   "display_name": "envhoomdv5",
   "language": "python",
   "name": "python3"
  },
  "language_info": {
   "codemirror_mode": {
    "name": "ipython",
    "version": 3
   },
   "file_extension": ".py",
   "mimetype": "text/x-python",
   "name": "python",
   "nbconvert_exporter": "python",
   "pygments_lexer": "ipython3",
   "version": "3.13.2"
  }
 },
 "nbformat": 4,
 "nbformat_minor": 5
}
