{
 "cells": [
  {
   "cell_type": "markdown",
   "id": "64f5e93c",
   "metadata": {},
   "source": [
    "# Coupling Polymers to MPCD Solvent\n",
    "\n",
    "In this session, we will couple a polymer model to MPCD solvent. \n",
    "\n",
    "## Overview\n",
    "\n",
    "### Questions\n",
    "\n",
    "- How do I couple a simple polymer model to MPCD?\n",
    "- How do hydrodynamic interactions change the diffusion of polymers?\n",
    "  \n",
    "### Objectives\n",
    "\n",
    "- Understand how to couple MD particles to MPCD solvent.\n",
    "- Set up a simple polymer simulation that now uses MPCD as solvent.\n",
    "- Compare simulations with MPCD (hydrodynamics) to Langevin (no hydrodynamics). \n",
    "\n",
    "## Boilerplate code"
   ]
  },
  {
   "cell_type": "code",
   "execution_count": 8,
   "id": "09d1ead3",
   "metadata": {},
   "outputs": [],
   "source": [
    "import freud\n",
    "import gsd.hoomd\n",
    "import hoomd\n",
    "import hoomd.azplugins\n",
    "import hoomd.mpcd\n",
    "import matplotlib\n",
    "import numpy \n",
    "import fresnel \n",
    "\n",
    "%matplotlib inline\n",
    "matplotlib.style.use(\"ggplot\")\n",
    "import matplotlib_inline\n",
    "\n",
    "matplotlib_inline.backend_inline.set_matplotlib_formats(\"svg\")\n",
    "\n",
    "def render(frame):\n",
    "    scene = fresnel.Scene()\n",
    "    geometry = fresnel.geometry.Sphere(scene, N=frame.particles.N)\n",
    "    geometry.material = fresnel.material.Material(color=fresnel.color.linear([0.01, 0.74, 0.26]), roughness=0.5)\n",
    "    geometry.position[:] = frame.particles.position\n",
    "    geometry.outline_width = 0.01\n",
    "    box = fresnel.geometry.Box(scene, frame.configuration.box,box_radius=0.01)\n",
    "    L = frame.configuration.box[0]\n",
    "    scene.camera = fresnel.camera.Perspective(position=(L*1.8, L*1.8, L * 2.2), look_at=(0, 0, 0), up=(0, 1, 0), height=0.28)\n",
    "\n",
    "    if frame.bonds.N>0:\n",
    "        geometry.radius[:] = [0.2]*frame.particles.N \n",
    "\n",
    "        all_bonds = numpy.stack(\n",
    "        [\n",
    "            frame.particles.position[frame.bonds.group[:, 0]],\n",
    "            frame.particles.position[frame.bonds.group[:, 1]],\n",
    "        ],\n",
    "        axis=1,\n",
    "        )\n",
    "        # Use a distance cutoff (L/2) to filter bonds that span the periodic boundary\n",
    "        bond_distances = numpy.linalg.norm(all_bonds[:,0,:]-all_bonds[:,1,:], axis=1)\n",
    "        L = frame.configuration.box[0]\n",
    "        bond_indices = numpy.where(bond_distances < L/2)[0]\n",
    "        filtered_bonds = all_bonds[bond_indices, :, :]\n",
    "        \n",
    "        bonds = fresnel.geometry.Cylinder(scene, N=len(filtered_bonds))\n",
    "        bonds.material = fresnel.material.Material(roughness=0.5)\n",
    "        bonds.outline_width = 0.05\n",
    "\n",
    "        bonds.points[:] = filtered_bonds\n",
    "        bonds.radius[:] = [0.1]*len(filtered_bonds)\n",
    "        bonds.material.primitive_color_mix = 1.0\n",
    "        bonds.color[:] = fresnel.color.linear([0.8, 0.8, 0.8])\n",
    "        \n",
    "    return fresnel.preview(scene)\n"
   ]
  },
  {
   "cell_type": "markdown",
   "id": "027bcb9e-ef7d-4ab3-8cff-07070cea6c00",
   "metadata": {},
   "source": [
    "## Background \n",
    "\n",
    "We will largely follow [Mussawisade, K., M. Ripoll, R. G. Winkler, and G. Gompper. \"Dynamics of polymers in a particle-based mesoscopic solvent.\" The Journal of chemical physics 123, no. 14 (2005)](http://doi.org/10.1063/1.2041527) for our model/parameter choices. "
   ]
  },
  {
   "cell_type": "markdown",
   "id": "d6c36974",
   "metadata": {},
   "source": [
    "## Initialization\n",
    "\n",
    "While we could simply set up the polymers as rods and make our box very large in the case of a simple non-interacting Gaussian chain with no solvent, this becomes more expensive when using MPCD. The box has to be filled with MPCD particles at the choosen density. For this reason, we have to be a bit more clever about how we initialize the polymer configuration. Often, it might also be desirable to kepp the box size (and/or concentration) fixed, while changing the polymer length. \n",
    "\n",
    "For this purpose, we will use a random walk to intialize the polymer positions instead of a straight rod: "
   ]
  },
  {
   "cell_type": "code",
   "execution_count": 9,
   "id": "96992451-bd49-4c59-bb10-7047a5bf752e",
   "metadata": {},
   "outputs": [],
   "source": [
    "def random_walk(N,origin):\n",
    "    vec = numpy.random.randn(3, N-1)\n",
    "    vec /= numpy.linalg.norm(vec, axis=0)\n",
    "    # concatenate the random numbers to make a polymer configuration\n",
    "    path = numpy.concatenate([origin.reshape(1,3), vec.T]).cumsum(0)\n",
    "    return path"
   ]
  },
  {
   "cell_type": "code",
   "execution_count": null,
   "id": "6c50d663-8372-42d3-ae8a-6fc35414ebdc",
   "metadata": {},
   "outputs": [],
   "source": [
    "num_pol = 10\n",
    "num_mon = 80\n",
    "n = 0 \n",
    "L = 25\n",
    "\n",
    "pos_pol = []\n",
    "while n<num_pol:\n",
    "    # draw a random walk starting from a random origin\n",
    "    origin = ...\n",
    "    d = random_walk(num_mon,....)\n",
    "    # check if monomers are inside of the box \n",
    "    if not(numpy.any(d > L/2) or numpy.any(d <-L/2)):\n",
    "        # if yes, add to position array, if no, keep going in while loop\n",
    "        pos_pol.append(...)\n",
    "        n+=1\n",
    "\n",
    "positions = ....\n",
    "bonds = ...\n",
    "\n",
    "frame = gsd.hoomd.Frame()\n",
    "frame.particles.types = ['monomers']\n",
    "frame.particles.N = ...\n",
    "frame.particles.position = ...\n",
    "frame.bonds.N = ..\n",
    "frame.bonds.group = ...\n",
    "frame.bonds.types = ['b']\n",
    "frame.configuration.box = [L, L, L, 0, 0, 0]"
   ]
  },
  {
   "cell_type": "markdown",
   "id": "7740439b",
   "metadata": {},
   "source": [
    "We want to make sure all the MD particles (monomers) have the right mass and no drift in\n",
    "their velocities. We set the mass of the MD particles to be the same as the mass\n",
    "of MPCD particles in a collision cell. The collisions cells have unit volume by\n",
    "default, so this mass is same as the number density, $\\rho = 5/\\ell^3$, times\n",
    "the MPCD particle mass *m*. We zero all the velocities of the MD particles, because we will draw the correct velocities for the MPCD particles later. The MPCD particles will then re-thermalize the MD particles very quickly."
   ]
  },
  {
   "cell_type": "code",
   "execution_count": null,
   "id": "19f4b0b7",
   "metadata": {},
   "outputs": [],
   "source": [
    "mass = 1\n",
    "density = 5\n",
    "kT = 1\n",
    "\n",
    "frame.particles.mass = [mass * density]*len(positions)\n",
    "frame.particles.velocity = [0,0,0]*len(positions)\n",
    "\n",
    "render(frame)"
   ]
  },
  {
   "cell_type": "markdown",
   "id": "487450f4-f7a2-4bb6-9245-d75b2ea1659b",
   "metadata": {},
   "source": [
    "Now we can add the MPCD particles. The `gsd.hoomd.Frame` does not have a field for the MPCD particles. Usually, you do **not** want to write all their positions or properties into gsd files anyway, because that tends to be a lot of data. To circumvent this issue, we will simply read in the MD (monomer) configuration into hoomd-blue, then immediately take a snapshot via `simulation.state.get_snapshot()`. To this `snapshot` object, we can then add the MPCD solvent information. \n",
    "\n",
    "Draw random uniform positions and velocities from the correct Maxwell Boltzman distribution for the MPCD particles: "
   ]
  },
  {
   "cell_type": "code",
   "execution_count": null,
   "id": "826d36c6",
   "metadata": {},
   "outputs": [],
   "source": [
    "# set up simulation\n",
    "# load frame \n",
    "# take snapshot \n",
    "... \n",
    "\n",
    "# set mpcd properties\n",
    "\n",
    "snapshot.mpcd.types = [\"A\"]\n",
    "snapshot.mpcd.N = ...\n",
    "snapshot.mpcd.mass = ...\n",
    "snapshot.mpcd.position[:] = ...\n",
    "snapshot.mpcd.velocity[:] =...\n",
    "\n",
    "# load modified snapshot containing MPCD particles \n",
    "simulation.state.set_snapshot(snapshot)\n"
   ]
  },
  {
   "cell_type": "markdown",
   "id": "f3723e50",
   "metadata": {},
   "source": [
    "## Configuring the MPCD integrator\n",
    "\n",
    "Since we have regular HOOMD particles that are embedded in our MPCD particles,\n",
    "we will need to configure both MD and MPCD options.\n",
    "\n",
    "### MD configuration\n",
    "\n",
    "We need to use a timestep that is suitable for MD. Here, we are going use a timestep of $0.01\\,\\tau$, following the original paper. If a simulation uses stiffer bonds or pair interactions, the timestep needs to be adjusted accordingly!"
   ]
  },
  {
   "cell_type": "code",
   "execution_count": null,
   "id": "8a15f047",
   "metadata": {},
   "outputs": [],
   "source": [
    "integrator = hoomd.mpcd.Integrator(dt=0.01)\n",
    "simulation.operations.integrator = integrator"
   ]
  },
  {
   "cell_type": "markdown",
   "id": "50799a70",
   "metadata": {},
   "source": [
    "Since we want to simulate the same polymer model as before, we only need to define harmonic springs as we did before. We rename the the root-mean-square bond length variable to $b$ (from $l$ used in the original paper), so that it doesn't conflict with the MPCD collison cell size $l$, which is the unit of length. "
   ]
  },
  {
   "cell_type": "code",
   "execution_count": null,
   "id": "c3ef40af",
   "metadata": {},
   "outputs": [],
   "source": [
    "# add harmonic potential to simulation (same model as for session 8)"
   ]
  },
  {
   "cell_type": "markdown",
   "id": "e6107a6c",
   "metadata": {},
   "source": [
    "We will use a `ConstantVolume` (NVE) integration method\n",
    "for the MD particles (monomers). They will be thermostatted through the MPCD particles, so **no** additional/seperate thermostat is needed for the MD particles. "
   ]
  },
  {
   "cell_type": "code",
   "execution_count": null,
   "id": "f17f5c97",
   "metadata": {},
   "outputs": [],
   "source": [
    "nve = hoomd.md.methods.ConstantVolume(filter=hoomd.filter.All())\n",
    "integrator.methods.append(nve)"
   ]
  },
  {
   "cell_type": "markdown",
   "id": "58c689b3",
   "metadata": {},
   "source": [
    "### MPCD configuration\n",
    "\n",
    "Now that the base MD simulation is configured, we can setup the corresponding\n",
    "MPCD simulation. The collision method will be our standard [SRD fluid](https://hoomd-blue.readthedocs.io/en/v5.3.1/hoomd/mpcd/collide/stochasticrotationdynamics.html)\n",
    "(collision time $\\Delta t = 0.1\\tau$, collision angle $\\alpha = 130^\\circ$, and\n",
    "a thermostat to maintain constant temperature), but **importantly, we now couple\n",
    "the MD particles (monomers) to the solvent via `embedded_particles`!** "
   ]
  },
  {
   "cell_type": "code",
   "execution_count": null,
   "id": "63cf07cd",
   "metadata": {},
   "outputs": [],
   "source": [
    "# copy the collision method from previous session, add \"embedded_particles\" \n",
    "..."
   ]
  },
  {
   "cell_type": "markdown",
   "id": "6e2f00a8",
   "metadata": {},
   "source": [
    "The streaming method will be `Bulk`:"
   ]
  },
  {
   "cell_type": "code",
   "execution_count": null,
   "id": "cca87b4f",
   "metadata": {},
   "outputs": [],
   "source": [
    "# copy streaming method \n",
    "..."
   ]
  },
  {
   "cell_type": "markdown",
   "id": "6d94b82c",
   "metadata": {},
   "source": [
    "Last, we make sure we don't forget our sorter for performance."
   ]
  },
  {
   "cell_type": "code",
   "execution_count": null,
   "id": "e8197dcc",
   "metadata": {},
   "outputs": [],
   "source": [
    "# copy particle sorter \n",
    "...."
   ]
  },
  {
   "cell_type": "markdown",
   "id": "b7399e80-2a7e-4df1-bfce-aa7b8e6d63b3",
   "metadata": {},
   "source": [
    "Now we can run the simulation. Like before, we equilibrate for 100,000 steps and then run for 5 million. We write the results into a gsd file named `'run_len_%s_pol_%s.gsd'%(num_mon,num_pol)`. Don't forget to record the images!"
   ]
  },
  {
   "cell_type": "code",
   "execution_count": null,
   "id": "b086eea5",
   "metadata": {},
   "outputs": [],
   "source": [
    "# Equilibrate \n",
    "\n",
    "simulation.run(100_000)\n",
    "\n",
    "# create and add GSD writer\n",
    "gsd_out = hoomd.write.GSD(\n",
    "    trigger=hoomd.trigger.Periodic(1_000), \n",
    "    mode='wb',\n",
    "    dynamic=['property','momentum'],\n",
    "    filename='run_len_%s_pol_%s.gsd'%(num_mon,num_pol))\n",
    "\n",
    "simulation.operations.writers.append(gsd_out)\n",
    "\n",
    "# run\n",
    "simulation.run(5_000_000)\n",
    "\n",
    "gsd_out.flush()\n",
    "render(simulation.state.get_snapshot())"
   ]
  },
  {
   "cell_type": "markdown",
   "id": "27fa319f",
   "metadata": {},
   "source": [
    "## Diffusion Coefficient \n",
    "\n",
    "Let's calculate the diffusion coefficient from the simulation. The code is the same as for \"Session 8: PBC -- dynamics\". Write a function that takes a `filename` and a `timestep` and returns arrays containing the lagtimes, all three MSDs (`msd1, msd2, msd3`), diffusion coefficient over time `D` and an average diffusion coefficient `av_D`. "
   ]
  },
  {
   "cell_type": "code",
   "execution_count": 37,
   "id": "e1630692-0210-4f22-97e9-9bc2b2c5654a",
   "metadata": {},
   "outputs": [],
   "source": [
    "def calculate_D(filename,timestep):\n",
    "    # add code \n",
    "    ...\n",
    "    return lagtimes, D, av_D, msd3, msd2, msd1"
   ]
  },
  {
   "cell_type": "markdown",
   "id": "434db8c2-ae68-4adf-896d-e9df195ed156",
   "metadata": {},
   "source": [
    "For the one simulation you have done above, plot the results. Plot all three MSDs in one panel, and the diffusion coefficient over time. Do you need to ajust your `fit_range` choice in the above function? "
   ]
  },
  {
   "cell_type": "code",
   "execution_count": null,
   "id": "7e59c923-4cd5-4999-a1f3-8ae540d1bc46",
   "metadata": {},
   "outputs": [],
   "source": [
    "# add code (same as Session 8)\n",
    "...."
   ]
  },
  {
   "cell_type": "markdown",
   "id": "9e6cfe48-0622-4a75-9429-c4a8584add4a",
   "metadata": {},
   "source": [
    "Repeat your simulation for a few chain lengths between 20 and 80. Plot all $MSD(t)$ and $D(t)$ results:"
   ]
  },
  {
   "cell_type": "code",
   "execution_count": null,
   "id": "244aa7a4-f27d-471b-bb7c-0b5b106f4272",
   "metadata": {},
   "outputs": [],
   "source": [
    "# add code (either re-execute simulation cell from above (don't forget to re-initialize the frame!) or copy paste the simulation code here and change the chain length. \n",
    ".... "
   ]
  },
  {
   "cell_type": "markdown",
   "id": "e6c73fdc-d779-4725-b4f3-118cf5f034a5",
   "metadata": {},
   "source": [
    "For convinience, there is a file called \"mpcd-gaussian-D-Rg.txt\" that contains chain lengths `N`, `av_D`, and `Rg` values for this model. Compute average diffusion constants for all simulations you have done and compare them to the results in this file. What **scaling** do they follow? What is the theoretical expectation? *Hint:* Look up Zimm model. **Compare the MPCD simulation results to the Langevin simulation results**.  "
   ]
  },
  {
   "cell_type": "code",
   "execution_count": null,
   "id": "5028e2ba-efc4-49d1-a876-49e99acf2ffb",
   "metadata": {},
   "outputs": [],
   "source": [
    "# add code (Same as in Session 8, just the file name is different) \n",
    "# also re-plot your results from Session 8 to compare\n",
    "....\n"
   ]
  },
  {
   "cell_type": "markdown",
   "id": "b630a032-9cd1-433f-aee1-3d10f0e9f473",
   "metadata": {},
   "source": [
    "## Additions \n",
    "\n",
    "1. Compare the radius of gyration of the Gaussian model with and without hydrodynamics. Do you expect a difference?\n",
    "2. The diffusion coefficients not only show different scaling, but also have different absolute values. What parameters could we change to influence the diffusion coefficient in each case?\n",
    "3. Implement a model that uses MPCD and has excluded-volume interactions. What do we need to change? How would we set up the polymer chains? How do we tune the solvent quality in such a model? "
   ]
  },
  {
   "cell_type": "code",
   "execution_count": null,
   "id": "5a0d6ba3-fe5b-4521-b5bb-deed110bf4c0",
   "metadata": {},
   "outputs": [],
   "source": []
  }
 ],
 "metadata": {
  "kernelspec": {
   "display_name": "Python 3 (ipykernel)",
   "language": "python",
   "name": "python3"
  },
  "language_info": {
   "codemirror_mode": {
    "name": "ipython",
    "version": 3
   },
   "file_extension": ".py",
   "mimetype": "text/x-python",
   "name": "python",
   "nbconvert_exporter": "python",
   "pygments_lexer": "ipython3",
   "version": "3.11.8"
  }
 },
 "nbformat": 4,
 "nbformat_minor": 5
}
