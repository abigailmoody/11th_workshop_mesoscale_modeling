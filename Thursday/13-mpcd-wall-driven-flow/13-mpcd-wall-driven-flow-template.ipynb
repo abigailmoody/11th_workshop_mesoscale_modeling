{
 "cells": [
  {
   "cell_type": "markdown",
   "id": "fc7bc11c",
   "metadata": {},
   "source": [
    "# Wall-driven flow between parallel plates\n",
    "\n",
    "## Overview\n",
    "\n",
    "### Questions\n",
    "\n",
    "- How do I setup and confine an MPCD fluid between parallel plates?\n",
    "- How do I measure a flow field in particle-based simulations?\n",
    "- How do different bounce-back schemes affect flow?\n",
    "- How does grid shifting change the behavior of the MPCD algorithm?\n",
    "\n",
    "### Objectives\n",
    "\n",
    "- Demonstrate how to initialize MPCD particles between parallel plates using a\n",
    "  **Snapshot**.\n",
    "- Show how to include a confining **Geometry** in both the MPCD streaming and\n",
    "  collision steps.\n",
    "- Demonstrate how to simulate and measure wall-driven shear flow.\n",
    "- Explain the difference between slip and no-slip boundary conditions.\n",
    "- Explain the importance of grid shifting (Galilean invariance) in the MPCD\n",
    "  algorithm.\n",
    "\n",
    "## Boilerplate code"
   ]
  },
  {
   "cell_type": "code",
   "execution_count": null,
   "id": "8b742d78",
   "metadata": {},
   "outputs": [],
   "source": [
    "import hoomd\n",
    "import hoomd.azplugins\n",
    "import hoomd.mpcd\n",
    "import matplotlib\n",
    "import numpy\n",
    "\n",
    "%matplotlib inline\n",
    "matplotlib.style.use(\"ggplot\")\n",
    "import matplotlib_inline\n",
    "\n",
    "matplotlib_inline.backend_inline.set_matplotlib_formats(\"svg\")"
   ]
  },
  {
   "cell_type": "markdown",
   "id": "4453481f",
   "metadata": {},
   "source": [
    "## Background\n",
    "\n",
    "Wall-driven flow is created when a fluid is in contact with a moving surface. We\n",
    "typically assume that the fluid will have \"no slip\" relative to the surface such\n",
    "that it is required to move with the same velocity.\n",
    "\n",
    "Let's suppose we have parallel plates at $y = \\pm H$ with normals in the *y*\n",
    "direction. We will make these walls move in opposite directions, with a fixed\n",
    "velocity $U$ in $+x$ on the \"top\" wall and $-U$ in $-x$ on the \"bottom\" wall.\n",
    "The motion of the walls should generate a flow in only the *x* direction that\n",
    "depends only on *y*. Assuming the MPCD particles act as an incompressible\n",
    "Newtonian fluid, the momentum balance that governs the flow, which is a\n",
    "second-order ordinary differential equation, is:\n",
    "\n",
    "$$\n",
    "\\mu \\frac{{\\rm d}^2 u_x}{{\\rm d}y^2} = 0\n",
    "$$\n",
    "\n",
    "where $\\mu$ is the dynamic viscosity and $u_x$ is the velocity in the *x*\n",
    "direction. The general solution to this differential equation is:\n",
    "\n",
    "$$\n",
    "u_x = c_1 y + c_2\n",
    "$$\n",
    "\n",
    "where $c_1$ and $c_2$ are unknown coefficients. No slip at the boundaries means\n",
    "that $u_x(\\pm H) = \\pm U$, so applying these conditions and solving for $c_1$\n",
    "and $c_2$ gives:\n",
    "\n",
    "$$\n",
    "u_x(y) = U \\frac{y}{H}, \\quad -H \\le y \\le H\n",
    "$$\n",
    "\n",
    "This type of flow is sometimes called simple shear or planar Couette flow.\n",
    "Let's see if MPCD produces this result!\n",
    "\n",
    "## Initialization\n",
    "\n",
    "The MPCD particles will be initialized using a `Snapshot`. We will place the\n",
    "particles between two [ParallelPlates](https://hoomd-blue.readthedocs.io/en/stable/hoomd/mpcd/geometry/parallelplates.html)\n",
    "with separation distance $2 H = 20\\ell$. The plates are infinite in the *x* and\n",
    "*z* directions, so periodic boundaries will be used in these directions. We\n",
    "choose the extent in the periodic directions to be $L = 25\\ell$.\n",
    "\n",
    "The simulation box will need to be padded in the *y* direction to account for\n",
    "the collision cells wrapping through the *y* periodic boundary. The collision\n",
    "cells have unit length by default, so a a padding of $4\\ell$ (2 cells on each\n",
    "side) should be sufficient."
   ]
  },
  {
   "cell_type": "code",
   "execution_count": null,
   "id": "a98e6808",
   "metadata": {},
   "outputs": [],
   "source": [
    "H = 10\n",
    "L = 25\n",
    "padding = 4\n",
    "snapshot = hoomd.Snapshot()\n",
    "snapshot.configuration.box = [L, 2 * H + padding, L, 0, 0, 0]"
   ]
  },
  {
   "cell_type": "markdown",
   "id": "a366dee1",
   "metadata": {},
   "source": [
    "The MPCD particle positions will be randomly drawn between the parallel plates\n",
    "at a target number density $\\rho = 5/\\ell^3$. All particles will use the default\n",
    "typeid (0), which we will call \"A\", and default mass (1). The number of\n",
    "particles *N* can be computed using the density, $N = \\rho V$ where $V = 2 H\n",
    "L^2$ is the volume between the parallel plates. Note that this volume is **not**\n",
    "the same as the total volume of the simulation box because we don't want to put\n",
    "particles outside the walls. The particle velocities also need to be initialized\n",
    "from the Maxwell-Boltzmann distribution with $T = \\varepsilon/k_{\\rm B}$."
   ]
  },
  {
   "cell_type": "markdown",
   "id": "e33e6821",
   "metadata": {},
   "source": [
    "In the cell below, complete the snapshot with the\n",
    "[mpcd property data](https://hoomd-blue.readthedocs.io/en/stable/hoomd/snapshot.html#hoomd.Snapshot.mpcd). "
   ]
  },
  {
   "cell_type": "code",
   "execution_count": null,
   "id": "9772030f",
   "metadata": {},
   "outputs": [],
   "source": [
    "mass = 1\n",
    "density = 5\n",
    "kT = 1\n",
    "rng = numpy.random.default_rng(seed=42)\n",
    "\n",
    "# set mpcd particle types for the snapshot\n",
    "# set number of mpcd particles\n",
    "# set mpcd mass \n",
    "# set inital positions, draw from rng.uniform(...)\n",
    "\n",
    "velocity = rng.normal(0.0, numpy.sqrt(kT / mass), (snapshot.mpcd.N, 3))\n",
    "velocity -= numpy.mean(velocity, axis=0)\n",
    "snapshot.mpcd.velocity[:] = velocity"
   ]
  },
  {
   "cell_type": "markdown",
   "id": "3165e90a",
   "metadata": {},
   "source": [
    "The simulation can now be initialized from the snapshot."
   ]
  },
  {
   "cell_type": "code",
   "execution_count": null,
   "id": "e4ed5962",
   "metadata": {},
   "outputs": [],
   "source": [
    "simulation = hoomd.Simulation(device=hoomd.device.auto_select(), seed=1)\n",
    "simulation.create_state_from_snapshot(snapshot)"
   ]
  },
  {
   "cell_type": "markdown",
   "id": "75decc88",
   "metadata": {},
   "source": [
    "## Configuring the MPCD integrator\n",
    "\n",
    "We now need to setup an MPCD integrator for our particles that will respect the\n",
    "walls we have put in place. We will use the SRD collision with timestep\n",
    "$\\Delta t = 0.1\\,\\tau$, collision angle $\\alpha = 130^\\circ$, and a thermostat\n",
    "to maintain constant temperature."
   ]
  },
  {
   "cell_type": "code",
   "execution_count": null,
   "id": "79cf55f0",
   "metadata": {},
   "outputs": [],
   "source": [
    "integrator = hoomd.mpcd.Integrator(dt=0.1)\n",
    "integrator.collision_method = hoomd.mpcd.collide.StochasticRotationDynamics(\n",
    "    period=1, angle=130, kT=kT\n",
    ")\n",
    "integrator.mpcd_particle_sorter = hoomd.mpcd.tune.ParticleSorter(\n",
    "    trigger=20 * integrator.collision_method.period\n",
    ")\n",
    "simulation.operations.integrator = integrator"
   ]
  },
  {
   "cell_type": "markdown",
   "id": "10307e7d",
   "metadata": {},
   "source": [
    "This looks the same as for our bulk simulations! The first difference is that\n",
    "now we need to setup the streaming method to account for the walls. First,\n",
    "we create a [**ParallelPlates**](https://hoomd-blue.readthedocs.io/en/stable/hoomd/mpcd/geometry/parallelplates.html)\n",
    "object to represent our boundaries. The surfaces should have **no-slip boundary conditions**.\n",
    "\n",
    "Fill in the arguments needed to construct the right `ParallelPlates`."
   ]
  },
  {
   "cell_type": "code",
   "execution_count": null,
   "id": "fdfb534a",
   "metadata": {},
   "outputs": [],
   "source": [
    "U = 0.5 # wall speed\n",
    "plates = hoomd.mpcd.geometry.ParallelPlates()"
   ]
  },
  {
   "cell_type": "markdown",
   "id": "08bf160e",
   "metadata": {},
   "source": [
    "For the second difference from bulk, we now create a bounce-back integrator\n",
    "that will enforce the geometry on the motion of the MPCD particles during streaming.\n",
    "Bounce back refers to the approach used to change the particle velocities when they\n",
    "hit the boundary during streaming. For no-slip boundary conditions, the velocity\n",
    "relative to the wall velocity is reversed."
   ]
  },
  {
   "cell_type": "markdown",
   "id": "19b34286",
   "metadata": {},
   "source": [
    "Follow the description in the [documentation](https://hoomd-blue.readthedocs.io/en/stable/hoomd/mpcd/stream/bounceback.html) to set this up in the cell below. `period` should be one and `geometry` is the `plates` object defined above. "
   ]
  },
  {
   "cell_type": "code",
   "execution_count": null,
   "id": "a745b4ea",
   "metadata": {},
   "outputs": [],
   "source": [
    "integrator.streaming_method = hoomd.mpcd.stream.BounceBack()"
   ]
  },
  {
   "cell_type": "markdown",
   "id": "54c406f5",
   "metadata": {},
   "source": [
    "In addition to using a bounce-back streaming method, we also need to add a\n",
    "[GeometryFiller](https://hoomd-blue.readthedocs.io/en/stable/hoomd/mpcd/fill/geometryfiller.html)\n",
    "to add virtual particles to the collision cells that are sliced by the solid\n",
    "boundary. This filler helps prevent underfilling of these cells, which can\n",
    "produce undesirable results near these boundaries."
   ]
  },
  {
   "cell_type": "code",
   "execution_count": null,
   "id": "a416fba9",
   "metadata": {},
   "outputs": [],
   "source": [
    "filler = hoomd.mpcd.fill.GeometryFiller(\n",
    "    type=\"A\", density=density, kT=kT, geometry=plates\n",
    ")\n",
    "integrator.virtual_particle_fillers.append(filler)"
   ]
  },
  {
   "cell_type": "markdown",
   "id": "0f78c194",
   "metadata": {},
   "source": [
    "## Particle distribution\n",
    "\n",
    "Let's check to make sure our simulation was setup correctly! First, we can use\n",
    "[BounceBack.check_mpcd_particles](https://hoomd-blue.readthedocs.io/en/stable/hoomd/mpcd/stream/bounceback.html#hoomd.mpcd.stream.BounceBack.check_mpcd_particles)\n",
    "to make sure we placed all our particles correctly to start. We need to do a\n",
    "`run(0)` to make sure everything is initialized first."
   ]
  },
  {
   "cell_type": "code",
   "execution_count": null,
   "id": "e37fe9b3",
   "metadata": {},
   "outputs": [],
   "source": [
    "simulation.run(0)\n",
    "print(integrator.streaming_method.check_mpcd_particles())"
   ]
  },
  {
   "cell_type": "markdown",
   "id": "12021b1c",
   "metadata": {},
   "source": [
    "Now, let's run a couple steps and check again:"
   ]
  },
  {
   "cell_type": "code",
   "execution_count": null,
   "id": "ec663af1",
   "metadata": {},
   "outputs": [],
   "source": [
    "simulation.run(10)\n",
    "print(integrator.streaming_method.check_mpcd_particles())"
   ]
  },
  {
   "cell_type": "markdown",
   "id": "ced1b780",
   "metadata": {},
   "source": [
    "If we want to be really sure ourselves, we can also check the *y* coordinates of\n",
    "all the MPCD particles. [Get a snapshot](https://hoomd-blue.readthedocs.io/en/stable/hoomd/state.html#hoomd.State.get_snapshot)\n",
    "and use NumPy to check that all the *y* coordinates are between $-H$ and $H$."
   ]
  },
  {
   "cell_type": "code",
   "execution_count": null,
   "id": "687487e1",
   "metadata": {},
   "outputs": [],
   "source": [
    "snapshot = simulation.state.get_snapshot()"
   ]
  },
  {
   "cell_type": "markdown",
   "id": "abd921f3",
   "metadata": {},
   "source": [
    "## Velocity field\n",
    "\n",
    "### Warmup\n",
    "\n",
    "Now that we are sure we have the particles setup correctly, we need to run the\n",
    "simulation long enough to establish the steady-state flow field. We started our\n",
    "particles from rest, and it takes a finite amount of time for momentum to\n",
    "propagate through the MPCD particles. We can monitor the kinetic energy of the\n",
    "particles in the flow direction as a proxy for when the flow has developed.\n",
    "\n",
    "HOOMD does not currently compute the kinetic energy of MPCD particles for us,\n",
    "so we need to do it ourselves. We'll use a sequence of short runs, calculating\n",
    "the kinetic energy in between."
   ]
  },
  {
   "cell_type": "code",
   "execution_count": null,
   "id": "4c79efb0",
   "metadata": {},
   "outputs": [],
   "source": [
    "num_samples = 100\n",
    "num_steps_per_sample = 10\n",
    "times = numpy.zeros(num_samples, dtype=int)\n",
    "kinetic_energy = numpy.zeros(num_samples)\n",
    "for i in range(num_samples):\n",
    "    simulation.run(num_steps_per_sample)\n",
    "\n",
    "    snapshot = simulation.state.get_snapshot()\n",
    "    times[i] = simulation.timestep * integrator.dt\n",
    "    kinetic_energy[i] = (\n",
    "        0.5 * snapshot.mpcd.mass * numpy.sum(snapshot.mpcd.velocity[:, 0]**2)\n",
    "    )"
   ]
  },
  {
   "cell_type": "markdown",
   "id": "41d6a5b1",
   "metadata": {},
   "source": [
    "We see that the kinetic energy is leveling off by the end of this \"warmup\"\n",
    "period, so we are now ready to make some measurements."
   ]
  },
  {
   "cell_type": "code",
   "execution_count": null,
   "id": "461dbb63",
   "metadata": {},
   "outputs": [],
   "source": [
    "fig = matplotlib.figure.Figure(figsize=(5, 3.09))\n",
    "ax = fig.add_subplot()\n",
    "ax.plot(times, kinetic_energy)\n",
    "ax.set_xlabel(r\"time ($\\tau$)\")\n",
    "ax.set_ylabel(r\"$x$ kinetic energy ($\\varepsilon$)\")\n",
    "fig"
   ]
  },
  {
   "cell_type": "markdown",
   "id": "3a6f59bb",
   "metadata": {},
   "source": [
    "*Question*: what do you expect the kinetic energy to be at the start of the\n",
    "simulation? At steady-state? (Note: this requires statistical mechanics to\n",
    "answer.)\n",
    "\n",
    "### Production\n",
    "\n",
    "We are now ready to sample the velocity field. We can do this by binning the\n",
    "particles based on their position, then averaging the velocities of particles\n",
    "in each bin. If we repeat this enough times, we will get a measured *average*\n",
    "velocity field representing the flow. You can implement this procedure yourself\n",
    "using NumPy, but it can be slow due to the large number of MPCD particles.\n",
    "We will use the [CartesianVelocityFieldCompute](https://azplugins.readthedocs.io/en/stable/module-azplugins-compute.html#hoomd.azplugins.compute.CartesianVelocityFieldCompute)\n",
    "from azplugins to do the same calculation. This compute does the binning on\n",
    "the native particle data using the current device. You can then time-average the\n",
    "result of this calculation in Python.\n",
    "\n",
    "To configure this compute, we need to choose a size for our bins. Let's use a\n",
    "bin spacing of $\\Delta y = 0.5\\ell$ as a first guess. The number of bins we\n",
    "need to cover the space between the walls is then $2H / \\Delta y$. We don't\n",
    "want to bin in the *x* or *z* directions, so we tell this compute to ignore\n",
    "those directions (and average over them) by setting the number of bins to zero\n",
    "for each."
   ]
  },
  {
   "cell_type": "markdown",
   "id": "793fb10c",
   "metadata": {},
   "source": [
    "Follow the example at [CartesianVelocityFieldCompute](https://azplugins.readthedocs.io/en/stable/module-azplugins-compute.html#hoomd.azplugins.compute.CartesianVelocityFieldCompute) \n",
    "to complete the cell below. Since we have only MPCD particles in the system, `include_mpcd_particles` should be set to `True` and `filter` can be left at default."
   ]
  },
  {
   "cell_type": "code",
   "execution_count": null,
   "id": "d19cd5ca",
   "metadata": {},
   "outputs": [],
   "source": [
    "bin_size = 0.5\n",
    "num_bins = numpy.round((2 * H) / bin_size).astype(int)\n",
    "velocity_field = hoomd.azplugins.CartesianVelocityFieldCompute()"
   ]
  },
  {
   "cell_type": "markdown",
   "id": "9eebc8ed",
   "metadata": {},
   "source": [
    "We must append this compute to the operations."
   ]
  },
  {
   "cell_type": "code",
   "execution_count": null,
   "id": "d16f7bb6",
   "metadata": {},
   "outputs": [],
   "source": [
    "simulation.operations.computes.append(velocity_field)"
   ]
  },
  {
   "cell_type": "markdown",
   "id": "b8780663",
   "metadata": {},
   "source": [
    "Now, we can run another sequence of simulations to compute the average velocity\n",
    "field!"
   ]
  },
  {
   "cell_type": "code",
   "execution_count": null,
   "id": "7589df59",
   "metadata": {},
   "outputs": [],
   "source": [
    "num_samples = 500\n",
    "num_steps_per_sample = 10\n",
    "for i in range(num_samples):\n",
    "    simulation.run(num_steps_per_sample)\n",
    "\n",
    "    # size the array the first time\n",
    "    if i == 0:\n",
    "        avg_velocity_field = numpy.zeros(velocity_field.velocities.shape)\n",
    "\n",
    "    # accumulate x velocity\n",
    "    avg_velocity_field += velocity_field.velocities\n",
    "avg_velocity_field /= num_samples"
   ]
  },
  {
   "cell_type": "markdown",
   "id": "3c9b0f39",
   "metadata": {},
   "source": [
    "Let's look at a plot of all 3 components of the velocity as a function of *y*.\n",
    "We expect $u_y$ and $u_z$ to both be zero, but $u_x$ should follow the expected\n",
    "form. We see that the simulations appear to be pretty close to expectations!"
   ]
  },
  {
   "cell_type": "code",
   "execution_count": null,
   "id": "57c6e71b",
   "metadata": {},
   "outputs": [],
   "source": [
    "fig = matplotlib.figure.Figure(figsize=(5, 3.09))\n",
    "ax = fig.add_subplot()\n",
    "\n",
    "# simulated flow field\n",
    "ax.plot(velocity_field.coordinates, avg_velocity_field, label=[\"$x$\", \"$y$\", \"$z$\"])\n",
    "\n",
    "# theoretical flow field\n",
    "y_theory = None  # generate an array of y-coordinates ranging from -H to H\n",
    "u_theory = None  # type the simple shear or planar Couette flow equation derived in the backgound section above\n",
    "ax.plot(y_theory, u_theory, \"k--\")\n",
    "\n",
    "ax.set_xlabel(r\"$y$ ($\\ell$)\")\n",
    "ax.set_xlim([-H, H])\n",
    "ax.set_ylabel(r\"$u_i$ ($\\ell/\\tau$)\")\n",
    "ax.set_ylim([-U, U])\n",
    "ax.legend()\n",
    "fig"
   ]
  },
  {
   "cell_type": "markdown",
   "id": "f75e9dad",
   "metadata": {},
   "source": [
    "## Grid shifting\n",
    "\n",
    "When the particle mean free path (proportional to collision time) is short\n",
    "compared to the size of a collision cell, it is necessary to randomly shift the\n",
    "MPCD collision cells. The consequences of not doing so are especially apparent\n",
    "in flow simulations! Let's demonstrate. First, we disable grid shifting (on by\n",
    "default in HOOMD) and run for another warm up period."
   ]
  },
  {
   "cell_type": "code",
   "execution_count": null,
   "id": "0f0aef13",
   "metadata": {},
   "outputs": [],
   "source": [
    "simulation.operations.integrator.cell_list.shift = False\n",
    "simulation.run(1_000)"
   ]
  },
  {
   "cell_type": "markdown",
   "id": "19c2f917",
   "metadata": {},
   "source": [
    "Now, we repeat the sampling of the flow field. Fill in the simulation loop to\n",
    "be like we had above to average the velocity field"
   ]
  },
  {
   "cell_type": "code",
   "execution_count": null,
   "id": "78e9d26f",
   "metadata": {},
   "outputs": [],
   "source": [
    "num_samples = 500\n",
    "num_steps_per_sample = 10\n",
    "for i in range(num_samples):\n",
    "    # run simulation and sample\n",
    "    pass"
   ]
  },
  {
   "cell_type": "markdown",
   "id": "e30b13cb",
   "metadata": {},
   "source": [
    "Let's look at $u_x(y)$ again. Instead of being linear, it now looks like a\n",
    "staircase! The size of the steps is related to the size of the collision cells.\n",
    "This unphysical result is one consequence of breaking what is called\n",
    "[Galilean invariance](https://en.wikipedia.org/wiki/Galilean_invariance) in\n",
    "Newtownian mechanics!"
   ]
  },
  {
   "cell_type": "code",
   "execution_count": null,
   "id": "5a048410",
   "metadata": {},
   "outputs": [],
   "source": [
    "fig = matplotlib.figure.Figure(figsize=(5, 3.09))\n",
    "ax = fig.add_subplot()\n",
    "\n",
    "ax.plot(velocity_field.coordinates, avg_velocity_field[:, 0])\n",
    "\n",
    "ax.set_xlabel(r\"$y$ ($\\ell$)\")\n",
    "ax.set_xlim([-H, H])\n",
    "ax.set_ylabel(r\"$u_x$ ($\\ell/\\tau$)\")\n",
    "ax.set_ylim([-U, U])\n",
    "fig"
   ]
  },
  {
   "cell_type": "markdown",
   "id": "07aa37a3",
   "metadata": {},
   "source": [
    "## Additional activities\n",
    "\n",
    "1. Fit the simulated velocity field with no-slip boundary conditions and grid\n",
    "   shifting enabled. What is its slope, and how close is it to theoretical\n",
    "   expectations? What might be the cause of any differences?\n",
    "2. What happens to the velocity field if you remove the virtual particle filler?\n",
    "3. What happens to the velocity field if you switch to slip boundary conditions\n",
    "   and why?\n",
    "4. What happens to the velocity field you measure if you increase or decrease\n",
    "   the bin size? How would you select a bin size? What are the tradeoffs?\n"
   ]
  }
 ],
 "metadata": {
  "kernelspec": {
   "display_name": "envhoomdv5",
   "language": "python",
   "name": "python3"
  },
  "language_info": {
   "codemirror_mode": {
    "name": "ipython",
    "version": 3
   },
   "file_extension": ".py",
   "mimetype": "text/x-python",
   "name": "python",
   "nbconvert_exporter": "python",
   "pygments_lexer": "ipython3",
   "version": "3.13.2"
  }
 },
 "nbformat": 4,
 "nbformat_minor": 5
}
