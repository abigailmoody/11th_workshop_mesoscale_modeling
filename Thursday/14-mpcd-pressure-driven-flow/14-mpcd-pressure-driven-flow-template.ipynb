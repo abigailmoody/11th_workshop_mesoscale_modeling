{
 "cells": [
  {
   "cell_type": "markdown",
   "id": "c644b6a5",
   "metadata": {},
   "source": [
    "# Pressure-driven flow between parallel plates\n",
    "\n",
    "## Overview\n",
    "\n",
    "### Questions\n",
    "\n",
    "- How can pressure-driven flow between parallel plates be simulated with MPCD?\n",
    "- How can pressure-driven flow simulations be used to measure fluid properties?\n",
    "\n",
    "### Objectives\n",
    "\n",
    "- Demonstrate how to simulate and analyze pressure-driven flow.\n",
    "- Describe wall slip and be able to identify it in simulation data.\n",
    "- Explain how to extract the shear viscosity for a Newtonian fluid from a\n",
    "  simulation of pressure-driven flow between parallel plates.\n",
    "\n",
    "## Boilerplate code"
   ]
  },
  {
   "cell_type": "code",
   "execution_count": null,
   "id": "f2ef5282",
   "metadata": {},
   "outputs": [],
   "source": [
    "import hoomd\n",
    "import hoomd.azplugins\n",
    "import hoomd.mpcd\n",
    "import matplotlib\n",
    "import numpy\n",
    "import scipy.optimize\n",
    "\n",
    "%matplotlib inline\n",
    "matplotlib.style.use(\"ggplot\")\n",
    "import matplotlib_inline\n",
    "\n",
    "matplotlib_inline.backend_inline.set_matplotlib_formats(\"svg\")"
   ]
  },
  {
   "cell_type": "markdown",
   "id": "ec174dfe",
   "metadata": {},
   "source": [
    "## Background\n",
    "\n",
    "Pressure-driven flow is created when a pressure gradient or force is applied to\n",
    "the fluid. The classic example of this type of flow is pressure-driven flow\n",
    "between parallel plates with no-slip boundary conditions, also called Poiseuille\n",
    "flow or parabolic flow.\n",
    "\n",
    "If the parallel plates are at $y = \\pm H$ and a constant force $f_x$ is applied\n",
    "to all MPCD particles in the $x$ direction, we expect the particles to flow in\n",
    "only the *x* direction. Assuming the MPCD particles act as an incompressible\n",
    "Newtonian fluid, the momentum balance that governs the flow, which is a\n",
    "second-order ordinary differential equation, is:\n",
    "\n",
    "$$\n",
    "\\mu \\frac{{\\rm d}^2 u_x}{{\\rm d}y^2} + \\rho f_x = 0\n",
    "$$\n",
    "\n",
    "where $\\mu$ is the dynamic viscosity, $u_x$ is the velocity in the *x* direction,\n",
    "and $\\rho$ is the number density. The general solution to this differential\n",
    "equation is:\n",
    "\n",
    "$$\n",
    "u_x = -\\frac{\\rho f_x}{2 \\mu} y^2 + c_1 y + c_2\n",
    "$$\n",
    "\n",
    "where $c_1$ and $c_2$ are unknown coefficients. No slip at the boundaries means\n",
    "that $u_x(\\pm H) = 0$, so applying these conditions and solving for $c_1$ and\n",
    "$c_2$ gives:\n",
    "\n",
    "$$\n",
    "u_x(y) = \\frac{\\rho f_x H^2}{2 \\mu}\\left[1 - \\left(\\frac{y}{H}\\right)^2 \\right],\n",
    "    \\quad -H \\le y \\le H\n",
    "$$\n",
    "\n",
    "Let's see if MPCD produces this result!\n",
    "\n",
    "## Initialization\n",
    "\n",
    "We setup the MPCD particles in the same parallel plate geometry we used for\n",
    "wall-driven shear flow."
   ]
  },
  {
   "cell_type": "markdown",
   "id": "56b8cda2",
   "metadata": {},
   "source": [
    "Drawing on your experience with the previous exercises, this will be a lot more hands-on! The documentation is also available for a reference."
   ]
  },
  {
   "cell_type": "code",
   "execution_count": null,
   "id": "4e0a2e27",
   "metadata": {},
   "outputs": [],
   "source": [
    "H = 10\n",
    "L = 25\n",
    "padding = 4\n",
    "\n",
    "mass = 1\n",
    "density = 5\n",
    "kT = 1\n",
    "\n",
    "rng = numpy.random.default_rng(seed=42)"
   ]
  },
  {
   "cell_type": "markdown",
   "id": "eb3b6bec",
   "metadata": {},
   "source": [
    "Define the snapshot and set the box configuration."
   ]
  },
  {
   "cell_type": "code",
   "execution_count": null,
   "id": "e37b7c90",
   "metadata": {},
   "outputs": [],
   "source": [
    "snapshot = None\n",
    "snapshot.configuration.box = None"
   ]
  },
  {
   "cell_type": "markdown",
   "id": "60d08f9b",
   "metadata": {},
   "source": [
    "Set the following mpcd particle data in the snapshot:\n",
    "* number of MPCD particles (estimate from the desnity and volume between plates)\n",
    "* types (you can use \"A\")\n",
    "* typeid (you can use zeros)\n",
    "* mass\n",
    "* position (draw from a uniform distribution)\n",
    "* velocity (draw from a normal distribution and zero the mean)"
   ]
  },
  {
   "cell_type": "code",
   "execution_count": null,
   "id": "a98c3989",
   "metadata": {},
   "outputs": [],
   "source": [
    "snapshot.mpcd.types = [\"A\"]"
   ]
  },
  {
   "cell_type": "markdown",
   "id": "5f224298",
   "metadata": {},
   "source": [
    "Now, define a simulation object and create simulation state from the snapshot."
   ]
  },
  {
   "cell_type": "code",
   "execution_count": null,
   "id": "e0dd3d41",
   "metadata": {},
   "outputs": [],
   "source": [
    "simulation = None"
   ]
  },
  {
   "cell_type": "markdown",
   "id": "08573870",
   "metadata": {},
   "source": [
    "## Configuring the MPCD integrator\n",
    "\n",
    "The integrator setup also looks similar to the wall-driven shear flow. We attach the same\n",
    "* integrator (dt = 0.1),\n",
    "* collision method (SRD with period=1, angle=130, kT=1),\n",
    "* and particle sorter (trigger=20 times the collision period)."
   ]
  },
  {
   "cell_type": "code",
   "execution_count": null,
   "id": "5333fc61",
   "metadata": {},
   "outputs": [],
   "source": [
    "integrator = hoomd.mpcd.Integrator(dt=0.1)\n",
    "integrator.collision_method = None\n",
    "integrator.mpcd_particle_sorter = None"
   ]
  },
  {
   "cell_type": "markdown",
   "id": "7dade5ac",
   "metadata": {},
   "source": [
    "Add the integrator to `operations`."
   ]
  },
  {
   "cell_type": "code",
   "execution_count": null,
   "id": "e3586f50",
   "metadata": {},
   "outputs": [],
   "source": [
    "simulation.operations.integrator = integrator"
   ]
  },
  {
   "cell_type": "markdown",
   "id": "3cd9f27d",
   "metadata": {},
   "source": [
    "The main difference is that when we create the\n",
    "[streaming method](https://hoomd-blue.readthedocs.io/en/stable/hoomd/mpcd/stream/bounceback.html),\n",
    "we need to add a body force that acts on the MPCD particles like we did to simulate\n",
    "sedimentation. The parallel plates are also now going to be **stationary**."
   ]
  },
  {
   "cell_type": "code",
   "execution_count": null,
   "id": "192c568f",
   "metadata": {},
   "outputs": [],
   "source": [
    "fx = 0.004\n",
    "body_force = hoomd.mpcd.force.ConstantForce(force=(fx, 0, 0))\n",
    "plates = None\n",
    "integrator.streaming_method = None"
   ]
  },
  {
   "cell_type": "markdown",
   "id": "10a6300f",
   "metadata": {},
   "source": [
    "We also still need a [filler](https://hoomd-blue.readthedocs.io/en/stable/hoomd/mpcd/fill/geometryfiller.html).\n",
    "\n",
    "But don't forget to append this to `virtual_particle_fillers` list of the integrator as we did before."
   ]
  },
  {
   "cell_type": "code",
   "execution_count": null,
   "id": "9c1831ec",
   "metadata": {},
   "outputs": [],
   "source": [
    "filler = None"
   ]
  },
  {
   "cell_type": "markdown",
   "id": "59847b11",
   "metadata": {},
   "source": [
    "## Velocity field\n",
    "\n",
    "### Warmup\n",
    "\n",
    "We again need to warmup the flow field: it takes time for the particles to\n",
    "feel the applied force and come to steady state. We can check the kinetic\n",
    "energy associated with the *x* component of the particle velocities."
   ]
  },
  {
   "cell_type": "code",
   "execution_count": null,
   "id": "30201c1f",
   "metadata": {},
   "outputs": [],
   "source": [
    "num_samples = 500\n",
    "num_steps_per_sample = 10\n",
    "times = numpy.zeros(num_samples, dtype=int)\n",
    "kinetic_energy = numpy.zeros(num_samples)\n",
    "for i in range(num_samples):\n",
    "    simulation.run(num_steps_per_sample)\n",
    "\n",
    "    snapshot = simulation.state.get_snapshot()\n",
    "    times[i] = simulation.timestep * integrator.dt\n",
    "    kinetic_energy[i] = (\n",
    "        0.5 * snapshot.mpcd.mass * numpy.sum(snapshot.mpcd.velocity[:, 0]**2)\n",
    "    )"
   ]
  },
  {
   "cell_type": "markdown",
   "id": "a4a021f2",
   "metadata": {},
   "source": [
    "It takes longer for this pressure-driven flow to reach its steady state than\n",
    "the wall-driven flow we simulated before."
   ]
  },
  {
   "cell_type": "code",
   "execution_count": null,
   "id": "bd67d86a",
   "metadata": {},
   "outputs": [],
   "source": [
    "fig = matplotlib.figure.Figure(figsize=(5, 3.09))\n",
    "ax = fig.add_subplot()\n",
    "ax.plot(times, kinetic_energy)\n",
    "ax.set_xlabel(r\"time ($\\tau$)\")\n",
    "ax.set_ylabel(r\"$x$ kinetic energy ($\\varepsilon$)\")\n",
    "fig"
   ]
  },
  {
   "cell_type": "markdown",
   "id": "2e67c73d",
   "metadata": {},
   "source": [
    "### Production\n",
    "\n",
    "Now that we've warmed up, we can go ahead with measuring the average flow field\n",
    "using the same strategy as for the wall-driven shear flow. We use the same type\n",
    "of velocity compute:"
   ]
  },
  {
   "cell_type": "code",
   "execution_count": null,
   "id": "25cc84a0",
   "metadata": {},
   "outputs": [],
   "source": [
    "bin_size = 0.5\n",
    "num_bins = numpy.round((2 * H) / bin_size).astype(int)\n",
    "velocity_field = hoomd.azplugins.compute.CartesianVelocityFieldCompute(\n",
    "    num_bins=(0, num_bins, 0),\n",
    "    lower_bounds=(0, -H, 0),\n",
    "    upper_bounds=(0, H, 0),\n",
    "    include_mpcd_particles=True\n",
    ")\n",
    "simulation.operations.computes.append(velocity_field)"
   ]
  },
  {
   "cell_type": "markdown",
   "id": "c7179926",
   "metadata": {},
   "source": [
    "and the same sampling strategy, but a little longer this time to get better\n",
    "data for some of our subsequent analysis."
   ]
  },
  {
   "cell_type": "code",
   "execution_count": null,
   "id": "f15ae8cf",
   "metadata": {},
   "outputs": [],
   "source": [
    "num_samples = 1000\n",
    "num_steps_per_sample = 10\n",
    "for i in range(num_samples):\n",
    "    simulation.run(num_steps_per_sample)\n",
    "\n",
    "    # size the array the first time\n",
    "    if i == 0:\n",
    "        avg_velocity_field = numpy.zeros(velocity_field.velocities.shape)\n",
    "\n",
    "    # accumulate x velocity\n",
    "    avg_velocity_field += velocity_field.velocities\n",
    "avg_velocity_field /= num_samples"
   ]
  },
  {
   "cell_type": "markdown",
   "id": "2b0c14e9",
   "metadata": {},
   "source": [
    "We confirm that there is no flow in *y* or *z*, but there is in the *x* direction."
   ]
  },
  {
   "cell_type": "code",
   "execution_count": null,
   "id": "0157163e",
   "metadata": {},
   "outputs": [],
   "source": [
    "numpy.max(numpy.abs(avg_velocity_field), axis=0)"
   ]
  },
  {
   "cell_type": "markdown",
   "id": "0147bbd4",
   "metadata": {},
   "source": [
    "Let's compare the *x* velocity $u_x$ that we simulated to the theortical\n",
    "expectation. First, we need an estimate of the dynamic viscosity. The\n",
    "theoretical formulas from our introduction to MPCD give\n",
    "$3.96 \\varepsilon \\tau/\\ell^3$."
   ]
  },
  {
   "cell_type": "code",
   "execution_count": null,
   "id": "5b0062f6",
   "metadata": {},
   "outputs": [],
   "source": [
    "dynamic_viscosity = 3.96"
   ]
  },
  {
   "cell_type": "markdown",
   "id": "3eebe415",
   "metadata": {},
   "source": [
    "What do you notice about how the two compare?"
   ]
  },
  {
   "cell_type": "code",
   "execution_count": null,
   "id": "ea4e7453",
   "metadata": {},
   "outputs": [],
   "source": [
    "fig = matplotlib.figure.Figure(figsize=(5, 3.09))\n",
    "ax = fig.add_subplot()\n",
    "\n",
    "# simulated flow field\n",
    "y = velocity_field.coordinates\n",
    "ux = avg_velocity_field[:, 0]\n",
    "ax.plot(y, ux, label=\"sim.\")\n",
    "\n",
    "# theoretical flow field\n",
    "y_theory = numpy.linspace(-H, H) \n",
    "u_theory = None  # use the analytical equation\n",
    "ax.plot( )  # plot the theoretical prediction and label\n",
    "\n",
    "ax.set_xlabel(r\"$y$ ($\\ell$)\")\n",
    "ax.set_xlim([-H, H])\n",
    "ax.set_ylabel(r\"$u_i$ ($\\ell/\\tau$)\")\n",
    "ax.set_ylim([0, 0.6])\n",
    "ax.legend()\n",
    "fig"
   ]
  },
  {
   "cell_type": "markdown",
   "id": "f3e6cc6d",
   "metadata": {},
   "source": [
    "The simulated velocity field seems to be shifted up a bit compared to the\n",
    "theoretical one. This is another signature of **wall slip**. Even though we are\n",
    "trying to enforce no-slip boundary conditions at the parallel plate surfaces,\n",
    "we can see that the simulated velocity field is not exactly zero there.\n",
    "There is usually a small amount of slip present in MPCD, and it becomes more\n",
    "apparent as the overall flow velocity increases.\n",
    "\n",
    "*Question*: How big is the slip velocity in the simulations compared to the\n",
    "maximum velocity? For a quick estimate, try subtracting a small number from the\n",
    "simulated velocity to match it by eye to the theoretical one. The value you\n",
    "subtracted is an estimate of the slip velocity. \n",
    "\n",
    "## Extracting viscosity\n",
    "\n",
    "We assumed we knew the dynamic viscosity, but we can also use our simulation\n",
    "data to extract an estimate of the viscosity. In principle, we can fit the\n",
    "general solution for $u_x$ to the measured one, without assuming no-slip\n",
    "boundary conditions, but the fit will have 3 parameters. It is usually easier\n",
    "and better to fit fewer parameters if possible.\n",
    "\n",
    "To do so, we can work with the first derivative of the general solution for $u_x$\n",
    "with respect to *y*:\n",
    "\n",
    "$$\n",
    "\\frac{{\\rm d} u_x}{{\\rm d}y} = -\\frac{\\rho f_x}{\\mu} y + c_1\n",
    "$$\n",
    "\n",
    "This only has two fitting parameters: $\\mu$ and $c_1$. However, the flow is\n",
    "expected to be symmetric and have its maximum at the center, where $y = 0$,\n",
    "because both parallel plates are the same. This means that $c_1$ must be zero.\n",
    "Hence, we can fit only the viscosity $\\mu$!\n",
    "\n",
    "We first need the derivative of $u_x$ from our simulation data. NumPy has a\n",
    "convenient method for doing so:"
   ]
  },
  {
   "cell_type": "code",
   "execution_count": null,
   "id": "2df1fc13",
   "metadata": {},
   "outputs": [],
   "source": [
    "dux_dy = numpy.gradient(ux, y)"
   ]
  },
  {
   "cell_type": "markdown",
   "id": "83e62e2d",
   "metadata": {},
   "source": [
    "We will use [scipy.optimize.curve_fit](https://docs.scipy.org/doc/scipy/reference/generated/scipy.optimize.curve_fit.html)\n",
    "to fit the data and extract the viscosity. It gives us both an estimate of the\n",
    "parameter as well as an uncertainty in the fit."
   ]
  },
  {
   "cell_type": "code",
   "execution_count": null,
   "id": "bf378e76",
   "metadata": {},
   "outputs": [],
   "source": [
    "def line(y, mu):\n",
    "    return -(density * fx / mu) * y\n",
    "\n",
    "popt, pcov = scipy.optimize.curve_fit(line, y, dux_dy)\n",
    "dynamic_viscosity_fit = popt[0]\n",
    "dynamic_viscosity_uncertainty = numpy.sqrt(pcov[0, 0])\n",
    "print(f\"{dynamic_viscosity_fit:.2f} +/- {dynamic_viscosity_uncertainty:.2f}\")"
   ]
  },
  {
   "cell_type": "markdown",
   "id": "521bc1c4",
   "metadata": {},
   "source": [
    "We get a viscosity that is in pretty good agreement with the theoretical\n",
    "prediction! To be safe, let's confirm that the ${\\rm d}u_x/{\\rm d}y$ is\n",
    "actually linear in $y$ and that our fit is decent by plotting the two together."
   ]
  },
  {
   "cell_type": "code",
   "execution_count": null,
   "id": "28f4e45d",
   "metadata": {},
   "outputs": [],
   "source": [
    "fig = matplotlib.figure.Figure(figsize=(5, 3.09))\n",
    "ax = fig.add_subplot()\n",
    "\n",
    "# simulated flow field\n",
    "ax.scatter(velocity_field.coordinates, dux_dy, label=\"sim.\")\n",
    "\n",
    "ax.plot(y_theory, line(y_theory, dynamic_viscosity_fit), \"k--\", label=\"fit\")\n",
    "\n",
    "ax.set_xlabel(r\"$y$ ($\\ell$)\")\n",
    "ax.set_xlim([-H, H])\n",
    "ax.set_ylabel(r\"${\\rm d}u_x/{\\rm d}y$ ($1/\\tau$)\")\n",
    "ax.legend()\n",
    "fig"
   ]
  },
  {
   "cell_type": "markdown",
   "id": "5bf4b8e2",
   "metadata": {},
   "source": [
    "This looks overall quite good and linear for all values of *y*. There is still\n",
    "some scatter in the simulation data, which is expected because these are\n",
    "relatively short runs. Taking the derivative also exacerbates statistical noise.\n",
    "To improve the fit, we should collect some more data."
   ]
  },
  {
   "cell_type": "markdown",
   "id": "45de6cee",
   "metadata": {},
   "source": [
    "## Additional activities\n",
    "\n",
    "1. What is the maximum velocity in the simulations? How does it compare to the\n",
    "   theoretical expectation?\n",
    "2. What is the mean velocity $U_x$ in the simulations? How does it compare to\n",
    "   the theoretical expectation? (Hint: use integration to get the mean of the\n",
    "   theoretically expected flow field.)\n",
    "3. What is the volumetric flow rate in the simulations? How does it compare to\n",
    "   the theoretical expectation? The volumetric flow rate is defined as\n",
    "   $Q = U_x A$, where $A$ is the cross-sectional area.\n",
    "4. How does the flow field change if you also put the walls in motion? Can you\n",
    "   make a theoretical prediction for what it should be? Hint: the boundary\n",
    "   conditions will now be $u_x(\\pm H) = \\pm U$ if the walls have velocity $U$."
   ]
  }
 ],
 "metadata": {
  "kernelspec": {
   "display_name": "Python 3",
   "language": "python",
   "name": "python3"
  },
  "language_info": {
   "codemirror_mode": {
    "name": "ipython",
    "version": 3
   },
   "file_extension": ".py",
   "mimetype": "text/x-python",
   "name": "python",
   "nbconvert_exporter": "python",
   "pygments_lexer": "ipython3",
   "version": "3.13.5"
  }
 },
 "nbformat": 4,
 "nbformat_minor": 5
}
