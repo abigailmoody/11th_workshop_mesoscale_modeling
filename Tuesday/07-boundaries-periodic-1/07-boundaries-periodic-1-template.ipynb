{
 "cells": [
  {
   "cell_type": "markdown",
   "id": "dbd0e001-2a22-4790-a4dd-7baf7b4a28f8",
   "metadata": {},
   "source": [
    "# Periodic Boundary Conditions - Structure \n",
    "\n",
    "## Overview\n",
    "\n",
    "In this session, we will learn how to compute structural quantities from an MD simulation. \n",
    "\n",
    "### Questions\n",
    "\n",
    "- What are PBCs? What is the minimum image convention? What are images?\n",
    "- How do I assess the structure of a liquid?\n",
    "- How do I compute structural quantities of polymers from a MD simulation?\n",
    "\n",
    "### Objectives\n",
    "\n",
    "- Write a function that computes the correct distance in PBC.\n",
    "- Calculate the radial distribution function of a system. \n",
    "- Calculate the radius of gyration of a polymer.\n",
    "- Show that the simple polymer model agrees with scaling expectations (Rouse model).\n",
    "\n",
    "## Boilerplate code"
   ]
  },
  {
   "cell_type": "code",
   "execution_count": null,
   "id": "f00eb204-9ad8-4dae-ba74-0db705659db4",
   "metadata": {},
   "outputs": [],
   "source": [
    "import matplotlib\n",
    "import numpy\n",
    "import scipy.stats\n",
    "import gsd, gsd.hoomd\n",
    "import freud\n",
    "import math\n",
    "import itertools\n",
    "import hoomd\n",
    "# for movie/renders\n",
    "import fresnel\n",
    "import PIL\n",
    "import io\n",
    "import IPython\n",
    "from IPython.core.interactiveshell import InteractiveShell\n",
    "InteractiveShell.ast_node_interactivity = \"all\"\n",
    "from IPython import display\n",
    "\n",
    "%matplotlib inline\n",
    "matplotlib.style.use(\"ggplot\")\n",
    "import matplotlib_inline\n",
    "\n",
    "matplotlib_inline.backend_inline.set_matplotlib_formats(\"svg\")\n",
    "\n",
    "def render(frame):\n",
    "    scene = fresnel.Scene()\n",
    "    geometry = fresnel.geometry.Sphere(scene, N=frame.particles.N)\n",
    "    geometry.material = fresnel.material.Material(color=fresnel.color.linear([0.01, 0.74, 0.26]), roughness=0.5)\n",
    "    geometry.position[:] = frame.particles.position\n",
    "    geometry.outline_width = 0.01\n",
    "    box = fresnel.geometry.Box(scene, frame.configuration.box,box_radius=0.01)\n",
    "    L = frame.configuration.box[0]\n",
    "    scene.camera = fresnel.camera.Perspective(position=(L*1.8, L*1.8, L * 2.2), look_at=(0, 0, 0), up=(0, 1, 0), height=0.28)\n",
    "\n",
    "    scene.background_color =(1,1,1)\n",
    "    scene.background_alpha = 1\n",
    "    if frame.bonds.N>0:\n",
    "        geometry.radius[:] = [0.2]*frame.particles.N\n",
    "\n",
    "        all_bonds = numpy.stack(\n",
    "        [\n",
    "            frame.particles.position[frame.bonds.group[:, 0]],\n",
    "            frame.particles.position[frame.bonds.group[:, 1]],\n",
    "        ],\n",
    "        axis=1,\n",
    "        )\n",
    "        # Use a distance cutoff (L/2) to filter bonds that span the periodic boundary\n",
    "        bond_distances = numpy.linalg.norm(all_bonds[:,0,:]-all_bonds[:,1,:], axis=1)\n",
    "        L = frame.configuration.box[0]\n",
    "        bond_indices = numpy.where(bond_distances < L/2)[0]\n",
    "        filtered_bonds = all_bonds[bond_indices, :, :]\n",
    "\n",
    "        bonds = fresnel.geometry.Cylinder(scene, N=len(filtered_bonds))\n",
    "        bonds.material = fresnel.material.Material(roughness=0.5)\n",
    "        bonds.outline_width = 0.05\n",
    "\n",
    "        bonds.points[:] = filtered_bonds\n",
    "        bonds.radius[:] = [0.1]*len(filtered_bonds)\n",
    "        bonds.material.primitive_color_mix = 1.0\n",
    "        bonds.color[:] = fresnel.color.linear([0.8, 0.8, 0.8])\n",
    "\n",
    "    return fresnel.preview(scene)"
   ]
  },
  {
   "cell_type": "markdown",
   "id": "c0e91ee0-8b76-4a83-9558-94382582d962",
   "metadata": {},
   "source": [
    "# Boundary Conditions - Structure \n",
    "\n",
    "## Minimum Image Convention \n",
    "\n",
    "Write a function `dist(..)` that computes the distances between points in 3D without periodic boundary conditions. Then write one that does take periodic boundary conditions into account, `dist_pbc(..)`. Your functions should work for arrays of positions (which might contain one or more points) and return an array of distances. \n",
    "\n",
    "*Hint:* feel free to use numpy (`numpy.where`, `numpy.linalg.norm`, `numpy.sqrt`, `numpy.abs`,..) functions.\n",
    "\n",
    "We assume **hoomd** conventions, meaning the box coordinates are defined from `(-Li/2,+Li/2)` (with `i` = x,y, or z) and the origin of the box is at `(0,0,0)`."
   ]
  },
  {
   "cell_type": "code",
   "execution_count": null,
   "id": "e7080a2d-0d78-4936-984c-593aafe6ed70",
   "metadata": {},
   "outputs": [],
   "source": [
    "def dist(x1,x0):\n",
    "    # add code\n",
    "    return ...\n",
    "\n",
    "def dist_pbc(x1,x0,Box):\n",
    "    # add code\n",
    "    return ..."
   ]
  },
  {
   "cell_type": "markdown",
   "id": "08c802a2-a28c-47bc-9e22-b530fb559488",
   "metadata": {},
   "source": [
    "Test your functions with points in 3D:"
   ]
  },
  {
   "cell_type": "code",
   "execution_count": null,
   "id": "a0edb339-62ee-4874-afed-3f3015902d28",
   "metadata": {},
   "outputs": [],
   "source": [
    "Box = numpy.array([10,10,10])\n",
    "\n",
    "points_A = numpy.array([[2,3,1]])\n",
    "points_B = numpy.array([[0,0,0],[-1,-4,0],[-4,2,3],[3,5,-4]])\n",
    "points_C = numpy.array([[3,0,-2],[2,-2,4],[2,0,0],[0,0,5]])\n",
    "points_D = numpy.array([[-1,0,0]])\n",
    "\n",
    "print(dist_pbc(points_A,points_B,Box))\n",
    "print(dist(points_A,points_B))\n",
    "\n",
    "print(dist_pbc(points_B,points_C,Box))\n",
    "print(dist(points_B,points_C))\n",
    "\n",
    "print(dist_pbc(points_A,points_A,Box))\n",
    "print(dist_pbc([points_B[0]],points_D,Box))\n"
   ]
  },
  {
   "cell_type": "markdown",
   "id": "d3d3a3a8",
   "metadata": {},
   "source": [
    "*Hint:* The expected output for the above should be: \n",
    "```\n",
    "[3.74165739 4.35889894 4.58257569 5.47722558]\n",
    "[3.74165739 7.68114575 6.40312424 5.47722558]\n",
    "[3.60555128 5.38516481 5.38516481 5.91607978]\n",
    "[ 3.60555128  5.38516481  7.         10.72380529]\n",
    "[0.]\n",
    "[1.]\n",
    "```\n",
    "Only continue if your `dist_pbc` function is correct! "
   ]
  },
  {
   "cell_type": "markdown",
   "id": "aaa7f639-44b5-444d-988e-bc87b17718e1",
   "metadata": {},
   "source": [
    "### Additions \n",
    "\n",
    "Try to come up with alternative ways to calculate the minimum distance: \n",
    "1. use `if` statements\n",
    "2. use `floor/round`\n",
    "3. use other `numpy` functions\n",
    "4. ...."
   ]
  },
  {
   "cell_type": "markdown",
   "id": "5fbb92dc-2e35-4819-b8fd-1f5f5e2c5b3b",
   "metadata": {},
   "source": [
    "## Radial Distribution Function\n",
    "\n",
    "Now we want to compute the radial distribution function. For this we will use the minium distance functions from above, so make sure they are correct before proceeding! \n",
    "\n",
    "It is useful to use `numpy.histogram` for this task, since we effectively are computing a radial histogram. Normalized correctly, this will give us the radial distribution function. \n",
    "\n",
    "First, write a function that returns the correct normalization for an array of distances `r`, as function of `N` and the `Box`.  \n",
    "\n",
    "*Hint:* Think about what the number of particles in a spherical shell would be. What is its volume? You can find the correct normalizations [here](https://en.wikibooks.org/wiki/Molecular_Simulation/Radial_Distribution_Functions). "
   ]
  },
  {
   "cell_type": "code",
   "execution_count": null,
   "id": "ab12c478-1727-43c7-bc38-22988d599e52",
   "metadata": {},
   "outputs": [],
   "source": [
    "def norm(Box,N,r):\n",
    "    # add code\n",
    "    ...\n",
    "    return norm"
   ]
  },
  {
   "cell_type": "markdown",
   "id": "28c72cdd-f030-4f08-b59a-81005d621a8b",
   "metadata": {},
   "source": [
    "Now write a function that takes two arrays `A`,`B` of points, a `Box`, number of bins `number_of_bins`, and a maximum distance `rmax` and returns the pair correlation function as a histogram and the corresponding bin centers. Set up an empty histogram with the correct number of bins, that you can then add to."
   ]
  },
  {
   "cell_type": "code",
   "execution_count": null,
   "id": "f5c53287-4971-4055-aaa0-ae4b639f93a4",
   "metadata": {},
   "outputs": [],
   "source": [
    "def pair_corr(A,B,Box,number_of_bins,rmax):\n",
    "    # add a definition of the bins. Use numpy.linspace\n",
    "    bins = ...\n",
    "    hist_all, bin_edges_all = numpy.histogram(0,bins)\n",
    "\n",
    "    for particle in A:\n",
    "        # compute distances between current particle from A and all particles in B\n",
    "        # generate a histogram, add it to the global one\n",
    "        d = ...\n",
    "        # bin all the distances by making a histogram out of them (with exactly the same bins as the histogram \"hist_all\")\n",
    "        hist, bin_eges = numpy.histogram(...)\n",
    "        # then we can add the histograms together to keep track of the cummulative result:\n",
    "        hist_all += hist\n",
    "\n",
    "    # compute the bin centers from the bin edges.\n",
    "    bincenters = ..\n",
    "    # normalize histogram\n",
    "    # set first entry to 0 (Why?)\n",
    "    ...\n",
    "    return bincenters,hist_all"
   ]
  },
  {
   "cell_type": "markdown",
   "id": "839479bd-dc00-4f31-9f41-f138cdeb49c7",
   "metadata": {},
   "source": [
    "## Short LJ Simulation "
   ]
  },
  {
   "cell_type": "markdown",
   "id": "dd598585-9d92-45d1-abc0-82e197f17025",
   "metadata": {},
   "source": [
    "Now we need to test our code. For this, we will run a short LJ simulation. For simplicity, we use a simple cubic as starting configuration. let's put some particles on a simple cubic lattice into a box. Define the starting `Frame`: "
   ]
  },
  {
   "cell_type": "code",
   "execution_count": null,
   "id": "bc0046d9-6b46-4935-b548-8bac046a2aaf",
   "metadata": {},
   "outputs": [],
   "source": [
    "\n",
    "frame = gsd.hoomd.Frame()\n",
    "\n",
    "L = 12\n",
    "spacing = 1.05\n",
    "x = numpy.linspace(-0.5*L, 0.5*L, int(L/spacing), endpoint=False)\n",
    "position = list(itertools.product(x, repeat=3))\n",
    "\n",
    "frame.particles.N = ...\n",
    "frame.particles.position = ...\n",
    "frame.configuration.box = [L, L, L, 0, 0, 0]\n",
    "frame.particles.types = ['A']\n"
   ]
  },
  {
   "cell_type": "markdown",
   "id": "b466180d-7ade-40e0-9413-b2ab9daacec7",
   "metadata": {},
   "source": [
    "Render the frame and check that it is correct:"
   ]
  },
  {
   "cell_type": "code",
   "execution_count": null,
   "id": "921f8c77-1e56-4cf1-9b65-d17e5137ba9d",
   "metadata": {},
   "outputs": [],
   "source": [
    "render(frame)"
   ]
  },
  {
   "cell_type": "markdown",
   "id": "7909b583-f9d3-4a4a-8f5c-6abd774e2930",
   "metadata": {},
   "source": [
    "Let's compute the radial distribution function of that simple cubic configuration and plot $g(r)$ as function of $r$."
   ]
  },
  {
   "cell_type": "code",
   "execution_count": null,
   "id": "ab0ee78a-059d-46e7-b997-325efb0ab0f1",
   "metadata": {},
   "outputs": [],
   "source": [
    "box = ...\n",
    "r,gr = pair_corr(...)\n",
    "fig, ax = matplotlib.pyplot.subplots()\n",
    "ax.plot(...)\n",
    "matplotlib.pyplot.show()"
   ]
  },
  {
   "cell_type": "markdown",
   "id": "a280e473-1595-4714-8642-6c08fddbf4df",
   "metadata": {},
   "source": [
    "What is the longest distance you can reasonably compute the radial distribution function for and why?"
   ]
  },
  {
   "cell_type": "markdown",
   "id": "571ac0d5-fd3e-41b8-92db-22f72e88df99",
   "metadata": {},
   "source": [
    "### Run the Simulation \n",
    "\n",
    "Now we can run a short simulation at temperature $1\\,k_BT$, which should melt the simple cubic into a liquid. Look up how to [save a trajectory](https://hoomd-blue.readthedocs.io/en/v4.7.0/module-hoomd-write.html#hoomd.write.GSD) into a `gsd` file. "
   ]
  },
  {
   "cell_type": "code",
   "execution_count": null,
   "id": "baee2ad7-b8d4-411f-a58c-4dcaf742a403",
   "metadata": {},
   "outputs": [],
   "source": [
    "integrator = hoomd.md.Integrator(dt=0.005)\n",
    "cell = hoomd.md.nlist.Cell(buffer=0.4)\n",
    "\n",
    "# define LJ interactions and attach them to the simulation\n",
    "# Hint: you have done this yesterday!\n",
    "LJ = ...\n",
    "\n",
    "simulation = hoomd.Simulation(device=hoomd.device.auto_select(),seed=8)\n",
    "simulation.operations.integrator = integrator\n",
    "simulation.create_state_from_snapshot(frame)\n",
    "\n",
    "nvt = hoomd.md.methods.Langevin(filter=hoomd.filter.All(),kT=1)\n",
    "integrator.methods.append(nvt)\n",
    "simulation.operations.integrator = integrator\n",
    "\n",
    "gsd_out = hoomd.write.GSD(\n",
    "    trigger=hoomd.trigger.Periodic(100),\n",
    "    mode='wb',\n",
    "    filename='example_lj.gsd')\n",
    "\n",
    "simulation.operations.writers.append(gsd_out)\n",
    "\n",
    "simulation.state.thermalize_particle_momenta(filter=hoomd.filter.All(), kT=1)\n",
    "simulation.run(10000)\n",
    "gsd_out.flush()"
   ]
  },
  {
   "cell_type": "markdown",
   "id": "c40b2234-8611-477a-b8a6-4f4fd7ca02cd",
   "metadata": {},
   "source": [
    "Render the last snapshot of the simulation:"
   ]
  },
  {
   "cell_type": "code",
   "execution_count": null,
   "id": "a4f5a753-c305-45ad-b70b-dd9d1c31d204",
   "metadata": {},
   "outputs": [],
   "source": [
    "frame = simulation.state.get_snapshot()\n",
    "render(frame)"
   ]
  },
  {
   "cell_type": "markdown",
   "id": "50773864-9733-45a4-a164-8dfa09fa4558",
   "metadata": {},
   "source": [
    "Now we can measure the $g(r)$ of the liquid by taking the end of the trajecory and averaging the radial distribution function of those snapshots. Look up how to [open and loop](https://gsd.readthedocs.io/en/stable/hoomd-examples.html#hoomd-examples) over a `gsd` trajectory. "
   ]
  },
  {
   "cell_type": "code",
   "execution_count": null,
   "id": "50cba7e4-93db-4f45-9d3a-65f26e0e1b12",
   "metadata": {},
   "outputs": [],
   "source": [
    "trajectory =  gsd.hoomd.open(name=..., mode='r')\n",
    "# from the first frame of the trajectory (trajectory[0].configuration.box) take the first three elements to define the box size:\n",
    "box = ...\n",
    "# this list will be used to accumulate our results\n",
    "gr = []\n",
    "# take just last 30 snapshots\n",
    "for frame in trajectory[-30:]:\n",
    "    # read the particle positions from the frame\n",
    "    pos = ...\n",
    "    # calculate the pair correlation function for this frame:\n",
    "    r,hist = pair_corr(...)\n",
    "\n",
    "    gr.append(hist)"
   ]
  },
  {
   "cell_type": "markdown",
   "id": "67feeedb-0ebb-4bea-8bbd-b0dbf656b065",
   "metadata": {},
   "source": [
    "Now we need average the array of all results per frame over all frames to plot the results:"
   ]
  },
  {
   "cell_type": "code",
   "execution_count": null,
   "id": "44a66ff9-28a0-45f3-8340-3256d27fb014",
   "metadata": {},
   "outputs": [],
   "source": [
    "fig, ax = matplotlib.pyplot.subplots()\n",
    "# add code\n",
    "# average the histograms you collected above. What axis do you need to average over?\n",
    "hist_averaged = numpy.average(...)\n",
    "# Hint: this is the same as your plot above, except that now we are plotting an accumulated g(r) over the last 30 frames of a trajectory\n",
    "ax.plot(...)\n",
    "# add axis labels etc.\n",
    "matplotlib.pyplot.show()"
   ]
  },
  {
   "cell_type": "markdown",
   "id": "b69a5a04-e9a8-4eec-afbc-e1a9c70ec484",
   "metadata": {},
   "source": [
    "### Freud - Radial Distribution Function\n",
    "\n",
    "It is always advisable to know exactly what you analyze and calculate from a simulation, so the exercise above lets us compute $g(r)$ and check our code and understanding. However, often, this might be quite slow and eventually cumbersome. There are many packages that allow us to compute certain standard properties from simulations without needing to implement everything ourselves. [**Freud**](https://freud.readthedocs.io/) is such a package. Check the [freud documentation on $g(r)$](https://freud.readthedocs.io/en/latest/modules/density.html#freud.density.RDF). You might find the tutorial on the [radial distribution function](https://freud.readthedocs.io/en/latest/gettingstarted/examples/module_intros/density.RDF-AccumulateFluid.html) helpful as well.\n",
    "\n",
    "With this knowledge, write code that computes $g(r)$ using freud: "
   ]
  },
  {
   "cell_type": "code",
   "execution_count": null,
   "id": "3d594f80-1a14-4327-b4ef-68da2d3bb424",
   "metadata": {},
   "outputs": [],
   "source": [
    "rdf = freud.density.RDF(bins=..., r_max=...)\n",
    "for frame in trajectory[-30:]:\n",
    "    # define the box (this time the whole 6 numbers from the frame.configuration.box and not just the first three)\n",
    "    box = ...\n",
    "    # particle positions of all particles in the frame:\n",
    "    points =...\n",
    "    rdf.compute(system=(box, points), reset=False)"
   ]
  },
  {
   "cell_type": "markdown",
   "id": "ac7a79a8-e7ee-47e4-b7f0-c89b378b5a81",
   "metadata": {},
   "source": [
    "### Compare\n",
    "\n",
    "Let's now compare our version with the freud version by plotting both of them: "
   ]
  },
  {
   "cell_type": "code",
   "execution_count": null,
   "id": "1fe8c47d-6053-4b13-93c7-6939f2aa128f",
   "metadata": {},
   "outputs": [],
   "source": [
    "fig, ax = matplotlib.pyplot.subplots()\n",
    "\n",
    "ax.plot(rdf.bin_centers, rdf.rdf)\n",
    "ax.plot(r,hist_averaged,linestyle='dashed')\n",
    "ax.set_xlabel('r')\n",
    "ax.set_ylabel('g(r)')\n",
    "matplotlib.pyplot.show()"
   ]
  },
  {
   "cell_type": "markdown",
   "id": "b99242d0-4996-49b3-9bf2-5706c300bf4e",
   "metadata": {},
   "source": [
    "### Additions \n",
    "\n",
    "1. Generate random uniform positions to sample configurations of an ideal gas. What is the $g(r)$ of an ideal gas? What is your expectation for the outcome and why? Can we use this to test our code?\n",
    "2. Show how the $g(r)$ changes as function of temperature and/or density of the system.\n",
    "3. What is the $g(r)$ of a perfect fcc crystal? *Hint:* You can use a similar setup to above to generate a fcc crystal. "
   ]
  },
  {
   "cell_type": "markdown",
   "id": "63651a8b-31e5-4cac-b918-cb66dd813279",
   "metadata": {},
   "source": [
    "## Radius of Gyration of a Polymer\n",
    "\n",
    "Now we want to calculate some structural quantities of polymers. We will use the radius of gyration (see [Rubinstein & Colby, Chapter 2.4](https://www.eng.uc.edu/~beaucag/Classes/Properties/Books/M.%20Rubinstein,%20Ralph%20H.%20Colby,%20-%20Polymer%20Physics%20(Chemistry)%20(2003).pdf)) $R_g$ as an example. \n",
    "\n",
    "To save some time, we will reach into the future and pretend we have run the simulations already. We will run some of them in the next session! For now, let's open a trajectory of a Gaussian chain model:  "
   ]
  },
  {
   "cell_type": "code",
   "execution_count": null,
   "id": "792a9577-0575-40af-97ab-559ae13b0b09",
   "metadata": {},
   "outputs": [],
   "source": [
    "trajectory = gsd.hoomd.open(name='../08-boundaries-periodic-2/run_len_80_pol_10.gsd', mode='r')"
   ]
  },
  {
   "cell_type": "markdown",
   "id": "7f13b769-e6e6-4395-8c7d-2283dbfd624b",
   "metadata": {},
   "source": [
    "Let's render a movie of the trajectory to visualize what we are working with. The trajectory seems to be pretty long and has 10 polymers of length 80 in it. "
   ]
  },
  {
   "cell_type": "code",
   "execution_count": null,
   "id": "d381c50d-e192-4462-95e6-927834a7c5a2",
   "metadata": {},
   "outputs": [],
   "source": [
    "ims = []\n",
    "\n",
    "a = render(trajectory[0])\n",
    "im0 = PIL.Image.fromarray(a[:, :, 0:3], mode=\"RGB\").convert(\"P\", palette=PIL.Image.Palette.ADAPTIVE)\n",
    "for frame in trajectory[1::500]: # only take very 500th frame\n",
    "    a = render(frame)\n",
    "    im = PIL.Image.fromarray(a[:, :, 0:3], mode=\"RGB\").convert(\"P\", palette=PIL.Image.Palette.ADAPTIVE)\n",
    "    ims.append(im)\n",
    "\n",
    "filename = 'test.gif'\n",
    "im0.save(filename, \"gif\", save_all=True, append_images=ims, duration=20, loop=0)\n",
    "\n",
    "with open(filename,'rb') as f:\n",
    "    display.Image(data=f.read(), format='png')\n"
   ]
  },
  {
   "cell_type": "markdown",
   "id": "c09ecbb8-4e72-4052-b85f-f86ba2dfcdad",
   "metadata": {},
   "source": [
    "Now we can compute the radius of gyration. For this, we do need to first unwrap the positions into an array called `unwrapped_positions`. Then, the positions need to be split (`numpy.split`) into seperate arrays, one per polymer. For this determine where the `polymer_delimiters` are, i.e. the indices of the breaks between the polymers.  Then we need to determine the center of mass of each polymer (`com`), and then calculate the $Rg^2$ of each polymer. Once the entire trajectory is processed, we can take the square root to get $R_g$ later. \n",
    "\n",
    "Hints: \n",
    "1. For unwrapping the coordinates, you need to add `frame.particles.image*frame.configuration.box[0:3]` to the positions, since the `images` are integers keeping track of the number of image crossings. \n",
    "2. To compute the `polymer_delimiters` you can make a list manually, that holds the indices of the ends, for example for polymers of $N=80$, this list would be `[ 80 160 240 320 400 480 560 640 720]`, because the first polymer goes from index `[0-79]`, the next one from `[80-159]` etc. Of course you do not want to compute this manually, because then you would have to change this code every time you cange the chain length, so you need to find a way to do this automatically. One way to do this for linear polymer chains, is to look for \"breaks\" in the bond array. The bond array contains `[[0,1],[1,2],...,[78 79],[80 81],...]` where you can see that except for at the *end* of a polymer, the first index of one bond is identical to the second index of the previous bond. So if we use `numpy.where`, we can compute where the difference of  `bonds[:-1,1]-bonds[1:,0]` is NOT zero. \n",
    "3. for computing the center of mass `com`, you can use `numpy.mean`\n",
    "4. for comuting the $R_g^2$, radius of gyration squared, you can use `numpy.average` of the `numpy.sum`. What do you need to sum? Which axis do you need to sum over? \n",
    "5. "
   ]
  },
  {
   "cell_type": "code",
   "execution_count": null,
   "id": "15f84b7f-adf8-43c6-ad73-4aea1cd21561",
   "metadata": {},
   "outputs": [],
   "source": [
    "rg2 = []\n",
    "timestep = []\n",
    "for frame in trajectory:\n",
    "    unwrapped_positions = ...\n",
    "    bonds = ...\n",
    "    polymer_delimiters = bonds[...]\n",
    "    polymers  = numpy.split(...)\n",
    "    for p in polymers:\n",
    "        com = numpy.mean(p,axis=...)\n",
    "        Rg2 = numpy.average(numpy.sum(..., axis=...))\n",
    "        rg2.append(Rg2)\n",
    "        timestep.append(frame.configuration.step)"
   ]
  },
  {
   "cell_type": "markdown",
   "id": "016ade7a-f6a8-45e8-97af-f1ee85fcf291",
   "metadata": {},
   "source": [
    "Plot the results as function of time. What are the units of $R^2_g$? What are the units of time? "
   ]
  },
  {
   "cell_type": "code",
   "execution_count": null,
   "id": "95ff2f9d-09dc-4604-9dc3-540196f97a8c",
   "metadata": {},
   "outputs": [],
   "source": [
    "fig, ax = matplotlib.pyplot.subplots()\n",
    "\n",
    "line = ax.plot(timestep,rg2)\n",
    "xlabel = ax.set_xlabel('timestep')\n",
    "ylabel = ax.set_ylabel('R_g^2')\n",
    "matplotlib.pyplot.show()"
   ]
  },
  {
   "cell_type": "markdown",
   "id": "70a1c1bc-bb74-46c4-90af-cbe8a3d89762",
   "metadata": {},
   "source": [
    "Note that if you did ignore PBC (didn't apply minimum image convention, or didn't write out images, or didn't unwrap correctly etc.) then one could potentially see this in this time series as large spikes of unreasonably large values. \n",
    "\n",
    "It is also useful to plot time series to check if a system has equilibrated or if quantities are still changing. Here, we should be ok. \n",
    "\n",
    "From this times series, we can then compute the average $\\langle R^2_g \\rangle$, and then finally $\\langle R_g \\rangle$:"
   ]
  },
  {
   "cell_type": "code",
   "execution_count": null,
   "id": "dd285150-3bca-4b02-94d3-4f990d19cfc8",
   "metadata": {},
   "outputs": [],
   "source": [
    "av_Rg2 = numpy.mean(...)\n",
    "av_Rg = numpy.sqrt(...)\n",
    "\n",
    "print(\"Rg=%1.2f\"%(av_Rg))"
   ]
  },
  {
   "cell_type": "markdown",
   "id": "b386a346-8360-45a9-9d27-5c017f12d242",
   "metadata": {},
   "source": [
    "The folder contains trajectories for $N=10,20,30,...100$. Determine their $R_g$ as function of *N*. **What scaling law do they follow?** *Hint:* Check Runbinstein and Colby for the appropriate formulas."
   ]
  },
  {
   "cell_type": "code",
   "execution_count": null,
   "id": "0cc5ff01-d59e-411a-8146-72c968e300e1",
   "metadata": {},
   "outputs": [],
   "source": [
    "Ns = numpy.array([10,20,30,40,50,60,70,80,90,100])\n",
    "av_Rg = []\n",
    "for N in Ns:\n",
    "    # add code to compute Rg for each -it is the same as above.\n",
    "    # Alternatively, you can also write a function that computes Rg instead of copying the code to here\n",
    "    trajectory = gsd.hoomd.open(name='../8-pbc-dynamics/run_len_%s_pol_10.gsd'%N, mode='r')\n",
    "    rg2 = []\n",
    "    for frame in trajectory[:-500]:\n",
    "        unwrapped_positions = ...\n",
    "        bonds =...\n",
    "        polymer_delimiters = ...\n",
    "        polymers  = ...\n",
    "        for p in polymers:\n",
    "            com = ...\n",
    "            dist_pol_com = ...\n",
    "            Rg2 = ...\n",
    "            rg2.append(Rg2)\n",
    "    av_Rg.append(numpy.sqrt(numpy.mean(rg2)))\n",
    "\n",
    "fig, ax = matplotlib.pyplot.subplots()\n",
    "\n",
    "# plot results and scaling here\n",
    "points = ax.scatter(Ns,av_Rg)\n",
    "line = ax.plot(Ns,(Ns/6)**(1/2),c='blue')\n",
    "xlabel = ax.set_xlabel(r'$N$')\n",
    "ylabel = ax.set_ylabel(r'$\\langle R_g\\rangle$')\n",
    "matplotlib.pyplot.show()"
   ]
  },
  {
   "cell_type": "markdown",
   "id": "3f5e565c-7a3f-4d2b-ad01-8977aba60f08",
   "metadata": {},
   "source": [
    "### Additions \n",
    "\n",
    "1. The polymers are obviously \"ideal\" polymers, since they follow the scaling for ideal polymers perfectly. What would we have to do to make them \"non-ideal\" and change the effective solvent quality they are in?\n",
    "2. What scaling laws do you expect polymers in different solvent qualities to follow? "
   ]
  },
  {
   "cell_type": "code",
   "execution_count": null,
   "id": "e928d18b-40ab-4ae6-a073-f37016531ad1",
   "metadata": {},
   "outputs": [],
   "source": []
  },
  {
   "cell_type": "markdown",
   "id": "94c7395b-ab4b-4d23-93f2-69f405a679fe",
   "metadata": {},
   "source": [
    "### More Additions\n",
    "\n",
    "1. There is an alternative way to compute the COM that does not involve unwrapping with `images`. See [J. Chem. Phys. 162, 204103 (2025)]( https://doi.org/10.1063/5.0260928). Implement this algorithm.  "
   ]
  },
  {
   "cell_type": "code",
   "execution_count": null,
   "id": "988ed6b9-7deb-4955-8353-36d7b336f46d",
   "metadata": {},
   "outputs": [],
   "source": []
  }
 ],
 "metadata": {
  "kernelspec": {
   "display_name": "Python 3 (ipykernel)",
   "language": "python",
   "name": "python3"
  },
  "language_info": {
   "codemirror_mode": {
    "name": "ipython",
    "version": 3
   },
   "file_extension": ".py",
   "mimetype": "text/x-python",
   "name": "python",
   "nbconvert_exporter": "python",
   "pygments_lexer": "ipython3",
   "version": "3.11.8"
  }
 },
 "nbformat": 4,
 "nbformat_minor": 5
}
