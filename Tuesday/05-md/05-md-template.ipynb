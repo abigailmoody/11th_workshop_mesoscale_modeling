{
 "cells": [
  {
   "cell_type": "markdown",
   "id": "254735ab",
   "metadata": {},
   "source": [
    "# **Molecular Dynamics Simulation**"
   ]
  },
  {
   "cell_type": "markdown",
   "id": "74fafa53",
   "metadata": {},
   "source": [
    "## **Overview**\n"
   ]
  },
  {
   "cell_type": "markdown",
   "id": "51d661a6",
   "metadata": {},
   "source": [
    "### **Questions**"
   ]
  },
  {
   "cell_type": "markdown",
   "id": "19f61a80",
   "metadata": {},
   "source": [
    "- How can one set up a simple molecular dynamics (MD) simulation with a polymer?"
   ]
  },
  {
   "cell_type": "markdown",
   "id": "d8026a91",
   "metadata": {},
   "source": [
    "### **Objectives**\n"
   ]
  },
  {
   "cell_type": "markdown",
   "id": "eb901225",
   "metadata": {},
   "source": [
    "- Demonstrate the effect of integration step size on energy conservation in an NVE ensemble."
   ]
  },
  {
   "cell_type": "markdown",
   "id": "d77fdb3d",
   "metadata": {},
   "source": [
    "## **Workflow**"
   ]
  },
  {
   "cell_type": "markdown",
   "id": "8fb52c0b",
   "metadata": {},
   "source": [
    "### **Import packgages**\n",
    "Let's import the packages needed for the job."
   ]
  },
  {
   "cell_type": "code",
   "execution_count": null,
   "id": "c7270508",
   "metadata": {},
   "outputs": [],
   "source": [
    "import gsd.hoomd\n",
    "import hoomd\n",
    "import matplotlib\n",
    "import numpy as np\n",
    "\n",
    "%matplotlib inline\n",
    "matplotlib.style.use(\"ggplot\")\n",
    "import matplotlib_inline\n",
    "\n",
    "matplotlib_inline.backend_inline.set_matplotlib_formats(\"svg\")"
   ]
  },
  {
   "cell_type": "markdown",
   "id": "847d44c7",
   "metadata": {},
   "source": [
    "A function named `render` is defined in the cell below to create visualizations using fresnel. The cell may be hidden."
   ]
  },
  {
   "cell_type": "code",
   "execution_count": null,
   "id": "837a9be9",
   "metadata": {},
   "outputs": [],
   "source": [
    "# This is not intended as a full tutorial on fresnel - see the fresnel user\n",
    "# documentation (https://fresnel.readthedocs.io/) if you would like to learn more.\n",
    "\n",
    "import math\n",
    "import warnings\n",
    "import os\n",
    "\n",
    "import fresnel\n",
    "import IPython\n",
    "import packaging.version\n",
    "\n",
    "device = fresnel.Device()\n",
    "tracer = fresnel.tracer.Path(device=device, w=300, h=300)\n",
    "\n",
    "FRESNEL_MIN_VERSION = packaging.version.parse(\"0.13.0\")\n",
    "FRESNEL_MAX_VERSION = packaging.version.parse(\"0.14.0\")\n",
    "\n",
    "\n",
    "def render(snapshot):\n",
    "    if (\n",
    "        \"version\" not in dir(fresnel)\n",
    "        or packaging.version.parse(fresnel.version.version) < FRESNEL_MIN_VERSION\n",
    "        or packaging.version.parse(fresnel.version.version) >= FRESNEL_MAX_VERSION\n",
    "    ):\n",
    "        warnings.warn(\n",
    "            f\"Unsupported fresnel version {fresnel.version.version} - expect errors.\"\n",
    "        )\n",
    "    L = snapshot.configuration.box[0]\n",
    "    scene = fresnel.Scene(device)\n",
    "    geometry = fresnel.geometry.Sphere(\n",
    "        scene, N=len(snapshot.particles.position), radius=0.5\n",
    "    )\n",
    "    geometry.material = fresnel.material.Material(\n",
    "        color=fresnel.color.linear([252 / 255, 209 / 255, 1 / 255]), roughness=0.5\n",
    "    )\n",
    "    geometry.material.primitive_color_mix = 1\n",
    "    geometry.position[:] = snapshot.particles.position[:]\n",
    "    typeid = snapshot.particles.typeid\n",
    "    geometry.color[typeid == 1, :] = fresnel.color.linear(\n",
    "        [90 / 255, 226 / 255, 75 / 255]\n",
    "    )\n",
    "    geometry.color[typeid == 0, :] = fresnel.color.linear(\n",
    "        [255 / 255, 154 / 255, 202 / 255]\n",
    "    )\n",
    "\n",
    "    geometry.outline_width = 0.08\n",
    "    fresnel.geometry.Box(scene, [L, L, 0, 0, 0, 0], box_radius=0.08)\n",
    "\n",
    "    scene.lights = [\n",
    "        fresnel.light.Light(\n",
    "            direction=(1, 0, 0.4), color=(0.85, 0.85, 0.85), theta=math.pi / 2\n",
    "        ),\n",
    "    ]\n",
    "    scene.camera = fresnel.camera.Orthographic(\n",
    "        position=(0, 0, L * 2), look_at=(0, 0, 0), up=(0, 1, 0), height=L + 2\n",
    "    )\n",
    "    scene.background_alpha = 1\n",
    "    scene.background_color = (1, 1, 1)\n",
    "    samples = 2000\n",
    "    if \"CI\" in os.environ:\n",
    "        samples = 100\n",
    "    return IPython.display.Image(tracer.sample(scene, samples=samples)._repr_png_())"
   ]
  },
  {
   "cell_type": "markdown",
   "id": "0f619232",
   "metadata": {},
   "source": [
    "### **Building the polymer**\n",
    "For this tutorial, we will use a single polymer chain. Let's build a linear polymer with $N$ monomers in a cubic box of length, $L$. The polymer is oriented along the $x-\\text{axis}$ and centered in the box. The output is saved in a GSD file, `polymer.gsd`.\n",
    "\n",
    "We should make sure the file does not already exist in our directory."
   ]
  },
  {
   "cell_type": "code",
   "execution_count": null,
   "id": "050852de",
   "metadata": {},
   "outputs": [],
   "source": [
    "file = os.path.join(os.getcwd(), \"polymer.gsd\")\n",
    "if os.path.exists(file):\n",
    "    os.remove(file)"
   ]
  },
  {
   "cell_type": "code",
   "execution_count": null,
   "id": "74ec2afe",
   "metadata": {},
   "outputs": [],
   "source": [
    "L = 100\n",
    "N = 30\n",
    "bond = 1.0\n",
    "positions = np.zeros((N, 3), dtype=float)\n",
    "for i in range(N):\n",
    "    positions[i, 0] = i * bond - ((N * bond - 1) * 0.5)\n",
    "\n",
    "frame = gsd.hoomd.Frame()\n",
    "frame.configuration.box = [L, L, L, 0, 0, 0]\n",
    "\n",
    "# beads\n",
    "frame.particles.N = N\n",
    "frame.particles.position = positions\n",
    "frame.particles.typeid = np.zeros(frame.particles.N, dtype=int)\n",
    "frame.particles.types  = [\"A\"]\n",
    "frame.particles.mass   = np.full(frame.particles.N, 1.0) \n",
    "\n",
    "# bonds\n",
    "frame.bonds.N = N - 1\n",
    "frame.bonds.typeid = np.zeros(frame.bonds.N, dtype=int)\n",
    "frame.bonds.types = [\"A\"]\n",
    "frame.bonds.group = np.column_stack((range(0, N - 1), range(1, N)))\n",
    "\n",
    "with gsd.hoomd.open(\"polymer.gsd\", \"w\") as f:\n",
    "    f.append(frame)"
   ]
  },
  {
   "cell_type": "markdown",
   "id": "2751ece6",
   "metadata": {},
   "source": [
    "Let's use the `render` function to view the polymer chain."
   ]
  },
  {
   "cell_type": "code",
   "execution_count": null,
   "id": "9ba88dba",
   "metadata": {},
   "outputs": [],
   "source": [
    "render(frame)"
   ]
  },
  {
   "cell_type": "markdown",
   "id": "f137c7d8",
   "metadata": {},
   "source": [
    "### **Running the simulation**"
   ]
  },
  {
   "cell_type": "markdown",
   "id": "8406d9b1",
   "metadata": {},
   "source": [
    "Next up, we are going to load the polymer, relax the system and run a simulation."
   ]
  },
  {
   "cell_type": "code",
   "execution_count": null,
   "id": "86002916",
   "metadata": {},
   "outputs": [],
   "source": [
    "dt = 0.005\n",
    "\n",
    "dev = hoomd.device.CPU()\n",
    "with gsd.hoomd.open(\"polymer.gsd\") as traj:\n",
    "    frame = traj[-1] # if there are multiple frames, you may want to use the last one\n",
    "\n",
    "# create starting snapshot\n",
    "snapshot = hoomd.Snapshot.from_gsd_frame(frame, dev.communicator)"
   ]
  },
  {
   "cell_type": "markdown",
   "id": "cd84a011",
   "metadata": {},
   "source": [
    "We can make another call to `render` to view our relaxed system before we proceed to production."
   ]
  },
  {
   "cell_type": "code",
   "execution_count": null,
   "id": "6af1bc41",
   "metadata": {},
   "outputs": [],
   "source": [
    "render(snapshot)"
   ]
  },
  {
   "cell_type": "markdown",
   "id": "ccd560cc",
   "metadata": {},
   "source": [
    "We also need to initialize the simulation state and select an integration method. Since we are interested in the NVE ensemble, we will use [`hoomd.md.methods.ConstantVolume`](https://hoomd-blue.readthedocs.io/en/v5.0.0/hoomd/md/methods/constantvolume.html) with no thermostat.\n",
    "\n",
    "Remember to add the integration method to `operations`. "
   ]
  },
  {
   "cell_type": "code",
   "execution_count": null,
   "id": "1063381b",
   "metadata": {},
   "outputs": [],
   "source": [
    "simulation = hoomd.Simulation(device=dev, seed=42)\n",
    "simulation.create_state_from_snapshot(snapshot)\n",
    "\n",
    "# assign gaussian distributed velocities\n",
    "simulation.state.thermalize_particle_momenta(filter=hoomd.filter.All(), kT=1.0)\n",
    "\n",
    "integrator = hoomd.md.Integrator(dt=dt)\n",
    "simulation.operations.integrator = integrator\n",
    "\n",
    "nve = hoomd.md.methods.ConstantVolume(filter=hoomd.filter.All())\n",
    "integrator.methods.append(nve)"
   ]
  },
  {
   "cell_type": "markdown",
   "id": "fbbb71f0",
   "metadata": {},
   "source": [
    "We will use the Finite Extensible Nonelastic (FENE) potential, with Kremer-Grest parameters for our polymer.\n",
    "\n",
    "$$\n",
    "U_{\\text{FENE}}(r) = -\\dfrac{1}{2} k r_0^2 \\ln \\left[ 1 - \\left( \\dfrac{r}{r_0} \\right)^2 \\right]\n",
    "$$\n",
    "\n",
    "where:\n",
    "- $r$ is the distance between the bonded particles,\n",
    "- $k$ is the strength of the attractive force,\n",
    "- $r_0$ is the maximum bond extension (beyond which the force becomes infinite and breaks).\n",
    "\n",
    "A Weeks-Chandler-Andersen (WCA) potential is also incorporated to model the repulsive interactions.\n",
    "\n",
    "$$\n",
    "U_{\\text{WCA}}(r) =\n",
    "\\begin{cases}\n",
    "4\\varepsilon \\left[ \\left( \\dfrac{\\sigma}{r} \\right)^{12} - \\left( \\dfrac{\\sigma}{r} \\right)^6 \\right] + \\varepsilon, & r \\leq 2^{1/6} \\sigma \\\\\n",
    "0, & r > 2^{1/6} \\sigma\n",
    "\\end{cases}\n",
    "$$\n",
    "\n",
    "where:\n",
    "- $\\varepsilon$ is the repulsive interaction energy,\n",
    "- $\\sigma$ is the repulsive interactive width.\n",
    "\n",
    "HOOMD-Blue's `FENEWCA()` method will do this for bonded pairs and we will define a sWCA potential to handle non-bonded pairs."
   ]
  },
  {
   "cell_type": "code",
   "execution_count": null,
   "id": "70dbdb70",
   "metadata": {},
   "outputs": [],
   "source": [
    "fenewca = hoomd.md.bond.FENEWCA()\n",
    "fenewca.params[\"A\"] = dict(k=30.0, r0=1.5, epsilon=1.0, sigma=1.0, delta=0.0)\n",
    "integrator.forces.append(fenewca)\n",
    "\n",
    "nl = hoomd.md.nlist.Tree(buffer=1.0, exclusions=[\"bond\"])\n",
    "wca = hoomd.md.pair.LJ(nlist=nl, default_r_cut=2.0 ** (1.0 / 6.0), mode=\"shift\")\n",
    "wca.params[(\"A\", \"A\")] = dict(sigma=1.0, epsilon=1.0)\n",
    "integrator.forces.append(wca)"
   ]
  },
  {
   "cell_type": "markdown",
   "id": "ce4f75d1",
   "metadata": {},
   "source": [
    "Let's complete the simulation setup with one more thing - an output log of our thermodynamic quantities of interest. A list of thermodynamic quantities that can be computed are available [on this page](https://hoomd-blue.readthedocs.io/en/v5.0.0/hoomd/md/compute/thermodynamicquantities.html)."
   ]
  },
  {
   "cell_type": "code",
   "execution_count": null,
   "id": "db98cd20",
   "metadata": {},
   "outputs": [],
   "source": [
    "thermo = hoomd.md.compute.ThermodynamicQuantities(filter=hoomd.filter.All())"
   ]
  },
  {
   "cell_type": "markdown",
   "id": "4fcbfbd4",
   "metadata": {},
   "source": [
    "We will create the logger following the documentation [here](https://hoomd-blue.readthedocs.io/en/v5.0.0/hoomd/logging/logger.html). Since our output quantities of interest are all **scalars**, we will only have that in our category list. The items to log are:\n",
    "- time (use `simulation` as object and \"timestep\" in the quantities)\n",
    "- thermodybamic quantities (use `thermo` as object and \"kinetic_energy\", \"potential_energy\" and \"kinetic_temperature\" for quantities)"
   ]
  },
  {
   "cell_type": "code",
   "execution_count": null,
   "id": "f60a8176",
   "metadata": {},
   "outputs": [],
   "source": [
    "logger = hoomd.logging.Logger(categories=[\"scalar\"])\n",
    "logger.add(obj=None, quantities=[None])\n",
    "logger.add(obj=None, quantities=[None])"
   ]
  },
  {
   "cell_type": "markdown",
   "id": "10bde1d3",
   "metadata": {},
   "source": [
    "The created `logger` will be written to file as a `Table`."
   ]
  },
  {
   "cell_type": "code",
   "execution_count": null,
   "id": "8e2d0930",
   "metadata": {},
   "outputs": [],
   "source": [
    "output_log = open(f\"thermo-{dt}.dat\", \"w\")\n",
    "table = hoomd.write.Table(\n",
    "    trigger=1_000,\n",
    "    logger=logger,\n",
    "    output=output_log,\n",
    "    max_header_len=7\n",
    ")"
   ]
  },
  {
   "cell_type": "markdown",
   "id": "833f4655",
   "metadata": {},
   "source": [
    "We shouldn't forget to append our `compute` and `logger` to `operations`."
   ]
  },
  {
   "cell_type": "code",
   "execution_count": null,
   "id": "b63bda36",
   "metadata": {},
   "outputs": [],
   "source": [
    "simulation.operations.computes.append(thermo)\n",
    "simulation.operations.writers.append(table)"
   ]
  },
  {
   "cell_type": "markdown",
   "id": "4622a748",
   "metadata": {},
   "source": [
    "Trajectory information can also be saved in a `GSD` file for visualization. Note that, a logger, such as the one defined above, can also be added to a GSD file but let's keep things as they are now, for simplicity."
   ]
  },
  {
   "cell_type": "code",
   "execution_count": null,
   "id": "2f022c24",
   "metadata": {},
   "outputs": [],
   "source": [
    "# save GSD output\n",
    "gs = hoomd.write.GSD(\n",
    "    trigger=10_000,\n",
    "    filename=\"production-\"+str(dt)+\".gsd\",\n",
    "    mode=\"wb\",\n",
    "    dynamic=[\"property\", \"particles/velocity\", \"particles/image\"]\n",
    ")\n",
    "simulation.operations.writers.append(gs)"
   ]
  },
  {
   "cell_type": "markdown",
   "id": "ce8a5eba",
   "metadata": {},
   "source": [
    "We should now set the number of steps and run the simulation."
   ]
  },
  {
   "cell_type": "code",
   "execution_count": null,
   "id": "adac5fbd",
   "metadata": {},
   "outputs": [],
   "source": [
    "nsteps = 20_000_000\n",
    "simulation.run(nsteps, write_at_start=True)\n",
    "gs.flush()"
   ]
  },
  {
   "cell_type": "markdown",
   "id": "fb24add1",
   "metadata": {},
   "source": [
    "Having completed a run with $\\Delta t = 0.005$. Re-run simulations for $\\Delta t = 0.001\\ \\text{and}\\ 0.009$."
   ]
  },
  {
   "cell_type": "markdown",
   "id": "56e4887b",
   "metadata": {},
   "source": [
    "### **Analyzing the results**"
   ]
  },
  {
   "cell_type": "markdown",
   "id": "8002688a",
   "metadata": {},
   "source": [
    "We will analyze the simulation results for energy conservation with all cases of $\\Delta t$.\n",
    "The measure of energy conservation will be the root-mean-squared deviation."
   ]
  },
  {
   "cell_type": "code",
   "execution_count": null,
   "id": "f268da2f",
   "metadata": {},
   "outputs": [],
   "source": [
    "dt = [0.001, 0.005, 0.009]\n",
    "\n",
    "fig, ax = matplotlib.pyplot.subplots(1, 1, figsize=(4, 3))\n",
    "cmap = matplotlib.pyplot.get_cmap(\"tab10\")\n",
    "colors = [cmap(i) for i in range(len(dt))]\n",
    "\n",
    "averages = np.zeros((len(dt)))\n",
    "\n",
    "for i, t in enumerate(dt):\n",
    "    data = np.loadtxt(f\"thermo-{t}.dat\", skiprows=1)\n",
    "    tot_e = None # from loaded data, sum PE and KE\n",
    "    dev = tot_e - np.mean(tot_e)\n",
    "    yval = np.sqrt(dev**2) / np.mean(tot_e)\n",
    "    ax.plot(data[::10, 0], yval[::10], color=colors[i], label=\"%s\"%t)\n",
    "\n",
    "    averages[i] = np.mean(yval) \n",
    "\n",
    "ax.set_ylabel(r\"$\\sqrt{(E(t)-\\overline{E})^{2}}/\\overline{E}$\")\n",
    "ax.set_xlabel(\"steps\")\n",
    "ax.legend(loc=(1.05,0.05), title=r\"$\\Delta t$\")\n",
    "matplotlib.pyplot.show()\n",
    "\n",
    "for i, t in enumerate(dt):\n",
    "    print(f\"The mean error using Δt = {t} is {averages[i]:.4f}.\")"
   ]
  },
  {
   "cell_type": "markdown",
   "id": "1ab18550",
   "metadata": {},
   "source": [
    "From these results, energy is conserved for $\\Delta t = 0.001\\ \\text{and}\\ 0.005$ (error less than 0.001). So, let's compare other thermodynamic quantities using $\\Delta t = 0.005\\ \\text{and}\\ 0.009$, starting with the potential energy. "
   ]
  },
  {
   "cell_type": "code",
   "execution_count": null,
   "id": "cb3d8a41",
   "metadata": {},
   "outputs": [],
   "source": [
    "dt = [0.005, 0.009]\n",
    "\n",
    "fig, ax = matplotlib.pyplot.subplots(1, 1, figsize=(4, 3))\n",
    "cmap = matplotlib.pyplot.get_cmap(\"tab10\")\n",
    "colors = [cmap(i) for i in range(len(dt))]\n",
    "\n",
    "\n",
    "    # load data\n",
    "    # plot PE\n",
    "\n",
    "ax.set_ylabel(\"potential energy\")\n",
    "ax.set_xlabel(\"steps\")\n",
    "ax.legend(loc=(1.05,0.05), title=r\"$\\Delta t$\")\n",
    "matplotlib.pyplot.show()"
   ]
  },
  {
   "cell_type": "markdown",
   "id": "3bd4b81f",
   "metadata": {},
   "source": [
    "And then the kinetic temperature."
   ]
  },
  {
   "cell_type": "code",
   "execution_count": null,
   "id": "35d16656",
   "metadata": {},
   "outputs": [],
   "source": [
    "dt = [0.005, 0.009]\n",
    "\n",
    "fig, ax = matplotlib.pyplot.subplots(1, 1, figsize=(4, 3))\n",
    "cmap = matplotlib.pyplot.get_cmap(\"tab10\")\n",
    "colors = [cmap(i) for i in range(len(dt))]\n",
    "\n",
    "\n",
    "    # load data\n",
    "    # plot KE\n",
    "    \n",
    "ax.set_ylabel(\"kinetic temperature\")\n",
    "ax.set_xlabel(\"steps\")\n",
    "ax.legend(loc=(1.05,0.05), title=r\"$\\Delta t$\")\n",
    "matplotlib.pyplot.show()"
   ]
  },
  {
   "cell_type": "markdown",
   "id": "229753df",
   "metadata": {},
   "source": [
    "Well, we could also examine momentum conservation in all directions. Since all particles have an equal mass of 1.0, we will sum up velocities. Velocities were saved in the `GSD` file so we will load from there. \n",
    "\n",
    "In the code below, \"frame\" is a snapshot that that contains particle data such as velocities and positions at a given time. You may refer to the [documentation](https://hoomd-blue.readthedocs.io/en/v5.0.0/hoomd/snapshot.html#hoomd.Snapshot.particles.velocity) to see more."
   ]
  },
  {
   "cell_type": "code",
   "execution_count": null,
   "id": "2770a82c",
   "metadata": {},
   "outputs": [],
   "source": [
    "dt = [0.005, 0.009]\n",
    "\n",
    "for _, t in enumerate(dt):\n",
    "    fig, ax = matplotlib.pyplot.subplots(1, 1, figsize=(4, 3))\n",
    "    with gsd.hoomd.open(f\"production-{t}.gsd\") as traj:\n",
    "        mom = np.zeros((len(traj), 3), dtype=float)\n",
    "        time = np.zeros((len(traj)))\n",
    "        for i, frame in enumerate(traj):\n",
    "            mom[i, :] = None # compute momentum\n",
    "            time[i] = frame.configuration.step\n",
    "\n",
    "    # plot curves\n",
    "    ax.plot()\n",
    "\n",
    "    ax.set_title(fr\"$\\Delta t={t} $\")\n",
    "    ax.set_ylabel(\"total momentum\")\n",
    "    ax.set_xlabel(\"steps\")\n",
    "    ax.legend(loc=(1.05,0.05))\n",
    "    matplotlib.pyplot.show()"
   ]
  }
 ],
 "metadata": {
  "kernelspec": {
   "display_name": "envhoomdv5",
   "language": "python",
   "name": "python3"
  },
  "language_info": {
   "codemirror_mode": {
    "name": "ipython",
    "version": 3
   },
   "file_extension": ".py",
   "mimetype": "text/x-python",
   "name": "python",
   "nbconvert_exporter": "python",
   "pygments_lexer": "ipython3",
   "version": "3.13.2"
  }
 },
 "nbformat": 4,
 "nbformat_minor": 5
}
