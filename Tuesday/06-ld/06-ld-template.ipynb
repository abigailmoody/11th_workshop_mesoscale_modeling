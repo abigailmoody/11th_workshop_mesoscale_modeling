{
 "cells": [
  {
   "cell_type": "markdown",
   "id": "254735ab",
   "metadata": {},
   "source": [
    "# **Langevin Dynamics Simulation**"
   ]
  },
  {
   "cell_type": "markdown",
   "id": "74fafa53",
   "metadata": {},
   "source": [
    "## **Overview**\n"
   ]
  },
  {
   "cell_type": "markdown",
   "id": "51d661a6",
   "metadata": {},
   "source": [
    "### **Questions**"
   ]
  },
  {
   "cell_type": "markdown",
   "id": "19f61a80",
   "metadata": {},
   "source": [
    "- How can one set up a Langevin Dynamics (LD) simulation in HOOMD-Blue?"
   ]
  },
  {
   "cell_type": "markdown",
   "id": "d8026a91",
   "metadata": {},
   "source": [
    "### **Objectives**\n"
   ]
  },
  {
   "cell_type": "markdown",
   "id": "eb901225",
   "metadata": {},
   "source": [
    "- Demonstrate how to set up an LD simulation\n",
    "- Examine the effect of the varying the drag coefficient on basic thermodynamic quantities"
   ]
  },
  {
   "cell_type": "markdown",
   "id": "d77fdb3d",
   "metadata": {},
   "source": [
    "## **Workflow**"
   ]
  },
  {
   "cell_type": "markdown",
   "id": "8fb52c0b",
   "metadata": {},
   "source": [
    "### **Import packgages**\n",
    "Let's import the packages needed for the job."
   ]
  },
  {
   "cell_type": "code",
   "execution_count": null,
   "id": "c7270508",
   "metadata": {},
   "outputs": [],
   "source": [
    "import gsd.hoomd\n",
    "import hoomd\n",
    "import matplotlib\n",
    "import numpy as np\n",
    "\n",
    "%matplotlib inline\n",
    "matplotlib.style.use(\"ggplot\")\n",
    "import matplotlib_inline\n",
    "\n",
    "matplotlib_inline.backend_inline.set_matplotlib_formats(\"svg\")"
   ]
  },
  {
   "cell_type": "markdown",
   "id": "0f619232",
   "metadata": {},
   "source": [
    "### **Building the polymer**\n",
    "For this tutorial, we will use a single polymer chain. Let's build a linear polymer with $N$ monomers in a cubic box of length, $L$. The polymer is oriented along the $x-\\text{axis}$ and centered in the box. The output is saved in a GSD file, `polymer.gsd`.\n",
    "\n",
    "We should make sure the file does not already exist in our directory."
   ]
  },
  {
   "cell_type": "code",
   "execution_count": null,
   "id": "050852de",
   "metadata": {},
   "outputs": [],
   "source": [
    "file = os.path.join(os.getcwd(), \"polymer.gsd\")\n",
    "if os.path.exists(file):\n",
    "    os.remove(file)"
   ]
  },
  {
   "cell_type": "code",
   "execution_count": null,
   "id": "74ec2afe",
   "metadata": {},
   "outputs": [],
   "source": [
    "L = 100\n",
    "N = 30\n",
    "bond = 1.0\n",
    "positions = np.zeros((N, 3), dtype=float)\n",
    "for i in range(N):\n",
    "    positions[i, 0] = i * bond - ((N * bond - 1) * 0.5)\n",
    "\n",
    "frame = gsd.hoomd.Frame()\n",
    "frame.configuration.box = [L, L, L, 0, 0, 0]\n",
    "\n",
    "# beads\n",
    "frame.particles.N = N\n",
    "frame.particles.position = positions\n",
    "frame.particles.typeid = np.zeros(frame.particles.N, dtype=int)\n",
    "frame.particles.types  = [\"A\"]\n",
    "frame.particles.mass   = np.full(frame.particles.N, 1.0) \n",
    "\n",
    "# bonds\n",
    "frame.bonds.N = N - 1\n",
    "frame.bonds.typeid = np.zeros(frame.bonds.N, dtype=int)\n",
    "frame.bonds.types = [\"A\"]\n",
    "frame.bonds.group = np.column_stack((range(0, N - 1), range(1, N)))\n",
    "\n",
    "with gsd.hoomd.open(\"polymer.gsd\", \"w\") as f:\n",
    "    f.append(frame)"
   ]
  },
  {
   "cell_type": "markdown",
   "id": "7f3700ec",
   "metadata": {},
   "source": [
    "### **Running the simulation**"
   ]
  },
  {
   "cell_type": "markdown",
   "id": "3e34450d",
   "metadata": {},
   "source": [
    "The system will be initialized from `polymer.gsd`."
   ]
  },
  {
   "cell_type": "code",
   "execution_count": null,
   "id": "0c045a21",
   "metadata": {},
   "outputs": [],
   "source": [
    "dev = hoomd.device.CPU()\n",
    "simulation = hoomd.Simulation(device=dev, seed=2)\n",
    "simulation.create_state_from_gsd(filename=\"polymer.gsd\")"
   ]
  },
  {
   "cell_type": "markdown",
   "id": "5e911c9a",
   "metadata": {},
   "source": [
    "Langevin Dynamics is implemented in HOOMD-Blue as [hoomd.md.methods.Langevin](https://hoomd-blue.readthedocs.io/en/v5.0.0/hoomd/md/methods/langevin.html). You may refer to the page for a definition of the arguments and a mathematical description. An integration step size of $\\Delta t = 0.005$ will be used and $kT=1.0$."
   ]
  },
  {
   "cell_type": "code",
   "execution_count": null,
   "id": "7542bd74",
   "metadata": {},
   "outputs": [],
   "source": [
    "integrator = hoomd.md.Integrator(dt=0.005)\n",
    "simulation.operations.integrator = integrator\n",
    "\n",
    "gamma = 0.1\n",
    "ld = None # Define the langevin method\n",
    "integrator.methods.append(ld)"
   ]
  },
  {
   "cell_type": "markdown",
   "id": "2a939052",
   "metadata": {},
   "source": [
    "Next up, we can now define the bonded and non-bonded interactions. We will use the Finite Extensible Nonelastic (FENE) potential, with Kremer-Grest parameters for our polymer.\n",
    "\n",
    "$$\n",
    "U_{\\text{FENE}}(r) = -\\dfrac{1}{2} k r_0^2 \\ln \\left[ 1 - \\left( \\dfrac{r}{r_0} \\right)^2 \\right]\n",
    "$$\n",
    "\n",
    "where:\n",
    "- $r$ is the distance between the bonded particles,\n",
    "- $k$ is the strength of the attractive force,\n",
    "- $r_0$ is the maximum bond extension (beyond which the force becomes infinite and breaks).\n",
    "\n",
    "A Weeks-Chandler-Andersen (WCA) potential is also incorporated to model the repulsive interactions.\n",
    "\n",
    "$$\n",
    "U_{\\text{WCA}}(r) =\n",
    "\\begin{cases}\n",
    "4\\varepsilon \\left[ \\left( \\dfrac{\\sigma}{r} \\right)^{12} - \\left( \\dfrac{\\sigma}{r} \\right)^6 \\right] + \\varepsilon, & r \\leq 2^{1/6} \\sigma \\\\\n",
    "0, & r > 2^{1/6} \\sigma\n",
    "\\end{cases}\n",
    "$$\n",
    "\n",
    "where:\n",
    "- $\\varepsilon$ is the repulsive interaction energy,\n",
    "- $\\sigma$ is the repulsive interactive width.\n",
    "\n",
    "Complete the setup with these paramaters: $k=30$, $r_{0}=1.5$, $\\varepsilon = 1.0$ and $\\sigma =1.0$. You may use this [documentation](https://hoomd-blue.readthedocs.io/en/v5.0.0/hoomd/md/bond/fenewca.html) as a guide."
   ]
  },
  {
   "cell_type": "code",
   "execution_count": null,
   "id": "711dac21",
   "metadata": {},
   "outputs": [],
   "source": [
    "# bonded interactions\n",
    "fenewca = hoomd.md.bond.FENEWCA()\n",
    "fenewca.params[\"A\"] = None # use a dictionary to set the values of the parameters, delta is 0\n",
    "integrator.forces.append(fenewca)\n",
    "\n",
    "# non-bonded interactions\n",
    "nl = hoomd.md.nlist.Tree(buffer=1.0, exclusions=[\"bond\"])\n",
    "wca = hoomd.md.pair.LJ(nlist=nl, default_r_cut=2.0 ** (1.0 / 6.0), mode=\"shift\")\n",
    "wca.params[(\"A\", \"A\")] = dict(sigma=1.0, epsilon=1.0)\n",
    "integrator.forces.append(wca)"
   ]
  },
  {
   "cell_type": "markdown",
   "id": "ce4f75d1",
   "metadata": {},
   "source": [
    "Since we we would like to examine whether the drag coefficient affects the potential energy and kinetic temperature, Let's compute and log these quantities. To read further on what thermodynamic quantities can be computed, [refer to this page](https://hoomd-blue.readthedocs.io/en/v5.0.0/hoomd/md/compute/thermodynamicquantities.html)."
   ]
  },
  {
   "cell_type": "code",
   "execution_count": null,
   "id": "db98cd20",
   "metadata": {},
   "outputs": [],
   "source": [
    "thermo = hoomd.md.compute.ThermodynamicQuantities(filter=hoomd.filter.All())\n",
    "logger = hoomd.logging.Logger(categories=[\"scalar\"])\n",
    "logger.add(None) # add timestep to the logger\n",
    "logger.add(None) # add potential energy and kinetic temperature to the logger\n",
    "output_log = open(f\"thermo-{gamma}.dat\", \"w\")\n",
    "table = hoomd.write.Table(\n",
    "    trigger=2_000,\n",
    "    logger=logger,\n",
    "    output=output_log,\n",
    "    max_header_len=7\n",
    ")"
   ]
  },
  {
   "cell_type": "markdown",
   "id": "3cad70b4",
   "metadata": {},
   "source": [
    "The computes and writers have been successfully created but unless appended to the `operations` list, they will have no effect.\n",
    "\n",
    "Append \"thermo\" to `simulations.operations.computes`, just as \"table\" has been appended to the writers below."
   ]
  },
  {
   "cell_type": "code",
   "execution_count": null,
   "id": "ec4ed369",
   "metadata": {},
   "outputs": [],
   "source": [
    "# append thermo\n",
    "simulation.operations.writers.append(table)"
   ]
  },
  {
   "cell_type": "markdown",
   "id": "6fff26cd",
   "metadata": {},
   "source": [
    "We will define a gsd writer operation to periodically save trajectories to file."
   ]
  },
  {
   "cell_type": "code",
   "execution_count": null,
   "id": "36c0f6b7",
   "metadata": {},
   "outputs": [],
   "source": [
    "gs = hoomd.write.GSD(\n",
    "    trigger=2_000,\n",
    "    filename=\"production-\"+str(gamma)+\".gsd\",\n",
    "    mode=\"wb\",\n",
    "    dynamic=['property','particles/velocity','particles/image']\n",
    ")\n",
    "simulation.operations.writers.append(gs)"
   ]
  },
  {
   "cell_type": "markdown",
   "id": "ce8a5eba",
   "metadata": {},
   "source": [
    "We will now produce the simulation data for analyses."
   ]
  },
  {
   "cell_type": "code",
   "execution_count": null,
   "id": "adac5fbd",
   "metadata": {},
   "outputs": [],
   "source": [
    "simulation.run(10_000_000, write_at_start=True)"
   ]
  },
  {
   "cell_type": "markdown",
   "id": "8b7d2347",
   "metadata": {},
   "source": [
    "Flush the `GSD` writer after the simulation."
   ]
  },
  {
   "cell_type": "code",
   "execution_count": null,
   "id": "5d74ec4c",
   "metadata": {},
   "outputs": [],
   "source": [
    "gs.flush()"
   ]
  },
  {
   "cell_type": "markdown",
   "id": "fb24add1",
   "metadata": {},
   "source": [
    "Having completed with a $\\gamma = 0.1$, re-run simulation for 0.01 and 1.0 (and 10 if time permits!)."
   ]
  },
  {
   "cell_type": "markdown",
   "id": "56e4887b",
   "metadata": {},
   "source": [
    "### **Analyzing the results**"
   ]
  },
  {
   "cell_type": "markdown",
   "id": "1ab18550",
   "metadata": {},
   "source": [
    "We will analyze the average potential energy and kinetic temperature data as function of $\\gamma$.\n",
    "In each dataset, you may ignore the first half in your analysis.\n",
    "\n",
    "To begin, let's define a function to help us compute the block averages."
   ]
  },
  {
   "cell_type": "code",
   "execution_count": null,
   "id": "e5dda21c",
   "metadata": {},
   "outputs": [],
   "source": [
    "def block_average(data, num_blocks=3):\n",
    "    traj_length = len(data)\n",
    "    block_size = traj_length // num_blocks\n",
    "\n",
    "    blocks = data[:num_blocks * block_size].reshape((num_blocks, block_size))\n",
    "    block_means = np.mean(blocks, axis=1)\n",
    "\n",
    "    mean = np.mean(block_means)\n",
    "    std_error = np.std(block_means, ddof=1) / np.sqrt(num_blocks)\n",
    "\n",
    "    return mean, std_error\n"
   ]
  },
  {
   "cell_type": "code",
   "execution_count": null,
   "id": "cb3d8a41",
   "metadata": {},
   "outputs": [],
   "source": [
    "drag = [ ] #fill in with the gamma values tested \n",
    "\n",
    "fig, ax = matplotlib.pyplot.subplots(1, 2, figsize=(9, 3))\n",
    "\n",
    "pe_data   = np.zeros((len(drag))) # average PE \n",
    "pe_err    = np.zeros((len(drag))) # standard error\n",
    "temp_data = np.zeros((len(drag))) # average temperature\n",
    "temp_err  = np.zeros((len(drag))) # standard error\n",
    "\n",
    "for i, d in enumerate(drag):\n",
    "    # loop through the \"thermo-*\" files\n",
    "    # compute the block averages\n",
    "    # fill in the average and standard error data\n",
    "\n",
    "# potential energy\n",
    "ax[0].bar([i for i in range(len(drag))], pe_data, yerr=pe_err, capsize=10, color='g')\n",
    "ax[0].set_ylabel(\"average potential energy\")\n",
    "ax[0].set_xlabel(r\"$\\gamma$\")\n",
    "ax[0].set_xticks([i for i in range(len(drag))])\n",
    "ax[0].set_xticklabels(drag)\n",
    "\n",
    "# kinetic temperature\n",
    "ax[1].bar([i for i in range(len(drag))], temp_data, yerr=temp_err, capsize=10, color='b')\n",
    "ax[1].set_ylabel(\"average kinetic temperature\")\n",
    "ax[1].set_xlabel(r\"$\\gamma$\")\n",
    "ax[1].set_xticks([i for i in range(len(drag))])\n",
    "ax[1].set_xticklabels(drag)\n",
    "\n",
    "matplotlib.pyplot.subplots_adjust(wspace=0.3)\n",
    "matplotlib.pyplot.show()"
   ]
  },
  {
   "cell_type": "markdown",
   "id": "229753df",
   "metadata": {},
   "source": [
    "We will also examine velocity distributions from the simulation data and compare with the **Maxwell-Boltzmann distribution**. Velocities were saved in the `GSD` file so we will load from there.\n",
    "\n",
    "The analytical expression of the Maxwell-Boltzmann distribution is given as:\n",
    "\n",
    "$$\n",
    "f(v) = 4\\pi \\left( \\frac{m}{2\\pi k_B T} \\right)^{3/2} v^2 e^{- \\frac{mv^2}{2k_B T}}\n",
    "$$\n",
    "\n",
    "In this tutorial, both the mass of particle, $m$, and $k_{\\text{B}}{T}$ have a value of 1.0."
   ]
  },
  {
   "cell_type": "code",
   "execution_count": null,
   "id": "2770a82c",
   "metadata": {},
   "outputs": [],
   "source": [
    "drag = [ ] #fill in with the gamma values tested \n",
    "\n",
    "fig, ax = matplotlib.pyplot.subplots(1, 1, figsize=(5, 4))\n",
    "cmap = matplotlib.pyplot.get_cmap(\"tab10\")\n",
    "colors = [cmap(j) for j in range(len(drag))]\n",
    "\n",
    "# plot velocity distributions\n",
    "for j, d in enumerate(drag):\n",
    "    vels = []\n",
    "    with gsd.hoomd.open(f\"production-{d}.gsd\") as traj:\n",
    "        # traj should be an array that contains particle data in all frames\n",
    "        # loop through each frame and extract the velocity data with frame.particles.velocity[:]\n",
    "        # the velocity data will be extracted as 3D vectors: (N, 3), but the magnitude is what is needed for the distribution\n",
    "        # append the speeds of all particles to `vels`\n",
    "        # Complete this in the loop below to cover all frames  \n",
    "        for i, frame in enumerate(traj):\n",
    "            \n",
    "\n",
    "    vels = np.array(vels)\n",
    "    ax.hist(vels, bins=75, color=colors[j], density=True, label=r\"$\\gamma = %s$\"%d)\n",
    "\n",
    "# overlay Maxwell-Boltzmann's distribution\n",
    "v = np.linspace(0, np.max(vels), len(vels))\n",
    "MB_dist = 4 * np.pi * (1.0 / (2 * np.pi * 1.0))**1.5 * v**2 * np.exp(-1.0 * v**2 / (2 * 1.0))\n",
    "ax.plot(v, MB_dist, 'k-', lw=3, label=\"Maxwell-Boltzmann\")\n",
    "\n",
    "ax.set_ylabel(\"probability density\")   \n",
    "ax.set_xlabel(\"velocity\")\n",
    "ax.legend(loc=(1.05,0.05))\n",
    "matplotlib.pyplot.show()"
   ]
  }
 ],
 "metadata": {
  "kernelspec": {
   "display_name": "envhoomdv5",
   "language": "python",
   "name": "python3"
  },
  "language_info": {
   "codemirror_mode": {
    "name": "ipython",
    "version": 3
   },
   "file_extension": ".py",
   "mimetype": "text/x-python",
   "name": "python",
   "nbconvert_exporter": "python",
   "pygments_lexer": "ipython3",
   "version": "3.13.2"
  }
 },
 "nbformat": 4,
 "nbformat_minor": 5
}
