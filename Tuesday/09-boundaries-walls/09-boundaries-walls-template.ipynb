{
 "cells": [
  {
   "cell_type": "markdown",
   "id": "254735ab",
   "metadata": {},
   "source": [
    "# **Langevin Dynamics Simulation of a Polymer Confined Between Walls**"
   ]
  },
  {
   "cell_type": "markdown",
   "id": "74fafa53",
   "metadata": {},
   "source": [
    "## **Overview**\n"
   ]
  },
  {
   "cell_type": "markdown",
   "id": "51d661a6",
   "metadata": {},
   "source": [
    "### **Questions**"
   ]
  },
  {
   "cell_type": "markdown",
   "id": "19f61a80",
   "metadata": {},
   "source": [
    "- How do I perform a simulation of a polymer confined between walls?"
   ]
  },
  {
   "cell_type": "markdown",
   "id": "d8026a91",
   "metadata": {},
   "source": [
    "### **Objectives**\n"
   ]
  },
  {
   "cell_type": "markdown",
   "id": "eb901225",
   "metadata": {},
   "source": [
    "- Compute the density profile of the polymer between the walls"
   ]
  },
  {
   "cell_type": "markdown",
   "id": "d77fdb3d",
   "metadata": {},
   "source": [
    "## **Workflow**"
   ]
  },
  {
   "cell_type": "markdown",
   "id": "8fb52c0b",
   "metadata": {},
   "source": [
    "### **Import packgages**\n",
    "Let's import the packages needed for the job."
   ]
  },
  {
   "cell_type": "code",
   "execution_count": null,
   "id": "c7270508",
   "metadata": {},
   "outputs": [],
   "source": [
    "import gsd.hoomd\n",
    "import hoomd\n",
    "import matplotlib\n",
    "import numpy as np\n",
    "\n",
    "%matplotlib inline\n",
    "matplotlib.style.use(\"ggplot\")\n",
    "import matplotlib_inline\n",
    "\n",
    "matplotlib_inline.backend_inline.set_matplotlib_formats(\"svg\")"
   ]
  },
  {
   "cell_type": "markdown",
   "id": "0f619232",
   "metadata": {},
   "source": [
    "### **Building the polymer**\n",
    "For this tutorial, we will use a single polymer chain. Let's build a linear polymer with $N$ monomers in a cubic box of length, $L$. The polymer is oriented along the $x-\\text{axis}$ and centered in the box. The output is saved in a GSD file, `polymer.gsd`.\n",
    "\n",
    "We should make sure the file does not already exist in our directory."
   ]
  },
  {
   "cell_type": "code",
   "execution_count": null,
   "id": "050852de",
   "metadata": {},
   "outputs": [],
   "source": [
    "file = os.path.join(os.getcwd(), \"polymer.gsd\")\n",
    "if os.path.exists(file):\n",
    "    os.remove(file)"
   ]
  },
  {
   "cell_type": "code",
   "execution_count": null,
   "id": "74ec2afe",
   "metadata": {},
   "outputs": [],
   "source": [
    "L = 100\n",
    "N = 30\n",
    "bond = 1.0\n",
    "positions = np.zeros((N, 3), dtype=float)\n",
    "for i in range(N):\n",
    "    positions[i, 0] = i * bond - ((N - 1) * 0.5)\n",
    "\n",
    "frame = gsd.hoomd.Frame()\n",
    "frame.configuration.box = [L, L, L, 0, 0, 0]\n",
    "\n",
    "# beads\n",
    "frame.particles.N = N\n",
    "frame.particles.position = positions\n",
    "frame.particles.typeid = np.zeros(frame.particles.N, dtype=int)\n",
    "frame.particles.types  = [\"A\"]\n",
    "frame.particles.mass   = np.full(frame.particles.N, 1.0) \n",
    "\n",
    "# bonds\n",
    "frame.bonds.N = N - 1\n",
    "frame.bonds.typeid = np.zeros(frame.bonds.N, dtype=int)\n",
    "frame.bonds.types = [\"A\"]\n",
    "frame.bonds.group = np.column_stack((range(0, N - 1), range(1, N)))\n",
    "\n",
    "with gsd.hoomd.open(\"polymer.gsd\", \"w\") as f:\n",
    "    f.append(frame)"
   ]
  },
  {
   "cell_type": "markdown",
   "id": "7f3700ec",
   "metadata": {},
   "source": [
    "### **Running the simulation**"
   ]
  },
  {
   "cell_type": "markdown",
   "id": "3e34450d",
   "metadata": {},
   "source": [
    "The initial simulation state will be [created](https://hoomd-blue.readthedocs.io/en/v5.0.0/hoomd/simulation.html#hoomd.Simulation.create_state_from_gsd)\n",
    "from the `GSD` file containing the polymer we just built."
   ]
  },
  {
   "cell_type": "code",
   "execution_count": null,
   "id": "0c045a21",
   "metadata": {},
   "outputs": [],
   "source": [
    "dev = hoomd.device.CPU()\n",
    "simulation = hoomd.Simulation(device=dev, seed=2)\n",
    "\n",
    "# add command to create initial simulation state here"
   ]
  },
  {
   "cell_type": "markdown",
   "id": "5e911c9a",
   "metadata": {},
   "source": [
    "We will define the integrator. An integration step size of $\\Delta t = 0.005$ will be used."
   ]
  },
  {
   "cell_type": "code",
   "execution_count": null,
   "id": "7542bd74",
   "metadata": {},
   "outputs": [],
   "source": [
    "integrator = hoomd.md.Integrator(dt=0.005)\n",
    "simulation.operations.integrator = integrator"
   ]
  },
  {
   "cell_type": "markdown",
   "id": "90ddcad7",
   "metadata": {},
   "source": [
    "Now, define the [Langevin method](https://hoomd-blue.readthedocs.io/en/v5.0.0/hoomd/md/methods/langevin.html).\n",
    "You may use $kT=1.0$.\n",
    "\n",
    "Remember to **append** it to the methods in the integrator."
   ]
  },
  {
   "cell_type": "code",
   "execution_count": null,
   "id": "33e795c7",
   "metadata": {},
   "outputs": [],
   "source": [
    "ld = None # define your Langevin method here"
   ]
  },
  {
   "cell_type": "markdown",
   "id": "2a939052",
   "metadata": {},
   "source": [
    "Next up, we can now define the bonded and non-bonded interactions. We will use the Finite Extensible Nonelastic (FENE) potential, with Kremer-Grest parameters for our polymer.\n",
    "\n",
    "$$\n",
    "U_{\\text{FENE}}(r) = -\\dfrac{1}{2} k r_0^2 \\ln \\left[ 1 - \\left( \\dfrac{r}{r_0} \\right)^2 \\right]\n",
    "$$\n",
    "\n",
    "where:\n",
    "- $r$ is the distance between the bonded particles,\n",
    "- $k$ is the strength of the attractive force,\n",
    "- $r_0$ is the maximum bond extension (beyond which the force becomes infinite and breaks).\n",
    "\n",
    "A Weeks-Chandler-Andersen (WCA) potential is also incorporated to model the repulsive interactions.\n",
    "\n",
    "$$\n",
    "U_{\\text{WCA}}(r) =\n",
    "\\begin{cases}\n",
    "4\\varepsilon \\left[ \\left( \\dfrac{\\sigma}{r} \\right)^{12} - \\left( \\dfrac{\\sigma}{r} \\right)^6 \\right] + \\varepsilon, & r \\leq 2^{1/6} \\sigma \\\\\n",
    "0, & r > 2^{1/6} \\sigma\n",
    "\\end{cases}\n",
    "$$\n",
    "\n",
    "where:\n",
    "- $\\varepsilon$ is the repulsive interaction energy,\n",
    "- $\\sigma$ is the repulsive interactive width.\n",
    "\n",
    "We must append these forces to the operations list through the integrator.\n",
    "\n",
    "HOOMD-Blue uses [FENEWCA](https://hoomd-blue.readthedocs.io/en/v5.0.0/hoomd/md/bond/fenewca.html) to model these bonded interactions.\n",
    "\n",
    "Rework the cell below with parameters from the same parameters from the previous tutorial."
   ]
  },
  {
   "cell_type": "code",
   "execution_count": null,
   "id": "711dac21",
   "metadata": {},
   "outputs": [],
   "source": [
    "# bonded interactions\n",
    "fenewca = None \n",
    "fenewca.params[\"A\"] = None\n",
    "integrator.forces.append(fenewca)\n",
    "\n",
    "# non-bonded interactions\n",
    "nl = hoomd.md.nlist.Tree(buffer=1.0, exclusions=[\"bond\"])\n",
    "wca = None\n",
    "wca.params[(\"A\", \"A\")] = None\n",
    "integrator.forces # append wca to force list"
   ]
  },
  {
   "cell_type": "markdown",
   "id": "631d8472",
   "metadata": {},
   "source": [
    "We should also define the [polymer-wall interactions](https://hoomd-blue.readthedocs.io/en/stable/hoomd/wall/plane.html). The **radius of gyration**, $R_g$, of a 30-mer is approximately 3.4. Walls will be separated at $n \\times R_g$, in the $y$-direction, where $n$ is a positive real number.\n",
    "\n",
    "The two walls will be located at $y=-0.5\\times$ WallSeparation and $y=0.5\\times$ WallSeparation."
   ]
  },
  {
   "cell_type": "code",
   "execution_count": null,
   "id": "7683a318",
   "metadata": {},
   "outputs": [],
   "source": [
    "n = 1.5\n",
    "wall_sep = n * 3.4\n",
    "\n",
    "# set the wall locations in the y-direction\n",
    "top_wall = hoomd.wall.Plane(origin=(0, 0.5*wall_sep, 0), normal=(0, -1, 0))\n",
    "bottom_wall = hoomd.wall.Plane(origin=(0, -0.5*wall_sep, 0), normal=(0, 1, 0))\n",
    "\n",
    "# define the interactions\n",
    "wall_wca = hoomd.md.external.wall.LJ(walls=[top_wall, bottom_wall])\n",
    "wall_wca = hoomd.md.external.wall.LJ(walls=[top_wall, bottom_wall])\n",
    "wall_wca.params[(\"A\")] = dict(sigma=1.0, epsilon=1.0, r_cut=2.0 ** (1.0 / 6.0))\n",
    "\n",
    "integrator.forces.append(wall_wca)"
   ]
  },
  {
   "cell_type": "markdown",
   "id": "6fff26cd",
   "metadata": {},
   "source": [
    "We will define a gsd writer operation to periodically save trajectories to file."
   ]
  },
  {
   "cell_type": "code",
   "execution_count": null,
   "id": "36c0f6b7",
   "metadata": {},
   "outputs": [],
   "source": [
    "gs = hoomd.write.GSD(\n",
    "    trigger=1_000,\n",
    "    filename=\"production.gsd\",\n",
    "    mode=\"wb\",\n",
    "    dynamic=['configuration/box','particles/N','particles/position','particles/image','particles/velocity']\n",
    ")\n",
    "simulation.operations.writers.append(gs)"
   ]
  },
  {
   "cell_type": "markdown",
   "id": "ce8a5eba",
   "metadata": {},
   "source": [
    "We will now produce the simulation data for analyses."
   ]
  },
  {
   "cell_type": "code",
   "execution_count": null,
   "id": "adac5fbd",
   "metadata": {},
   "outputs": [],
   "source": [
    "simulation.run(30_000_000, write_at_start=True)\n",
    "gs.flush()"
   ]
  },
  {
   "cell_type": "markdown",
   "id": "56e4887b",
   "metadata": {},
   "source": [
    "### **Analyzing the results**"
   ]
  },
  {
   "cell_type": "markdown",
   "id": "1ab18550",
   "metadata": {},
   "source": [
    "We will analyze the monomer and center-of-mass (COM) distributions of the polymer between the two walls."
   ]
  },
  {
   "cell_type": "code",
   "execution_count": null,
   "id": "6b2c5485",
   "metadata": {},
   "outputs": [],
   "source": [
    "fig, ax = matplotlib.pyplot.subplots(1, 1)\n",
    "\n",
    "nbins = 30\n",
    "bin_edges = np.linspace(-0.5 * wall_sep, 0.5 * wall_sep, nbins+1)\n",
    "mon_pos = [] # to collect y-positions of monomers\n",
    "com_pos = [] # to collect y-positions of COM \n",
    "with gsd.hoomd.open(\"production.gsd\", \"r\") as traj:\n",
    "    for _, frame in enumerate(traj):\n",
    "        pos = frame.particles.position + frame.configuration.box[:3] * frame.particles.image # unwrap coords\n",
    "        # append y position of monomers \n",
    "        # compute COM and append y-position\n",
    "\n",
    "# plot monomer distribution\n",
    "mon_pos = np.array(mon_pos)\n",
    "mon_hist, _ = np.histogram( )\n",
    "ax.plot(None) # plot the bin centers (or midpoints) vs the histogram\n",
    "\n",
    "# plot COM distribution\n",
    "com_pos = np.array(com_pos)\n",
    "print(len(com_pos))\n",
    "com_hist, _ = np.histogram(com_pos, bin_edges, density=True)\n",
    "ax.plot(None) # plot the bin centers (or midpoints) vs the histogram\n",
    "\n",
    "# identify walls\n",
    "wall = np.linspace(-0.05, 1.06 * np.max(com_hist), 10)\n",
    "ax.plot(np.full_like(wall, -0.5 * wall_sep), wall, \"k--\", lw=3.5)\n",
    "ax.plot(np.full_like(wall, 0.5 * wall_sep), wall, \"k--\", lw=3.5)\n",
    "ax.set_ylim([-0.01, 1.04 * np.max(com_hist)])\n",
    "\n",
    "ax.legend(loc=(1.05, 0.05))\n",
    "ax.set_xlabel(\"y-position\")\n",
    "ax.set_ylabel(\"density\")\n",
    "\n",
    "matplotlib.pyplot.show()"
   ]
  }
 ],
 "metadata": {
  "kernelspec": {
   "display_name": "envhoomdv5",
   "language": "python",
   "name": "python3"
  },
  "language_info": {
   "codemirror_mode": {
    "name": "ipython",
    "version": 3
   },
   "file_extension": ".py",
   "mimetype": "text/x-python",
   "name": "python",
   "nbconvert_exporter": "python",
   "pygments_lexer": "ipython3",
   "version": "3.13.2"
  }
 },
 "nbformat": 4,
 "nbformat_minor": 5
}
