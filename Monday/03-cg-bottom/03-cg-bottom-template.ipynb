{
 "cells": [
  {
   "cell_type": "markdown",
   "id": "a970be7a",
   "metadata": {},
   "source": [
    "# **Calculation of depletion forces in colloids and depletants**"
   ]
  },
  {
   "cell_type": "markdown",
   "id": "2a2ce2c0-6f07-4d4c-9d34-cdf87b4f04ef",
   "metadata": {},
   "source": [
    "## **Overview**"
   ]
  },
  {
   "cell_type": "markdown",
   "id": "2352d5f2-8414-4d14-a2bf-c0fcb02dde93",
   "metadata": {},
   "source": [
    "Depletion forces: Effective attractive force that arises when colloidal particle are suspended in dilute solution of depletants"
   ]
  },
  {
   "cell_type": "markdown",
   "id": "d00e072f-48d6-4c2f-be02-7e9a8ca3b0e0",
   "metadata": {},
   "source": [
    "## **Question**"
   ]
  },
  {
   "cell_type": "markdown",
   "id": "c360d75b-ce4b-4909-b86b-f1c15c9bcee6",
   "metadata": {},
   "source": [
    "Compute the mean force profile for colloids in a bath of depletants"
   ]
  },
  {
   "cell_type": "markdown",
   "id": "8d90e7ac-9e3b-4f0f-a339-11067d2b6336",
   "metadata": {},
   "source": [
    "### **Objectives**"
   ]
  },
  {
   "cell_type": "markdown",
   "id": "d7e70e0d-d5a4-4268-97a7-befd6e6dcc51",
   "metadata": {},
   "source": [
    "- Demonstrate how to set up simulations of colloids in the solution of depletants\n",
    "- Calculate the depletion force for a given separation between colloids and volume fraction of depletants"
   ]
  },
  {
   "cell_type": "markdown",
   "id": "ce25e227-85bf-4d8b-85b7-abfd4aa9d881",
   "metadata": {},
   "source": [
    "## **Workflow**"
   ]
  },
  {
   "cell_type": "markdown",
   "id": "33d063ea-ab25-4758-a3cb-6afd2192dfbf",
   "metadata": {},
   "source": [
    "### **Import packgages**\n",
    "Let's import the packages needed for the job."
   ]
  },
  {
   "cell_type": "code",
   "execution_count": null,
   "id": "5dca99c6-8458-4010-ae9e-91bd2dd0fd55",
   "metadata": {},
   "outputs": [],
   "source": [
    "# This cell is only needed on Google Colab\n",
    "!pip install -q condacolab\n",
    "!git clone https://github.com/icomse/11th_workshop_mesoscale_modeling.git Monday-CG\n",
    "import condacolab\n",
    "condacolab.install()"
   ]
  },
  {
   "cell_type": "code",
   "execution_count": null,
   "id": "247981c2-abaf-4718-b49b-62c57a48e4f6",
   "metadata": {},
   "outputs": [],
   "source": [
    "# This cell is only needed on Google Colab\n",
    "%%capture\n",
    "!conda install scipy matplotlib numpy gsd fresnel hoomd\n",
    "import os\n",
    "os.chdir(\"Monday-CG\")"
   ]
  },
  {
   "cell_type": "code",
   "execution_count": 1,
   "id": "59973863-d2de-4d6e-a6e8-6c4d430b5af2",
   "metadata": {},
   "outputs": [],
   "source": [
    "import numpy as np\n",
    "import os\n",
    "import gsd\n",
    "import gsd.hoomd\n",
    "import hoomd\n",
    "from hoomd import md"
   ]
  },
  {
   "cell_type": "markdown",
   "id": "cafdf877-8ff2-4726-98e3-82644198e418",
   "metadata": {},
   "source": [
    "### **Specify simulation parameters**\n",
    "- $\\phi_{d}$:  Volume fraction of depletant \n",
    "- $L$:  Simulation box size\n",
    "- $r$:  Separation between colloids\n",
    "- $T$:  Temperature\n",
    "- $\\sigma_d$: Diameter of depletants\n",
    "- $\\sigma_c$: Diameter of colloids\n",
    "- $\\sigma_c/\\sigma_d = 5$\n",
    "- $m_{d}$: Mass of depletant"
   ]
  },
  {
   "cell_type": "code",
   "execution_count": 2,
   "id": "48726fd1-e63e-413a-bf8f-d929bac349c0",
   "metadata": {},
   "outputs": [],
   "source": [
    "phi_d = 0.04 #volume fraction of depletant\n",
    "L = 20.0 #Simulation box size\n",
    "r = 4.5 #distance between centers of collodids\n",
    "kT = 1.0\n",
    "sigma_d = 1.0  #diamter of depletant\n",
    "sigma_c = 5.0  #diameter of colloids\n",
    "Nc = 2 #No. of colloids\n",
    "mass_d = 1.0  #mass of depletant"
   ]
  },
  {
   "cell_type": "markdown",
   "id": "982b253a-dc1f-4715-b08a-a035fb1847dd",
   "metadata": {},
   "source": [
    "Now let's evaluate parameters that are dependent on the above values\n",
    "- We determine the mass of colloids to match the density of colloids with density of depletants\n",
    "- We also calculate number of depletants from the volume fraction of depletants and simulation box size\n",
    "- $m_{c}$: Mass of colloid"
   ]
  },
  {
   "cell_type": "code",
   "execution_count": 3,
   "id": "df2dbcb5-72d9-4415-aa73-d6a484d72319",
   "metadata": {},
   "outputs": [],
   "source": [
    "mass_c = (sigma_c/sigma_d)**3 #mass of colloid\n",
    "vol_1 = np.pi/6.0*sigma_d**3 # volume of one depletant particle\n",
    "Nd = int(phi_d*L**3/vol_1)   #No. of depletant corresponding to given volume fraction\n",
    "Np = Nd+Nc  #Total number of particles"
   ]
  },
  {
   "cell_type": "markdown",
   "id": "4716d30d",
   "metadata": {},
   "source": [
    "Array for storing particle position\n"
   ]
  },
  {
   "cell_type": "code",
   "execution_count": 4,
   "id": "b26cec06",
   "metadata": {},
   "outputs": [],
   "source": [
    "pos = np.zeros((Np,3),dtype=float)"
   ]
  },
  {
   "cell_type": "markdown",
   "id": "1ab1e06e",
   "metadata": {},
   "source": [
    "Initial positions of depletant and colloids\n"
   ]
  },
  {
   "cell_type": "code",
   "execution_count": 5,
   "id": "96207a2f-4d8d-444d-aad2-df3889dc8abc",
   "metadata": {},
   "outputs": [],
   "source": [
    "Sx = -L/2.0 + 0.5\n",
    "Sy = -L/2.0 + 0.5\n",
    "Sz = -L/2.0 + 0.5\n",
    "\n",
    "Id = 0\n",
    "\n",
    "for i in range(7):\n",
    "    x = Sx + i\n",
    "    for j in range(20):\n",
    "        y = Sy + j\n",
    "        for k in range(20):\n",
    "            z = Sz + k\n",
    "            if Id >= Nd:\n",
    "                break\n",
    "            pos[Id] = [x, y, z]\n",
    "            Id += 1\n",
    "        if Id >= Nd:\n",
    "            break\n",
    "    if Id >= Nd:\n",
    "        break\n",
    "\n",
    "pos[Nd,0] = r/2.0\n",
    "pos[Nd+1,0] = -r/2.0"
   ]
  },
  {
   "cell_type": "markdown",
   "id": "46d98aea",
   "metadata": {},
   "source": [
    "Asssign arrays for particle mass and type"
   ]
  },
  {
   "cell_type": "code",
   "execution_count": 6,
   "id": "6efbf5c6-6aea-4c94-91d1-7920d7fcae38",
   "metadata": {},
   "outputs": [],
   "source": [
    "ParticleMass = np.full(Np, mass_d)\n",
    "ParticleMass[Nd:] = mass_c\n",
    "ParticleType = np.zeros(Np,dtype=int)\n",
    "ParticleType[Nd:] = 1"
   ]
  },
  {
   "cell_type": "markdown",
   "id": "5d17ea8a-8c24-4211-a5e8-feb3a647fbe0",
   "metadata": {},
   "source": [
    "Function for assigning velocity from normal distribution"
   ]
  },
  {
   "cell_type": "code",
   "execution_count": 7,
   "id": "8fd29b60-3b9e-45ff-8653-5f7287c35b06",
   "metadata": {},
   "outputs": [],
   "source": [
    "def sample_velocities(N, mass, temperature, seed):\n",
    "    rng = np.random.default_rng(seed)\n",
    "    sigma = np.sqrt(temperature / mass)\n",
    "    velocities = rng.normal(loc=0.0, scale=sigma, size=(N, 3))  # shape (N, 3) for vx, vy, vz\n",
    "    return velocities\n",
    "def remove_drift(velocities, masses):\n",
    "    total_mass = np.sum(masses)\n",
    "    com_velocity = np.sum(velocities * masses[:, np.newaxis], axis=0) / total_mass\n",
    "    return velocities - com_velocity"
   ]
  },
  {
   "cell_type": "code",
   "execution_count": 8,
   "id": "df150f60-aba3-4568-9479-91f13a956c53",
   "metadata": {},
   "outputs": [],
   "source": [
    "vel_d = sample_velocities(Nd, mass=mass_d, temperature=kT, seed=424)\n",
    "vel_d = remove_drift(vel_d, ParticleMass[0:Nd]) # Remove net momentum\n",
    "vel_c =  np.zeros((Nc,3),dtype=float)\n",
    "vel = np.concatenate((vel_d, vel_c))"
   ]
  },
  {
   "cell_type": "markdown",
   "id": "4c3ba400",
   "metadata": {},
   "source": [
    "### **Create a starting configuration frame**"
   ]
  },
  {
   "cell_type": "markdown",
   "id": "5275b397-86c1-460a-88d4-6b9aeb80ad6c",
   "metadata": {},
   "source": [
    "Ensuring the new gsd file is written and prevoius file is deleted "
   ]
  },
  {
   "cell_type": "code",
   "execution_count": 9,
   "id": "2060c9a4-38c4-4abe-87db-e5757069b67d",
   "metadata": {},
   "outputs": [],
   "source": [
    "file = os.path.join(os.getcwd(), \"initial.gsd\")\n",
    "if os.path.exists(file):\n",
    "    os.remove(file)"
   ]
  },
  {
   "cell_type": "code",
   "execution_count": 10,
   "id": "d065f74c-406c-4684-a459-4a33584f114b",
   "metadata": {},
   "outputs": [],
   "source": [
    "frame = gsd.hoomd.Frame()\n",
    "frame.configuration.box = [L, L, L, 0, 0, 0]\n",
    "frame.particles.N = Np\n",
    "frame.particles.position = pos\n",
    "frame.particles.typeid = ParticleType\n",
    "frame.particles.types = ['A','B']\n",
    "frame.particles.mass = ParticleMass\n",
    "frame.particles.velocity = vel\n",
    "with gsd.hoomd.open(name='initial.gsd', mode='x') as f:\n",
    "    f.append(frame)"
   ]
  },
  {
   "cell_type": "markdown",
   "id": "82b1121f-73ce-4e04-8c49-420e9aab722e",
   "metadata": {},
   "source": [
    "\n",
    "### **Initialize the MD simulation**"
   ]
  },
  {
   "cell_type": "code",
   "execution_count": 11,
   "id": "28a082ce-eba7-44e5-b76a-4cf0fddf9c0a",
   "metadata": {},
   "outputs": [],
   "source": [
    "cpu = hoomd.device.CPU()\n",
    "simulation = hoomd.Simulation(device=cpu, seed=3245)\n",
    "simulation.create_state_from_gsd(filename='initial.gsd')"
   ]
  },
  {
   "cell_type": "markdown",
   "id": "a9e82efd-1450-4764-9648-be95dbfa62b6",
   "metadata": {},
   "source": [
    "Define integrator with timestep in hoomd.md module"
   ]
  },
  {
   "cell_type": "code",
   "execution_count": 12,
   "id": "3de21ab8-8bbd-45a0-ae64-f0964c579eb3",
   "metadata": {},
   "outputs": [],
   "source": [
    "integrator = hoomd.md.Integrator(dt=0.005)"
   ]
  },
  {
   "cell_type": "markdown",
   "id": "0fe906a3-c49d-4232-bc66-c6f4a69089f2",
   "metadata": {},
   "source": [
    "Define neighbor list"
   ]
  },
  {
   "cell_type": "code",
   "execution_count": 13,
   "id": "e187ed75-5ce9-4e9c-bb97-1bdb8cf63179",
   "metadata": {},
   "outputs": [],
   "source": [
    "nl = md.nlist.Tree(buffer=1.0)"
   ]
  },
  {
   "cell_type": "markdown",
   "id": "967c07ec-529c-4051-92e3-ee4ce89b0bcc",
   "metadata": {},
   "source": [
    "Define interaction parameters along with cutoff\n",
    "We use combinational Weeks-Chandler-Anderson potential defined as follows:\n",
    "\n",
    "$$\n",
    "U_{\\text{cWCA}}(r) =\n",
    "\\begin{cases}\n",
    "4\\varepsilon \\left[ \\left( \\dfrac{\\sigma_{ij}}{r_{ij}} \\right)^{12} - \\left( \\dfrac{\\sigma_{ij}}{r_{ij}} \\right)^6 \\right] + \\varepsilon, & r \\leq 2^{1/6} \\sigma_{ij} \\\\\n",
    "0, & r > 2^{1/6} \\sigma_{ij}\n",
    "\\end{cases}\n",
    "$$\n",
    "\n",
    "Here we define $\\sigma_{ij} = (\\sigma_{i} + \\sigma_{j})/2$. We also ensured that the depletion-depletion interactions are zero. "
   ]
  },
  {
   "cell_type": "code",
   "execution_count": 14,
   "id": "fd6aa0e4-6de4-4997-addc-c33f1ec172e9",
   "metadata": {},
   "outputs": [],
   "source": [
    "sigma_cd = 0.5*(sigma_c+sigma_d) #sigma for interaction between large an small particles\n",
    "\n",
    "cWCA = md.pair.LJ(default_r_cut=2**(1.0/6.0)*sigma_c, nlist=nl)\n",
    "\n",
    "cWCA.params[('A', 'A')] = dict(epsilon=1.0, sigma=sigma_d)\n",
    "cWCA.params[('A', 'B')] = dict(epsilon=1.0, sigma=sigma_cd)\n",
    "cWCA.params[('B', 'B')] = dict(epsilon=1.0, sigma=sigma_c)\n",
    "\n",
    "cWCA.r_cut[('A', 'A')] = 2**(1.0/6.0)*sigma_d\n",
    "cWCA.r_cut[('A', 'B')] = 2**(1.0/6.0)*sigma_cd\n",
    "cWCA.r_cut[('B', 'B')] = 2**(1.0/6.0)*sigma_c \n",
    "\n",
    "integrator.forces.append(cWCA)"
   ]
  },
  {
   "cell_type": "markdown",
   "id": "d458fdec-91c1-4cda-83e6-20b177758985",
   "metadata": {},
   "source": [
    "Define particle groups in simulation"
   ]
  },
  {
   "cell_type": "code",
   "execution_count": 15,
   "id": "e70d9f5f-4f69-4487-ba27-db233956fb65",
   "metadata": {},
   "outputs": [],
   "source": [
    "particle_A = hoomd.filter.Type(['A']) #Depletant\n",
    "particle_B = hoomd.filter.Type(['B'])\n",
    "all_ = hoomd.filter.All()"
   ]
  },
  {
   "cell_type": "markdown",
   "id": "3aef7258-9dc4-490b-8640-a65f6c55f339",
   "metadata": {},
   "source": [
    "Define langevin thermostat"
   ]
  },
  {
   "cell_type": "code",
   "execution_count": 16,
   "id": "0be743a0-c1a2-4637-bdb0-a3f5c1d94218",
   "metadata": {},
   "outputs": [],
   "source": [
    "ld = hoomd.md.methods.Langevin(filter=particle_A, kT=kT, default_gamma=mass_d)\n",
    "integrator.methods.append(ld)\n",
    "\n",
    "simulation.operations.integrator = integrator"
   ]
  },
  {
   "cell_type": "markdown",
   "id": "e84ef61e-79f0-4d3d-8afa-50d9347c31a7",
   "metadata": {},
   "source": [
    "Define logger to store thermodynamic quantities"
   ]
  },
  {
   "cell_type": "code",
   "execution_count": 17,
   "id": "6386fb9a-47f5-470d-9f15-73c34f4104ba",
   "metadata": {},
   "outputs": [],
   "source": [
    "thermo = hoomd.md.compute.ThermodynamicQuantities(filter=all_)\n",
    "simulation.operations.computes.append(thermo)\n",
    "\n",
    "logger = hoomd.logging.Logger(categories=['scalar', 'string'])\n",
    "logger.add(simulation, quantities=['timestep', 'tps'])\n",
    "logger.add(thermo, quantities=[ 'potential_energy','kinetic_temperature'])\n",
    "\n",
    "table = hoomd.write.Table(trigger=hoomd.trigger.Periodic(period=200000), logger=logger)\n",
    "simulation.operations.writers.append(table)"
   ]
  },
  {
   "cell_type": "markdown",
   "id": "c514141c-bf54-449c-a8ec-83d0058b5bb2",
   "metadata": {},
   "source": [
    "Equilibrate the system"
   ]
  },
  {
   "cell_type": "code",
   "execution_count": 18,
   "id": "ff724209-fa1a-4346-b547-d96d754be79d",
   "metadata": {
    "scrolled": true
   },
   "outputs": [
    {
     "name": "stdout",
     "output_type": "stream",
     "text": [
      "Simulation.timestep  Simulation.tps  md.compute.ThermodynamicQuantities.potential_energy md.compute.ThermodynamicQuantities.kinetic_temperature\n",
      "      200000          1.46814e+04                         -37.93299                                             1.01216                        \n",
      "      400000          1.48269e+04                         -22.09611                                             0.98168                        \n",
      "      600000          1.48767e+04                         -25.78101                                             0.99490                        \n",
      "      800000          1.49105e+04                         -27.55682                                             0.97525                        \n",
      "      1000000         1.49304e+04                         -22.07841                                             1.00761                        \n"
     ]
    }
   ],
   "source": [
    "simulation.run(1000000)"
   ]
  },
  {
   "cell_type": "markdown",
   "id": "85a0891b-462d-4acb-80b0-56226a5cb80d",
   "metadata": {},
   "source": [
    "Production run"
   ]
  },
  {
   "cell_type": "code",
   "execution_count": 20,
   "id": "aa4d15f9-b893-4c54-8a28-578548bc0011",
   "metadata": {},
   "outputs": [
    {
     "name": "stdout",
     "output_type": "stream",
     "text": [
      "      1200000         1.53627e+04                         -26.78625                                             0.96880                        \n",
      "      1400000         1.47232e+04                         -27.12744                                             0.96807                        \n",
      "      1600000         1.49842e+04                         -20.66030                                             0.99464                        \n",
      "      1800000         1.41519e+04                         -33.88973                                             0.99694                        \n",
      "      2000000         1.52476e+04                         -24.01146                                             1.01697                        \n",
      "      2200000         8.33038e+03                         -13.71306                                             0.94112                        \n",
      "      2400000         1.51469e+04                         -28.93428                                             0.99038                        \n",
      "      2600000         1.51867e+04                         -19.17530                                             0.98178                        \n",
      "      2800000         1.62751e+04                         -13.62291                                             0.96825                        \n",
      "      3000000         1.51936e+04                         -24.52018                                             0.97014                        \n",
      "      3200000         1.51751e+04                         -24.86094                                             1.00874                        \n",
      "      3400000         1.59939e+04                         -24.99229                                             1.00153                        \n",
      "      3600000         1.51527e+04                         -16.18680                                             0.95518                        \n",
      "      3800000         1.49270e+04                         -30.97277                                             0.95133                        \n",
      "      4000000         1.41059e+04                         -22.59651                                             1.03011                        \n",
      "      4200000         1.49882e+04                         -16.07853                                             0.97999                        \n",
      "      4400000         1.48664e+04                         -16.12063                                             1.01344                        \n",
      "      4600000         1.51091e+04                         -27.34357                                             1.09057                        \n",
      "      4800000         1.51890e+04                         -24.81511                                             1.00370                        \n",
      "      5000000         1.52774e+04                         -15.25872                                             0.98702                        \n",
      "      5200000         1.46492e+04                         -24.51742                                             0.99616                        \n",
      "      5400000         1.51792e+04                         -25.01629                                             1.00619                        \n",
      "      5600000         1.51682e+04                         -22.48036                                             1.00463                        \n",
      "      5800000         1.62492e+04                         -38.08704                                             0.99679                        \n",
      "      6000000         1.50299e+04                         -27.51833                                             0.97885                        \n",
      "      6200000         1.52961e+04                         -25.73205                                             0.94883                        \n",
      "      6400000         1.62645e+04                         -18.13225                                             0.94578                        \n",
      "      6600000         1.50845e+04                         -22.89455                                             0.95868                        \n",
      "      6800000         1.50566e+04                         -27.38470                                             1.00385                        \n",
      "      7000000         1.51343e+04                         -31.55964                                             0.99735                        \n",
      "      7200000         1.51521e+04                         -34.01195                                             0.97212                        \n",
      "      7400000         1.51884e+04                         -15.56949                                             0.98756                        \n",
      "      7600000         1.59638e+04                         -16.28718                                             1.05089                        \n",
      "      7800000         1.49747e+04                         -24.22860                                             0.96806                        \n",
      "      8000000         1.50925e+04                         -15.12079                                             0.95669                        \n",
      "      8200000         1.51028e+04                         -19.59397                                             1.02820                        \n",
      "      8400000         1.52401e+04                         -15.69545                                             1.01518                        \n",
      "      8600000         1.50663e+04                         -39.73101                                             0.98609                        \n",
      "      8800000         1.59231e+04                         -27.10526                                             0.98752                        \n",
      "      9000000         1.52342e+04                         -21.25768                                             1.01126                        \n",
      "      9200000         1.50936e+04                         -15.40879                                             0.97425                        \n",
      "      9400000         1.42317e+04                         -23.80980                                             1.03932                        \n",
      "      9600000         1.53255e+04                         -24.02405                                             0.99857                        \n",
      "      9800000         1.33382e+04                         -22.44123                                             0.97320                        \n",
      "     10000000         1.52191e+04                         -20.05531                                             1.02848                        \n",
      "     10200000         1.50765e+04                         -27.42045                                             1.04075                        \n",
      "     10400000         1.46751e+04                         -25.98412                                             1.05081                        \n",
      "     10600000         1.65176e+04                         -30.36005                                             1.00571                        \n",
      "     10800000         1.51590e+04                         -37.10552                                             1.02176                        \n",
      "     11000000         1.49075e+04                         -26.53061                                             0.96873                        \n"
     ]
    }
   ],
   "source": [
    "steps_per_sample = 400\n",
    "n_samples = 25000\n",
    "\n",
    "force_records = []\n",
    "\n",
    "for i in range(n_samples):\n",
    "    simulation.run(steps_per_sample)\n",
    "    f0 = cWCA.forces[Nd]\n",
    "    f1 = cWCA.forces[Nd+1]\n",
    "\n",
    "    timestep = steps_per_sample * (i + 1)\n",
    "    combined = np.concatenate(([timestep], f0, f1))\n",
    "    force_records.append(combined)\n",
    "\n",
    "force_array = np.vstack(force_records) # shape (n_samples, 7)\n",
    "\n",
    "force_averages = np.mean(force_array, axis=0)\n",
    "fmt = '%d %.8f %.8f %.8f %.8f %.8f %.8f'\n",
    "np.savetxt(\"colloid_forces.txt\", force_array, delimiter=\"  \",header=\"timestep Fx0 Fy0 Fz0 Fx1 Fy1 Fz1\", comments='', fmt=fmt)"
   ]
  },
  {
   "cell_type": "markdown",
   "id": "e680d811-acdc-4b40-80c8-d472a397eabd",
   "metadata": {},
   "source": [
    "### **Calculate average force**\n",
    "Take average for both colloids. Depletion forces are in x direction"
   ]
  },
  {
   "cell_type": "code",
   "execution_count": 21,
   "id": "661fccc6-aa52-4fb6-92ff-fc358cb32f03",
   "metadata": {},
   "outputs": [
    {
     "name": "stdout",
     "output_type": "stream",
     "text": [
      "26.52701049112552\n"
     ]
    }
   ],
   "source": [
    "Force_Total = (force_averages[1] - force_averages[4])/2\n",
    "print(Force_Total)"
   ]
  },
  {
   "cell_type": "markdown",
   "id": "ce4ac32f-62f6-4c73-8f75-14deecea07fe",
   "metadata": {},
   "source": [
    "### **Plot average force**"
   ]
  },
  {
   "cell_type": "markdown",
   "id": "c48d9e4a-1cd4-4381-a97d-f053a105826a",
   "metadata": {},
   "source": [
    "- We have already performed simulations with at $\\phi_d$= 0.04 and r=4.00 to 8.00 with increment of 0.05. \n",
    "- Let's load the force data as function of center to center separation between colloids\n",
    "- Depletion forces = Average force - WCA force "
   ]
  },
  {
   "cell_type": "code",
   "execution_count": 22,
   "id": "6a04512e-a4e0-4ad2-887c-5972bc6dbec7",
   "metadata": {},
   "outputs": [],
   "source": [
    "# Load the data \n",
    "ForceAll = np.loadtxt('phi_0.04')\n",
    "wcaAll = np.loadtxt('wca.txt')\n",
    "\n",
    "r_all = ForceAll[:, 0]\n",
    "ForceAllx = (ForceAll[:, 2] - ForceAll[:, 5])/2.0\n",
    "wcaAllx = (wcaAll[:, 2] - wcaAll[:, 5])/2.0\n",
    "Depletionx = ForceAllx-wcaAllx"
   ]
  },
  {
   "cell_type": "markdown",
   "id": "6674e490-36fb-452c-9684-a23bfb001115",
   "metadata": {},
   "source": [
    "Let's plot calculated forces"
   ]
  },
  {
   "cell_type": "code",
   "execution_count": 23,
   "id": "5326c2b5-8e40-4cd6-805b-c5f6aa6e8b14",
   "metadata": {},
   "outputs": [
    {
     "data": {
      "image/png": "[encoded data removed]",
      "text/plain": [
       "<Figure size 500x300 with 1 Axes>"
      ]
     },
     "metadata": {},
     "output_type": "display_data"
    }
   ],
   "source": [
    "import matplotlib.pyplot as plt\n",
    "\n",
    "# Create magma colormap\n",
    "cmap = plt.cm.magma\n",
    "colors = [cmap(i) for i in np.linspace(0, 1, 7)]  # 7 colors sampled evenly\n",
    "\n",
    "plt.figure(figsize=(5, 3))\n",
    "\n",
    "#Plot the force from the reference simulation\n",
    "plt.plot(r_all, ForceAllx, marker='s', linestyle='none',color=colors[1], markersize=6, label='Reference simulation')\n",
    "plt.plot(r_all, wcaAllx, marker='d', linestyle='none',color=colors[4], markersize=6, label='WCA')\n",
    "#Plot the force from the current simulation\n",
    "plt.plot(r, Force_Total, marker='o', linestyle='none', color=colors[3],label='Current simulation')\n",
    "\n",
    "plt.xlim(3.9, 8.1)\n",
    "plt.ylim(-10.0, 160.0)\n",
    "plt.xlabel('Center-to-Center Separation, r')\n",
    "plt.ylabel(r'$\\langle F(r) \\rangle$')\n",
    "plt.legend(loc='upper right')\n",
    "plt.tight_layout()\n",
    "plt.show()"
   ]
  },
  {
   "cell_type": "markdown",
   "id": "86c4c932-9af6-4dba-8c28-7bcbafed185e",
   "metadata": {},
   "source": [
    "Depletion forces = Average force - WCA force "
   ]
  },
  {
   "cell_type": "code",
   "execution_count": 24,
   "id": "d0addd72-4750-418e-8459-5a671b63cb37",
   "metadata": {},
   "outputs": [
    {
     "name": "stdout",
     "output_type": "stream",
     "text": [
      "-1.2049145088744808\n"
     ]
    }
   ],
   "source": [
    "idx = np.argmin(np.abs(r-wcaAll[:,0]))\n",
    "DepletionCal = Force_Total - wcaAll[idx,2]\n",
    "print(DepletionCal)"
   ]
  },
  {
   "cell_type": "code",
   "execution_count": 25,
   "id": "a8733c4e-0fd6-4bf5-b60b-3a5a18e15eda",
   "metadata": {},
   "outputs": [
    {
     "data": {
      "image/png": "[encoded data removed]",
      "text/plain": [
       "<Figure size 500x300 with 1 Axes>"
      ]
     },
     "metadata": {},
     "output_type": "display_data"
    }
   ],
   "source": [
    "plt.figure(figsize=(5, 3))\n",
    "#Plot the force from the reference simulation\n",
    "plt.plot(r_all, Depletionx, marker='s', linestyle='none',color=colors[1], markersize=6, label='Reference simulation')\n",
    "plt.plot(r, DepletionCal, marker='o', linestyle='none', color=colors[3],label='Current simulation')\n",
    "\n",
    "plt.xlim(3.9, 8.1)\n",
    "plt.ylim(-1.55, 0.2)\n",
    "plt.xlabel('Center-to-Center Separation, r')\n",
    "plt.ylabel(r'Depletion forces')\n",
    "plt.legend(loc='lower right')\n",
    "plt.tight_layout()\n",
    "#plt.savefig('force_vs_distance.png', transparent=True, dpi=300)\n",
    "plt.show()"
   ]
  },
  {
   "cell_type": "markdown",
   "id": "757a2cf5-138b-487f-b5c4-797fa60aa1b3",
   "metadata": {},
   "source": [
    "Potential of mean force is calculated by integrating avearge force\n",
    "\n",
    "\\begin{equation}\n",
    "\\text{PMF}(r) = - \\int_{r_0}^{r} \\langle F(r') \\rangle \\, dr'\n",
    "\\end{equation}"
   ]
  },
  {
   "cell_type": "code",
   "execution_count": 26,
   "id": "b16c9347-6267-4ca4-a184-dabd878c2060",
   "metadata": {},
   "outputs": [],
   "source": [
    "#  Compute PMF via trapezoidal integration \n"
   ]
  },
  {
   "cell_type": "markdown",
   "id": "a9a1664f-fac2-451e-a82a-7c21d471cc1f",
   "metadata": {},
   "source": [
    "Normalize PMF to ensure as $r \\to \\infty$, PMF $\\to 0$\n"
   ]
  },
  {
   "cell_type": "code",
   "execution_count": 27,
   "id": "70ad4e39-72cf-4d33-bda9-36016ca6e1b8",
   "metadata": {},
   "outputs": [],
   "source": [
    "#Normalize PMF"
   ]
  },
  {
   "cell_type": "code",
   "execution_count": 28,
   "id": "5efdde6b-8f17-4958-ab7c-476c3d046b7f",
   "metadata": {},
   "outputs": [],
   "source": [
    "# ------- Plot PMF and compare with AO --------\n",
    "\n",
    "def ao_potential(r, sigma_c, sigma_d, phi_d):\n",
    "    R_c = sigma_c/2.0\n",
    "    R_d = sigma_d/2.0\n",
    "    R_s = R_c + R_d\n",
    "    rcut = 2 * R_s\n",
    "    U_AO = np.zeros_like(r)\n",
    "    mask = r < rcut\n",
    "    x = r[mask]\n",
    "    U_AO[mask] = - (R_s/R_d)**3 * (1 - 3/4 * (x/R_s) + 1/16 * (x/R_s)**3) * phi_d\n",
    "\n",
    "    return U_AO"
   ]
  },
  {
   "cell_type": "markdown",
   "id": "11ab0a56-1b6a-4463-933a-d5472ff282bb",
   "metadata": {},
   "source": [
    "Plot and compare AO theory for different volume fraction"
   ]
  },
  {
   "cell_type": "code",
   "execution_count": 30,
   "id": "fb1f5bf1-3129-48fb-940f-de3372060c6b",
   "metadata": {},
   "outputs": [],
   "source": [
    "# Load the data (third and fifth columns are forces in x direction)\n",
    "phi02 = np.loadtxt('phi_0.02')\n",
    "phi04 = np.loadtxt('phi_0.04')\n",
    "phi06 = np.loadtxt('phi_0.06')\n",
    "phi08 = np.loadtxt('phi_0.08')\n",
    "phi10 = np.loadtxt('phi_0.1')\n",
    "wcaAll = np.loadtxt('wca.txt')\n",
    "\n"
   ]
  },
  {
   "cell_type": "code",
   "execution_count": null,
   "id": "a2440b19-78d9-4089-ba87-7752fb3d3bd3",
   "metadata": {},
   "outputs": [],
   "source": []
  }
 ],
 "metadata": {
  "kernelspec": {
   "display_name": "Python 3 (ipykernel)",
   "language": "python",
   "name": "python3"
  },
  "language_info": {
   "codemirror_mode": {
    "name": "ipython",
    "version": 3
   },
   "file_extension": ".py",
   "mimetype": "text/x-python",
   "name": "python",
   "nbconvert_exporter": "python",
   "pygments_lexer": "ipython3",
   "version": "3.10.13"
  }
 },
 "nbformat": 4,
 "nbformat_minor": 5
}
