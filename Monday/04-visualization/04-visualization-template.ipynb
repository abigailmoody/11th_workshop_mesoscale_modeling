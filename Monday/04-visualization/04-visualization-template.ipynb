{
 "cells": [
  {
   "cell_type": "markdown",
   "id": "adfe2c5a-293f-416d-af5b-50326c02f808",
   "metadata": {},
   "source": [
    "# Visualization \n",
    "\n",
    "## Overview\n",
    "\n",
    "In this session, we will use [fresnel](https://fresnel.readthedocs.io) to visualize snapshots. We will use a simple example of an atomistic molecule to begin with. This is not a complete fresnel tutorial, but it will give you a starting point. We also highly recommend to use other options ([Ovito](https://www.ovito.org/),[vmd](https://www.ks.uiuc.edu/Research/vmd/),..) for full simulation workflows. \n",
    "\n",
    "### Questions\n",
    "\n",
    "- How do I define a configuration?\n",
    "- How do we render simple snapshots and movies?\n",
    "\n",
    "### Objectives\n",
    "\n",
    "- Define a simple configuration of an atomistic and coarse-grained molecule.\n",
    "- Learn how to render snapshots and change their properties (color, materials, light, camera angle)\n",
    "- Learn how to make simple Gifs from MD trajectories.\n",
    "  \n",
    "## Boilerplate code\n",
    "\n",
    "In this Notebook and all following notebooks, the first cell imports neccessary python modules and sets up some functions needed in the notebook. Usually, you do not need to modify this. "
   ]
  },
  {
   "cell_type": "code",
   "execution_count": 4,
   "id": "0b0662bf-dfd4-440c-9275-ba31ea8c9e5e",
   "metadata": {},
   "outputs": [],
   "source": [
    "import fresnel\n",
    "import hoomd\n",
    "import gsd,gsd.hoomd\n",
    "import numpy "
   ]
  },
  {
   "cell_type": "markdown",
   "id": "0e57d838-3272-4d81-aeb0-eca2f3fb1369",
   "metadata": {},
   "source": [
    "Let's define a simple molecule by the positions of the atoms and their bonds. Here, we are defining the positions and bonds manually, whereas for larger simulations this is usually generated via simple algorithms/code or by external programs. Commonly, this information will be stored in either [gsd](https://gsd.readthedocs.io) files, the format hoomd-blue uses for managing trajectories, or in txt, json files."
   ]
  },
  {
   "cell_type": "code",
   "execution_count": null,
   "id": "2c690c48-9bdc-4040-b10d-f51d6f117354",
   "metadata": {},
   "outputs": [],
   "source": [
    "atomistic_positions = numpy.array([\n",
    "    [3.1709,    0.2369,   -0.0001],\n",
    "    [ 1.8649,   -0.5413,   -0.0114],\n",
    "    [ 0.6558,    0.3935,    0.0001],\n",
    "    [-0.6558,   -0.3932,    0.0227],\n",
    "    [-1.8650,    0.5414,    0.0001],\n",
    "    [-3.1709,   -0.2372,   -0.0115],\n",
    "    [0.6840,    1.0388,   -0.8865],\n",
    "    [0.7045,    1.0489,    0.8783],\n",
    "    [-0.6930,   -1.0225,    0.9203],\n",
    "    [-0.6952,   -1.0642,   -0.8441],\n",
    "    [1.8337,   -1.2015,    0.8633],\n",
    "    [1.8334,   -1.1803,   -0.9015],\n",
    "    [-1.8442,    1.1983,    0.8775],\n",
    "    [-1.8234,    1.1837,   -0.8874],\n",
    "    [3.2485,    0.8856,   -0.8784],\n",
    "    [4.0222,   -0.4510,   -0.0096],\n",
    "    [3.2483,    0.8607,    0.8961],\n",
    "    [-3.2373,   -0.8791,   -0.8958],\n",
    "    [-3.2592,   -0.8681,    0.8788],\n",
    "    [-4.0221,    0.4505,   -0.0263]\n",
    "])\n",
    "\n",
    "atomistic_bonds = numpy.array([\n",
    "    [0,1],\n",
    "    [1,2],\n",
    "    [2,3],\n",
    "    [3,4],\n",
    "    [4,5],\n",
    "    [0,14],\n",
    "    [0,15],\n",
    "    [0,16],\n",
    "    [1,10],\n",
    "    [1,11],\n",
    "    [2,6],\n",
    "    [2,7],\n",
    "    [3,8],\n",
    "    [3,9],\n",
    "    [4,12],\n",
    "    [4,13],\n",
    "    [5,17],\n",
    "    [5,18],\n",
    "    [5,19]\n",
    "])"
   ]
  },
  {
   "cell_type": "markdown",
   "id": "0ae152f8-c892-4674-bdad-658f943b274a",
   "metadata": {},
   "source": [
    "Now, we save this information (and the types of atoms, box size, etc) in a `gsd.hoomd.Frame`. Frames are hoomd data structures that hold particle and simulation information. GSD files are used to save simulation trajectories. You can read more about the gsd format and how hoomd-blue is using it [here](https://gsd.readthedocs.io/en/v4.0.0/hoomd-examples.html).\n",
    "\n",
    "Assign the positions and bonds to the right arrays in the frame: "
   ]
  },
  {
   "cell_type": "code",
   "execution_count": 6,
   "id": "136e62f3-66f6-4022-a767-b81df6ebaacb",
   "metadata": {},
   "outputs": [],
   "source": [
    "\n",
    "atomistic_frame = gsd.hoomd.Frame()\n",
    "\n",
    "atomistic_frame.particles.N = ...\n",
    "atomistic_frame.particles.position = ...\n",
    "# define types - we can give them any name (str), but it makes sense to use their atom type here.\n",
    "atomistic_frame.particles.types = ['C', 'H']\n",
    "atomistic_frame.particles.typeid = numpy.ones(atomistic_frame.particles.N)\n",
    "# assign the first 6 particles to be typeid 0='C'\n",
    "atomistic_frame.particles.typeid[0:6]=0\n",
    "\n",
    "atomistic_frame.bonds.N = ...\n",
    "atomistic_frame.bonds.group = ...\n",
    "\n",
    "atomistic_frame.configuration.box = [10, 10, 10, 0, 0, 0]\n"
   ]
  },
  {
   "cell_type": "markdown",
   "id": "5eb8507e-0cdb-4c08-be57-87680a08d472",
   "metadata": {},
   "source": [
    "## Render Simple Snapshot \n",
    "This is the minimal setup needed to render a snapshot with fresnel. "
   ]
  },
  {
   "cell_type": "code",
   "execution_count": null,
   "id": "94a0e58e-1a19-4d9e-8b63-09298ad2622c",
   "metadata": {},
   "outputs": [],
   "source": [
    "import fresnel\n",
    "\n",
    "#set up the scene\n",
    "scene = fresnel.Scene()\n",
    "\n",
    "# Spheres for every particle in the system\n",
    "geometry = fresnel.geometry.Sphere(scene, N=atomistic_frame.particles.N)\n",
    "# assign each sphere positions from frame \n",
    "geometry.position[:] = atomistic_frame.particles.position\n",
    "\n",
    "# create box in fresnel\n",
    "box =fresnel.geometry.Box(scene, atomistic_frame.configuration.box,box_radius=0.01)\n",
    "# make camera \n",
    "scene.camera = fresnel.camera.Orthographic.fit(scene)\n",
    "# quick render\n",
    "fresnel.preview(scene)"
   ]
  },
  {
   "cell_type": "markdown",
   "id": "9c57eb27-b4da-45cb-8210-9d314765c049",
   "metadata": {},
   "source": [
    "### Changes: Colors, Sizes, and Viewpoint\n",
    "\n",
    "The snapshot above does not show the different atom types, and can be improved. For this, we will follow the[ GSD visualization tutorial](https://fresnel.readthedocs.io/en/v0.13.7/examples/02-Advanced-topics/05-GSD-visualization.html) and color the particles based on their type and change their sizes. For more options for colors and materials see:\n",
    "\n",
    "- [Material Properties](https://fresnel.readthedocs.io/en/stable/examples/00-Basic-tutorials/02-Material-properties.html)\n",
    "- [Sphere Geometry](https://fresnel.readthedocs.io/en/stable/examples/01-Primitives/00-Sphere-geometry.html)\n",
    "\n",
    "We will also use `Perspective` for the camera settings - which means we will have to figure out a good `position` and `height` for it, see the [camera documentation](https://fresnel.readthedocs.io/en/stable/module-camera.html).\n",
    "\n",
    "If a snapshot is for visualization purposes only (as we are doing here), creative freedom can be used to generate visually clear images. Sometimes that might mean making particles artificially smaller, or rendering them (semi-)transparent, or leaving them out completely (e.g., solvent). If a snapshot is for a schematic explaining a model or molecule parametrisation, sticking to actual model parameters as much possible is a good idea. \n",
    "\n",
    "Adapt the code to make the carbon `C` atoms dark gray, and the `H` atoms white. Change the camera positions in such a way that you get a good view of the entire molecule. Adjust the sizes of the atoms to make the `C` atoms a little bigger than the `H` atoms. You do not need to obey actual size ratios, although it might be helpful for some models to do that. \n"
   ]
  },
  {
   "cell_type": "code",
   "execution_count": null,
   "id": "7ea7432a-157a-4696-806a-e7c41ad25ec7",
   "metadata": {},
   "outputs": [],
   "source": [
    "\n",
    "L = atomistic_frame.configuration.box[0]\n",
    "\n",
    "scene.camera = fresnel.camera.Perspective(position=..., look_at=(0, 0, 0), up=(0, 1, 0), height=..)\n",
    "\n",
    "particle_types = atomistic_frame.particles.typeid\n",
    "colors = numpy.empty((atomistic_frame.particles.N, 3))\n",
    "radius = numpy.empty(atomistic_frame.particles.N)\n",
    "\n",
    "# Color by typeid\n",
    "...\n",
    "# Set material properties \n",
    "geometry.material = fresnel.material.Material(roughness=0.5)\n",
    "geometry.outline_width = 0.02\n",
    "\n",
    "# use color instead of material.color\n",
    "geometry.material.primitive_color_mix = 1.0\n",
    "geometry.color[:] = fresnel.color.linear(colors)\n",
    "\n",
    "# Size by typeid \n",
    "....\n",
    "geometry.radius[:] = radius\n",
    "\n",
    "fresnel.preview(scene)"
   ]
  },
  {
   "cell_type": "markdown",
   "id": "5aaba83a-431d-4274-bc78-fbe2f539c0b8",
   "metadata": {},
   "source": [
    "### Add Bonds to Simple Snapsot\n",
    "\n",
    "The above rendering is already much better than the default settings. However, bonds are missing!\n",
    "For any (macro-)molecules, we will also want to visualize their topology. We use [`fresnel.geometry.Cylinder`](https://fresnel.readthedocs.io/en/stable/examples/01-Primitives/01-Cylinder-geometry.html) for this. You need to calculate the positions of the bonds using information from the data in `hoomd.Frame`. For this, modify the code to compute the end points of the cylinders that represent the bonds (*Hint:* `numpy.stack` is helpful to get the data into the right shape):"
   ]
  },
  {
   "cell_type": "code",
   "execution_count": null,
   "id": "db6318d9-e83e-4786-a9fa-58d1e429ca3a",
   "metadata": {
    "scrolled": true
   },
   "outputs": [],
   "source": [
    "bonds = fresnel.geometry.Cylinder(scene, N=atomistic_frame.bonds.N)\n",
    "bonds.material = fresnel.material.Material(roughness=0.5)\n",
    "bonds.outline_width = 0.02\n",
    "\n",
    "all_bonds = ...\n",
    "\n",
    "bonds.points[:] = all_bonds\n",
    "bonds.radius[:] = [0.1]*atomistic_frame.bonds.N\n",
    "bonds.material.primitive_color_mix = 1.0\n",
    "bonds.color[:] = fresnel.color.linear([...])\n",
    "fresnel.preview(scene)"
   ]
  },
  {
   "cell_type": "markdown",
   "id": "27a7c178-9c52-46e0-9161-aa84d25a058c",
   "metadata": {},
   "source": [
    "### Render a High-Resolution Snapshot\n",
    "\n",
    "This looks good! Feel free to play around with the settings, materials, colors, bond thickness, etc. We might want to also render a \"high-resolution\" image and save it somewhere: "
   ]
  },
  {
   "cell_type": "code",
   "execution_count": null,
   "id": "56dc8034-d762-43f8-a939-c0442cc408f3",
   "metadata": {},
   "outputs": [],
   "source": [
    "import PIL\n",
    "scene.lights = fresnel.light.rembrandt()\n",
    "scene.background_color =(1,1,1)\n",
    "scene.background_alpha = 1\n",
    "out = fresnel.pathtrace(scene, w=500, h=500, light_samples=20)\n",
    "image = PIL.Image.fromarray(out[:], mode='RGB')\n",
    "image.save('output.png')\n",
    "out"
   ]
  },
  {
   "cell_type": "markdown",
   "id": "7d119836-0041-488b-8c9a-e1b7f3b41e51",
   "metadata": {},
   "source": [
    "## Coarse-graining the Molecule\n",
    "\n",
    "The above molecular configuration is for an atomistic representation. We can now attempt to do a simple *\"coarse-graining\"* of this molecule. For proper coarse grained models see, for example, these publications: \n",
    "\n",
    "- Peters, Brandon L., et al. \"Coarse-grained modeling of polyethylene melts: Effect on dynamics.\" Journal of Chemical Theory and Computation 13.6 (2017): 2890-2896.\n",
    "- Panizon, E., Bochicchio, D., Monticelli, L., & Rossi, G. (2015). MARTINI coarse-grained models of polyethylene and polypropylene. The Journal of Physical Chemistry B, 119(25), 8209-8216.\n",
    "- Rahman, S., Lobanova, O., Correia-Braga, C., Raptis, V., & Müller, E. A. (2014). SAFT-γ force field for the simulation of molecular fluids. 5. Hetero-group coarse-grained models of linear alkanes and the importance of intra-molecular interactions. J. Phys. Chem. B.\n",
    "- Dhamankar, Satyen, and Michael A. Webb. \"Chemically specific coarse‐graining of polymers: methods and prospects.\" Journal of Polymer Science 59.22 (2021): 2613-2643.\n",
    "- ...\n",
    "  \n",
    "Note that there are *many* different models for simple polymers like PE availaibe. When selecting which one to use, consider your specific scientific questions and hypotheses. \n",
    "\n",
    "What we will do, is simply the very first step of most coarse-graining procedure, and that is to decide on: \n",
    "- The *\"level\"* of coarse-graining, i.e, how many heavy atoms are grouped into one bead. For united atom models, that is 1. For the Martini force field that is 4, for generic polymer models this is often given by the *Kuhn* segment size (anywhere from 4-20).\n",
    "- The *location* and size of the coarse-grained beads.\n",
    "\n",
    "Here, we will use a coarse-graining level of 2 (i.e 2 carbons in one coarse-grained bead) and will simply put their centers in the center of mass of the two carbon atoms. **Note:** we have ignored the end-effects, i.e the fact that the first and last carbon have 3 `H` bonded to them. For long polymers, this is commonly considered a good assumtion. \n",
    "\n",
    "Calculate the positions of the CG representation, their bonds, and make a `gsd.hoomd.Frame` with the coarse-grained model: "
   ]
  },
  {
   "cell_type": "code",
   "execution_count": 11,
   "id": "27e8f571-bdc7-4b84-8284-3be140b0b973",
   "metadata": {},
   "outputs": [],
   "source": [
    "cg_frame = gsd.hoomd.Frame()\n",
    "\n",
    "positions = numpy.asarray(atomistic_positions[0:6])\n",
    "cg_positions = ...\n",
    "cg_bonds = ...\n",
    "cg_frame.particles.N = ...\n",
    "cg_frame.particles.position = ...\n",
    "\n",
    "cg_frame.particles.types = ['A']\n",
    "cg_frame.particles.typeid = numpy.zeros(cg_frame.particles.N)\n",
    "\n",
    "cg_frame.bonds.N = ...\n",
    "cg_frame.bonds.group = ...\n",
    "\n",
    "cg_frame.configuration.box = [10, 10, 10, 0, 0, 0]\n"
   ]
  },
  {
   "cell_type": "markdown",
   "id": "57725f3f-4307-495e-8342-638fab81f362",
   "metadata": {},
   "source": [
    "### Render Snapshot of Coarse-grained Molecule\n",
    "Now, let's render that configuration to check our work. Copy the code from above to render the snapshot (with particles and bonds). We will assign them a different color and particle type to make sure not to confuse the two models/representations, also make the coarse-grained beads a bit bigger.  "
   ]
  },
  {
   "cell_type": "code",
   "execution_count": null,
   "id": "4539d3f2-4853-4427-bcc2-a9982929ca71",
   "metadata": {},
   "outputs": [],
   "source": [
    "scene = fresnel.Scene()\n",
    "\n",
    "# add code \n",
    "... \n",
    "fresnel.preview(scene)\n"
   ]
  },
  {
   "cell_type": "markdown",
   "id": "266b180c-ca32-4e29-997e-9dbe1a27f0b4",
   "metadata": {},
   "source": [
    "## Videos of Trajectories \n",
    "\n",
    "Let's pretend we have a (time) evolution of a system, i.e a **trajectory** and not just a snapshot. We will mimic this here by adding random displacements to the positions, imitating thermal fluctuations. Later in this workshop, we *will* do proper simulations! \n",
    "\n",
    "First, we define a function that generates a frame (or snapshot). Modify the code to add small random displacements (`numpy.random.normal`) to the initial positions: "
   ]
  },
  {
   "cell_type": "code",
   "execution_count": 13,
   "id": "6762e77f-403b-44ab-89b6-eed5a91ec08c",
   "metadata": {},
   "outputs": [],
   "source": [
    "def make_frame(i):\n",
    "    frame = gsd.hoomd.Frame()\n",
    "    frame.configuration.step = i\n",
    "    frame.particles.N = len(atomistic_positions)\n",
    "    frame.particles.types = ['C', 'H']\n",
    "    frame.particles.typeid = numpy.ones(len(atomistic_positions))\n",
    "    frame.particles.typeid[0:6]=0\n",
    "    frame.bonds.N = len(atomistic_bonds)\n",
    "    frame.bonds.group = atomistic_bonds\n",
    "    frame.configuration.box = [10, 10, 10, 0, 0, 0]\n",
    "    \n",
    "    # add random dispacements\n",
    "    frame.particles.position = atomistic_positions + ...\n",
    "    return frame \n"
   ]
  },
  {
   "cell_type": "markdown",
   "id": "c1ce49b8-f370-4d1b-b589-333d9bfce7f8",
   "metadata": {},
   "source": [
    "For convinience, we will define a function that will take a single frame, render it and return the result. Take the code from above, and wrap it into a function: "
   ]
  },
  {
   "cell_type": "code",
   "execution_count": 14,
   "id": "3b4fc090-08e8-4048-b057-fb95d4a3fcf3",
   "metadata": {},
   "outputs": [],
   "source": [
    "import numpy\n",
    "import packaging.version\n",
    "import PIL\n",
    "import io \n",
    "import IPython\n",
    "from IPython.core.interactiveshell import InteractiveShell\n",
    "InteractiveShell.ast_node_interactivity = \"all\"\n",
    "from IPython import display \n",
    "\n",
    "def render_frame(frame):\n",
    "    scene = fresnel.Scene()\n",
    "    \n",
    "    # add code \n",
    "    .... \n",
    "    \n",
    "    scene.background_color =(1,1,1)\n",
    "    scene.background_alpha = 1\n",
    "\n",
    "    a = fresnel.preview(scene)\n",
    "    im0 = PIL.Image.fromarray(a[:, :, 0:3], mode=\"RGB\").convert(\"P\", palette=PIL.Image.Palette.ADAPTIVE)\n",
    "    return im0\n"
   ]
  },
  {
   "cell_type": "markdown",
   "id": "b6c76535-9ef9-4310-9524-820f7ea2d9c7",
   "metadata": {},
   "source": [
    "Functions like the one above will be used throught this workshop to quickly render snapshots of the simulations we will do later. \n",
    "\n",
    "Then we can call this function `10` times to generate a trajectory. We will save the result in a `GSD` file for convinience, since saving it in arrays becomes inconvinient:"
   ]
  },
  {
   "cell_type": "code",
   "execution_count": 15,
   "id": "4983f87a-7a70-435f-ada3-ae21f9dda0a8",
   "metadata": {},
   "outputs": [],
   "source": [
    "trajectory = gsd.hoomd.open(name='example.gsd', mode='w')\n",
    "trajectory.extend((make_frame(i) for i in range(10)))\n",
    "trajectory.flush()  # making sure the trajectory is written to disk.\n"
   ]
  },
  {
   "cell_type": "markdown",
   "id": "2802a1f1-7d60-47b2-b0ea-e19767e9db3c",
   "metadata": {},
   "source": [
    "Now we can open the GSD file and render each frame and stich the result together into one `.gif` file:"
   ]
  },
  {
   "cell_type": "code",
   "execution_count": null,
   "id": "376c4531-c3c1-44d0-b9a9-16db63e792d5",
   "metadata": {},
   "outputs": [],
   "source": [
    "ims = []\n",
    "\n",
    "im0 = render_frame(trajectory[0])\n",
    "for frame in trajectory[1:]:\n",
    "    a = render_frame(frame)\n",
    "    ims.append(a)  \n",
    "\n",
    "filename = 'test.gif'\n",
    "im0.save(filename, \"gif\", save_all=True, append_images=ims, duration=20, loop=0)\n",
    "\n",
    "with open(filename,'rb') as f:\n",
    "    display.Image(data=f.read(), format='png')\n",
    "    "
   ]
  },
  {
   "cell_type": "markdown",
   "id": "325b4097-6da5-4903-9b0a-d6b5a21868d3",
   "metadata": {},
   "source": [
    "## Additions \n",
    "\n",
    "1. Change colors, sizes, viewpoint \n",
    "2. Change bond thickness, bond colors\n",
    "3. Change lighting, materials, etc. to improve the quality of your renderings\n",
    "4. Save a single snapshot into a gsd file, open the gsd file and render the snapshot. Write well defined functions for this.  "
   ]
  },
  {
   "cell_type": "markdown",
   "id": "05c57d2a-df26-4359-ab95-40093b2c63e5",
   "metadata": {},
   "source": [
    "## More Additions\n",
    "\n",
    "Render both representations (atomistic + coarse-grained) in one snapshot. **Hint:** Use transparency. For this, define two sets of `fresnel.geometry.Sphere` (one for atomistic, one for coarse-grained) and tune their properties independently. When using transparent spheres, also use `fresnel.light.lightbox` and `fresnel.pathtrace`, other lights and `fresnel.preview` can have odd artifacts with transparend spheres."
   ]
  },
  {
   "cell_type": "code",
   "execution_count": null,
   "id": "6599c8f9-eebf-44f6-b47b-14f2fd9f4f5a",
   "metadata": {},
   "outputs": [],
   "source": [
    "scene = fresnel.Scene()\n",
    "\n",
    "# add code \n",
    "... \n",
    "geometry1 = fresnel.geometry.Sphere(scene, N=cg_frame.particles.N)\n",
    "geometry2 = fresnel.geometry.Sphere(scene, N=atomistic_frame.particles.N)\n",
    "\n",
    "# add code \n",
    "... \n",
    "scene2.background_color =(1,1,1)\n",
    "scene2.background_alpha = 1.0\n",
    "\n",
    "scene2.lights =  fresnel.light.lightbox()\n",
    "fresnel.pathtrace(scene2, w=400, h=400, light_samples=50)"
   ]
  }
 ],
 "metadata": {
  "kernelspec": {
   "display_name": "Python 3 (ipykernel)",
   "language": "python",
   "name": "python3"
  },
  "language_info": {
   "codemirror_mode": {
    "name": "ipython",
    "version": 3
   },
   "file_extension": ".py",
   "mimetype": "text/x-python",
   "name": "python",
   "nbconvert_exporter": "python",
   "pygments_lexer": "ipython3",
   "version": "3.11.8"
  }
 },
 "nbformat": 4,
 "nbformat_minor": 5
}
