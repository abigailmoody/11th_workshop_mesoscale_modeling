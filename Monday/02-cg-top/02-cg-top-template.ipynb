{
 "cells": [
  {
   "cell_type": "markdown",
   "id": "0318258a-1897-4e0e-95ac-4e632999a10f",
   "metadata": {
    "id": "0318258a-1897-4e0e-95ac-4e632999a10f"
   },
   "source": [
    "## Boilerplate Code"
   ]
  },
  {
   "cell_type": "code",
   "execution_count": null,
   "id": "xnhjMM8iK446",
   "metadata": {
    "id": "xnhjMM8iK446"
   },
   "outputs": [],
   "source": [
    "# This cell is only needed on Google Colab\n",
    "!pip install -q condacolab\n",
    "!git clone https://github.com/icomse/11th_workshop_mesoscale_modeling.git Monday-CG\n",
    "import condacolab\n",
    "condacolab.install()"
   ]
  },
  {
   "cell_type": "code",
   "execution_count": null,
   "id": "r2MDHI00L9P0",
   "metadata": {
    "id": "r2MDHI00L9P0"
   },
   "outputs": [],
   "source": [
    "# This cell is only needed on Google Colab\n",
    "%%capture\n",
    "!conda install scipy matplotlib numpy gsd fresnel hoomd\n",
    "import os\n",
    "os.chdir(\"Monday-CG\")"
   ]
  },
  {
   "cell_type": "markdown",
   "id": "18b73f96-a722-4696-a290-d140ae4fcfcb",
   "metadata": {
    "id": "18b73f96-a722-4696-a290-d140ae4fcfcb"
   },
   "source": [
    "This is code to import packages set up some behavior in this notebook. You can safely ignore it."
   ]
  },
  {
   "cell_type": "code",
   "execution_count": null,
   "id": "f62eb1b9-47fe-4735-b083-0341325bf2ec",
   "metadata": {
    "id": "f62eb1b9-47fe-4735-b083-0341325bf2ec"
   },
   "outputs": [],
   "source": [
    "import hoomd\n",
    "import matplotlib\n",
    "import numpy\n",
    "import gsd, gsd.hoomd\n",
    "import itertools\n",
    "%matplotlib inline\n",
    "matplotlib.style.use(\"ggplot\")\n",
    "import matplotlib_inline\n",
    "\n",
    "matplotlib_inline.backend_inline.set_matplotlib_formats(\"svg\")"
   ]
  },
  {
   "cell_type": "markdown",
   "id": "969641fc-34ac-42f7-8e8d-2761d46a21aa",
   "metadata": {
    "id": "969641fc-34ac-42f7-8e8d-2761d46a21aa"
   },
   "source": [
    "# Top-down Coarse graining"
   ]
  },
  {
   "cell_type": "markdown",
   "id": "7c9937da-77b0-442c-8913-a4974536974e",
   "metadata": {
    "id": "7c9937da-77b0-442c-8913-a4974536974e"
   },
   "source": [
    "## Plot Potential and Force\n",
    "\n",
    "We will use the LJ potential as an example: https://hoomd-blue.readthedocs.io/en/stable/hoomd/md/pair/lj.html#hoomd.md.pair.LJ. Write functions that compute the pair potential $V$=`V_lj` and the force $F$=`F_lj` between two particles as function of distance `r`. Then plot these functions:"
   ]
  },
  {
   "cell_type": "code",
   "execution_count": null,
   "id": "1ed3c3ef-c3f6-45cf-a9c7-e25fc3224524",
   "metadata": {
    "id": "1ed3c3ef-c3f6-45cf-a9c7-e25fc3224524"
   },
   "outputs": [],
   "source": [
    "sigma = 1\n",
    "epsilon = 1\n",
    "r_cut = 3\n",
    "r = numpy.linspace(0.95, r_cut, 500)\n",
    "V_lj = ...\n",
    "F_lj = ...\n",
    "\n",
    "fig, ax = matplotlib.pyplot.subplots(2,1)\n",
    "ax[0].plot(r, V_lj)\n",
    "ax[1].plot(r, F_lj)\n",
    "ax[1].set_xlabel(r\"$r[\\sigma]$\")\n",
    "ax[0].set_ylabel(r\"$V[\\epsilon]$\")\n",
    "ax[1].set_ylabel(r\"$F[\\epsilon/\\sigma]$\")\n",
    "ax[0].set_ylim([-1.1,1])\n",
    "ax[1].set_ylim([-10,10])\n",
    "matplotlib.pyplot.show()\n"
   ]
  },
  {
   "cell_type": "markdown",
   "id": "55fe534e-21a4-4e13-8ecd-fd35c3aa9f79",
   "metadata": {
    "id": "55fe534e-21a4-4e13-8ecd-fd35c3aa9f79"
   },
   "source": [
    "Feel free to change the parameters $\\sigma=$`sigma`, $\\epsilon=$`epsilon` and the cutoff distance `r_cut`. The \"size\" of the particle is determined by $\\sigma$, and the relative attraction well depth is tuned by $\\epsilon$.\n",
    "\n",
    "What do the units on each axis mean? *Hint:* look up [reduced units](https://hoomd-blue.readthedocs.io/en/stable/units.html)."
   ]
  },
  {
   "cell_type": "markdown",
   "id": "c44ebe00-3a76-4099-8ae8-26e68a3735fd",
   "metadata": {
    "id": "c44ebe00-3a76-4099-8ae8-26e68a3735fd"
   },
   "source": [
    "## Define Initial Configuration\n",
    "\n",
    "We will use `gsd.hoomd.Frames` and hoomd snapshots extensively in this workshop, so make sure the code above is clear and makes sense to you. In addition to the fields we assinged above, there are many other fields:\n",
    "- velocity `frame.particles.velocity`, `floats` of shape `(N,3)`\n",
    "- bond types `frame.bonds.typeid`, `ints` of shape `(N)`\n",
    "- mass `frame.particles.mass`, `floats` of shape `(N)`\n",
    "- images `frame.particles.images` , `ints` of shape `(N,3)`\n",
    "- box dimensions `frame.configuration.box`, `float [Lx,Ly,Lz,xy, xz, yz]`.\n",
    "- timestep `frame.configuration.step`, `int`\n",
    "\n",
    "which we will use during this workshop. Molecular models also often define `frame.bonds`, `frame.angles`, and `frame.dihedrals`, which we are not using here for simplicity, but the `gsd` format does have those fields too. See [documentation](https://gsd.readthedocs.io/en/latest/python-module-gsd.hoomd.html) for a full list of properties that can be stored in a gsd file.\n",
    "\n",
    "This is the minimum setup needed for two identical particles of type 'A' in a box with $L=30$, one at (0,0,0) and one at (3,0,0):"
   ]
  },
  {
   "cell_type": "code",
   "execution_count": null,
   "id": "c360a782-23ad-43f3-b79a-9be20f1bbb21",
   "metadata": {
    "id": "c360a782-23ad-43f3-b79a-9be20f1bbb21"
   },
   "outputs": [],
   "source": [
    "frame = gsd.hoomd.Frame()\n",
    "\n",
    "L = 30\n",
    "frame.particles.N = 2\n",
    "frame.particles.position = [[0,0,0],[3.0,0,0]]\n",
    "frame.configuration.box = [L, L, L, 0, 0, 0]\n",
    "frame.particles.types = ['A']"
   ]
  },
  {
   "cell_type": "markdown",
   "id": "45771547-bad0-4180-9716-896f7ef7a79d",
   "metadata": {
    "id": "45771547-bad0-4180-9716-896f7ef7a79d"
   },
   "source": [
    "## Setup Simple Hoomd Framework\n",
    "\n",
    "These are the minimal ingredients for setting up a hoomd simulation. First, we do need an [integrator](https://hoomd-blue.readthedocs.io/en/stable/hoomd/md/integrator.html). Here we will not actually do a simulation, so we can safely set the timestep to 0:"
   ]
  },
  {
   "cell_type": "code",
   "execution_count": null,
   "id": "97d33ac3-8681-4d3f-a3f5-e8a3ef3cea3e",
   "metadata": {
    "id": "97d33ac3-8681-4d3f-a3f5-e8a3ef3cea3e"
   },
   "outputs": [],
   "source": [
    "integrator = hoomd.md.Integrator(dt=0) # we are not actually doing a simulation, so we can set the timestep to 0"
   ]
  },
  {
   "cell_type": "markdown",
   "id": "fa365199-6662-48ec-b190-81f17fbd916e",
   "metadata": {
    "id": "fa365199-6662-48ec-b190-81f17fbd916e"
   },
   "source": [
    "Then we need a [neighbor list](https://hoomd-blue.readthedocs.io/en/stable/hoomd/md/module-nlist.html). Hoomd uses these neighbor lists to compute forces on particles more efficiently."
   ]
  },
  {
   "cell_type": "code",
   "execution_count": null,
   "id": "7dadb464-57a8-483f-9640-758c7e03f2ae",
   "metadata": {
    "id": "7dadb464-57a8-483f-9640-758c7e03f2ae"
   },
   "outputs": [],
   "source": [
    "cell = hoomd.md.nlist.Cell(buffer=0.4)"
   ]
  },
  {
   "cell_type": "markdown",
   "id": "4cf226cd-9587-428e-bcd6-91d2d3af903c",
   "metadata": {
    "id": "4cf226cd-9587-428e-bcd6-91d2d3af903c"
   },
   "source": [
    "Now we can define the pair interaction between the two particles we have defined above. Here, we will use the LJ potential as an example."
   ]
  },
  {
   "cell_type": "code",
   "execution_count": null,
   "id": "7fc688bc-81f8-464a-8717-09c47a488edc",
   "metadata": {
    "id": "7fc688bc-81f8-464a-8717-09c47a488edc"
   },
   "outputs": [],
   "source": [
    "LJ = hoomd.md.pair.LJ(nlist=cell)\n",
    "LJ.params[(\"A\", \"A\")] = dict(epsilon=epsilon, sigma=sigma)\n",
    "LJ.r_cut[(\"A\", \"A\")] = r_cut\n",
    "integrator.forces.append(LJ)"
   ]
  },
  {
   "cell_type": "markdown",
   "id": "6cb2afb6-6d72-4ccc-ad7e-47c02a452723",
   "metadata": {
    "id": "6cb2afb6-6d72-4ccc-ad7e-47c02a452723"
   },
   "source": [
    "We also need to create the [simulation object](https://hoomd-blue.readthedocs.io/en/stable/hoomd/simulation.html#hoomd.Simulation), which defines the simulation. We assign the `integrator`."
   ]
  },
  {
   "cell_type": "code",
   "execution_count": null,
   "id": "dcfbaea1-7235-45d3-9b95-5c1955d3f05c",
   "metadata": {
    "id": "dcfbaea1-7235-45d3-9b95-5c1955d3f05c"
   },
   "outputs": [],
   "source": [
    "simulation = hoomd.Simulation(device=hoomd.device.auto_select())\n",
    "simulation.operations.integrator = integrator"
   ]
  },
  {
   "cell_type": "markdown",
   "id": "3fb747bc-9be6-445b-b386-04ad86faaa33",
   "metadata": {
    "id": "3fb747bc-9be6-445b-b386-04ad86faaa33"
   },
   "source": [
    "Now we can read in the `gsd.hoomd.Frame` object, that holds the information about the intital configuration:"
   ]
  },
  {
   "cell_type": "code",
   "execution_count": null,
   "id": "9b1e4cf7-7803-42bd-bb1c-5cc8357e005a",
   "metadata": {
    "id": "9b1e4cf7-7803-42bd-bb1c-5cc8357e005a"
   },
   "outputs": [],
   "source": [
    "simulation.create_state_from_snapshot(frame)"
   ]
  },
  {
   "cell_type": "markdown",
   "id": "3da439e3-ee36-4566-bbdc-6b58f5d24ad1",
   "metadata": {
    "id": "3da439e3-ee36-4566-bbdc-6b58f5d24ad1"
   },
   "source": [
    "Let's loop over the distances in array `r` and have hoomd compute the energy and the force one one particle in x-direction at each distance. For this, you will need to set the `x` coordinate of the second particle. We will save the output in arrays `measured_energy` and `measured_forces`. Look up how to get the [energy](https://hoomd-blue.readthedocs.io/en/stable/hoomd/md/pair/lj.html#hoomd.md.pair.LJ.energies) from a hoomd pair interaction:"
   ]
  },
  {
   "cell_type": "code",
   "execution_count": null,
   "id": "ba6e7908-3041-4186-9bda-b1bcf05ac9a3",
   "metadata": {
    "id": "ba6e7908-3041-4186-9bda-b1bcf05ac9a3"
   },
   "outputs": [],
   "source": [
    "measured_energy = []\n",
    "measured_forces = []\n",
    "for a in r:\n",
    "    snapshot = simulation.state.get_snapshot()\n",
    "    snapshot.particles.position[1] = ...\n",
    "    simulation.state.set_snapshot(snapshot)\n",
    "\n",
    "    simulation.run(0)\n",
    "\n",
    "    measured_energy.append(...)\n",
    "    measured_forces.append(...)\n"
   ]
  },
  {
   "cell_type": "markdown",
   "id": "5931d1a0-77b9-473e-a567-b0a9ff71a1c6",
   "metadata": {
    "id": "5931d1a0-77b9-473e-a567-b0a9ff71a1c6"
   },
   "source": [
    "We can plot the results and compare against our analytical expressions from above"
   ]
  },
  {
   "cell_type": "code",
   "execution_count": null,
   "id": "058bdbbb-ff1d-43f5-8fad-eda3f19a0da0",
   "metadata": {
    "id": "058bdbbb-ff1d-43f5-8fad-eda3f19a0da0"
   },
   "outputs": [],
   "source": [
    "fig, ax = matplotlib.pyplot.subplots(2,1,sharex=True)\n",
    "ax[0].plot(...)\n",
    "ax[0].plot(...)\n",
    "\n",
    "ax[1].plot(...)\n",
    "ax[1].plot(...)\n",
    "\n",
    "ax[1].set_xlabel(r\"$r[\\sigma]$\")\n",
    "ax[0].set_ylabel(r\"$V[\\epsilon]$\")\n",
    "ax[1].set_ylabel(r\"$F[\\epsilon/\\sigma]$\")\n",
    "ax[0].set_ylim([-1.1,1])\n",
    "ax[1].set_ylim([-10,10])\n",
    "matplotlib.pyplot.show()\n"
   ]
  },
  {
   "cell_type": "markdown",
   "id": "ca0c3a34-8074-4685-9ff1-b5cd6edf994e",
   "metadata": {
    "id": "ca0c3a34-8074-4685-9ff1-b5cd6edf994e"
   },
   "source": [
    "### Pair Potential Cutoffs and Interpolation\n",
    "\n",
    "Hoomd (as well as most other MD simulation packages) has various ways to deal with short ranged [pair potentials](https://hoomd-blue.readthedocs.io/en/stable/hoomd/md/module-pair.html). All interactions/forces need to go to zero at some distance, usually `r_cut`. Hoomd can either just cut a potential (`Pair.mode='none'`), cut and shift (`shift`), or cut and smooth (`xplor`).\n",
    "Below we will investigate how these different modes impact the shape of the pair interaction and force. This has an impact on thermodyamic quantities!\n",
    "\n",
    "Note that the below is not how one would run an actual simulation (since multiple LJ potentials are applied simultaneously):"
   ]
  },
  {
   "cell_type": "code",
   "execution_count": null,
   "id": "3574c904-e083-401f-8fdc-96f5ebb60195",
   "metadata": {
    "id": "3574c904-e083-401f-8fdc-96f5ebb60195"
   },
   "outputs": [],
   "source": [
    "frame = gsd.hoomd.Frame()\n",
    "\n",
    "frame.particles.N = 2\n",
    "frame.particles.position = [[0,0,0],[3.0,0,0]]\n",
    "frame.configuration.box = [10, 10, 10, 0, 0, 0]\n",
    "frame.particles.types = ['A']\n",
    "\n",
    "integrator = hoomd.md.Integrator(dt=0)\n",
    "cell = hoomd.md.nlist.Cell(buffer=0.4)\n",
    "\n",
    "LJ_cut = hoomd.md.pair.LJ(nlist=cell)\n",
    "LJ_cut.params[(\"A\", \"A\")] = dict(epsilon=epsilon, sigma=sigma)\n",
    "LJ_cut.r_cut[(\"A\", \"A\")] = 2.0\n",
    "\n",
    "LJ_shift = hoomd.md.pair.LJ(nlist=cell)\n",
    "LJ_shift.params[(\"A\", \"A\")] = dict(epsilon=epsilon, sigma=sigma)\n",
    "LJ_shift.r_cut[(\"A\", \"A\")] = 2.0\n",
    "LJ_shift.mode = \"shift\"\n",
    "\n",
    "LJ_xplor = hoomd.md.pair.LJ(nlist=cell)\n",
    "LJ_xplor.params[(\"A\", \"A\")] = dict(epsilon=epsilon, sigma=sigma)\n",
    "LJ_xplor.r_cut[(\"A\", \"A\")] = 2.0\n",
    "LJ_xplor.mode = \"xplor\"\n",
    "\n",
    "integrator.forces = [LJ_cut,LJ_shift,LJ_xplor]\n",
    "\n",
    "\n",
    "simulation = hoomd.Simulation(device=hoomd.device.auto_select())\n",
    "simulation.operations.integrator = integrator\n",
    "\n",
    "simulation.create_state_from_snapshot(frame)\n",
    "\n",
    "\n",
    "measured_energy_shift = []\n",
    "measured_forces_shift = []\n",
    "measured_energy_cut = []\n",
    "measured_forces_cut = []\n",
    "measured_energy_xplor = []\n",
    "measured_forces_xplor = []\n",
    "for a in r:\n",
    "    snapshot = simulation.state.get_snapshot()\n",
    "    snapshot.particles.position[1] = ...\n",
    "    simulation.state.set_snapshot(snapshot)\n",
    "\n",
    "    simulation.run(0)\n",
    "\n",
    "    measured_energy_shift.append(...)\n",
    "    # add all other arrays\n",
    "\n",
    "# plot results and compare\n",
    "...\n",
    "matplotlib.pyplot.show()"
   ]
  },
  {
   "cell_type": "markdown",
   "id": "432e4542-c95f-46c1-8ebd-7bc863f6adbe",
   "metadata": {
    "id": "432e4542-c95f-46c1-8ebd-7bc863f6adbe"
   },
   "source": [
    "## Asakura Oosawa model\n",
    "\n",
    "Volume fraction of depletant is given by $\\phi_d = \\frac{\\pi}{6}\\sigma_d^3\\rho_d$, and the AO potential is given by:\n",
    "\n",
    "\\begin{equation}\n",
    "U_{\\mathrm{AO}}(r)= \\begin{cases}\\infty & \\text { for } \\quad r \\leq \\sigma_{\\mathrm{c}} \\\\ -\\phi_d\\left(\\frac{1+q}{q}\\right)^3\\left[1-\\frac{3 r}{2 \\sigma_{\\mathrm{c}}(1+q)}+\\frac{r^3}{2 \\sigma_{\\mathrm{c}}^3(1+q)^3}\\right] & \\text { for } \\quad \\sigma_{\\mathrm{c}}<r<\\sigma_{\\mathrm{c}}+\\sigma_{\\mathrm{p}} \\\\ 0 & \\text { for } \\quad r \\geq \\sigma_{\\mathrm{c}}+\\sigma_{\\mathrm{p}}\\end{cases}\n",
    "\\end{equation}\n",
    "\n",
    "Implement two functions that return the potential and the force based on the AO model:"
   ]
  },
  {
   "cell_type": "code",
   "execution_count": null,
   "id": "19cad979-8407-4a19-aef3-d7e7fec9a44c",
   "metadata": {
    "id": "19cad979-8407-4a19-aef3-d7e7fec9a44c"
   },
   "outputs": [],
   "source": [
    "def ao_potential(r, sigma_c, sigma_d, phi_d):\n",
    "    # add code here\n",
    "    ...\n",
    "    return U_AO\n",
    "\n",
    "def ao_force(r, sigma_c, sigma_d, phi_d):\n",
    "    # add code here\n",
    "    ...\n",
    "    return F_AO"
   ]
  },
  {
   "cell_type": "markdown",
   "id": "974ea783-2c05-401e-a8d8-182c34609f3a",
   "metadata": {
    "id": "974ea783-2c05-401e-a8d8-182c34609f3a"
   },
   "source": [
    "Hoomd does not have the AO potential implemented. For such cases, hoomd allows the user to use a [tabulated definition](https://hoomd-blue.readthedocs.io/en/stable/hoomd/md/pair/table.html) of the potential and the force. This is very useful for nummerical potentials that might arise for various coarse-graining schemes, as well as for testing out different models that are not implemented in hoomd. Hoomd interpolates between the given points in the table:"
   ]
  },
  {
   "cell_type": "code",
   "execution_count": null,
   "id": "1ad32cff-e09c-4330-800e-762234d747c3",
   "metadata": {
    "id": "1ad32cff-e09c-4330-800e-762234d747c3"
   },
   "outputs": [],
   "source": [
    "sigma_c = 5\n",
    "sigma_d = 1\n",
    "phi_d = 0.4\n",
    "\n",
    "frame = gsd.hoomd.Frame()\n",
    "frame.particles.N = 2\n",
    "frame.particles.position = [[0,0,0],[3.0,0,0]]\n",
    "frame.configuration.box = [30, 30, 30, 0, 0, 0]\n",
    "frame.particles.types = ['A']\n",
    "\n",
    "integrator = hoomd.md.Integrator(dt=0)\n",
    "\n",
    "r_min = sigma_c-0.1\n",
    "r_cut = sigma_c+sigma_d\n",
    "\n",
    "cell = hoomd.md.nlist.Cell(buffer=0.4)\n",
    "r = numpy.linspace(r_min, r_cut, 100, endpoint=False)\n",
    "\n",
    "UAO = ao_potential(r, sigma_c, sigma_d, phi_d)\n",
    "FAO = ao_force(r,sigma_c,sigma_d,phi_d)\n",
    "\n",
    "table = hoomd.md.pair.Table(nlist=cell)\n",
    "table.params[(\"A\", \"A\")] = dict(r_min=r_min, U=UAO, F=FAO)\n",
    "table.r_cut[(\"A\", \"A\")] = r_cut\n",
    "integrator.forces = [table]\n",
    "\n",
    "simulation = hoomd.Simulation(device=hoomd.device.auto_select())\n",
    "simulation.operations.integrator = integrator\n",
    "simulation.create_state_from_snapshot(frame)\n",
    "\n",
    "# add code to loop over all distances and save the energy and force\n",
    "\n",
    "# add code to plot results\n",
    "matplotlib.pyplot.show()\n"
   ]
  },
  {
   "cell_type": "markdown",
   "id": "2eb3b310-9d84-4fd2-8348-8e8248ee6b86",
   "metadata": {
    "id": "2eb3b310-9d84-4fd2-8348-8e8248ee6b86"
   },
   "source": [
    "This potential and force is not continous, and is not suitable to run a MD simulation with. We could easily do MC simulations. The hard sphere potential cannot be simulated in MD, but is often approximated by the Weeks-Chandler-Anderson (WCA) potential. The WCA potential is a LJ potential that got tunkated at the LJ minium $2^{1/6}\\sigma$  and shifted up to zero. We can replace the HS part in the AO model with a WCA (also see [Statt, A., Virnau, P., & Binder, K. (2015). Crystal nuclei in melts: a Monte Carlo simulation of a model for attractive colloids. Molecular Physics, 113(17–18), 2556–2570](https://www.tandfonline.com/doi/pdf/10.1080/00268976.2015.1042937)):\n",
    "\n",
    "\\begin{equation}\n",
    "U_\\mathrm{rep}(r)=  4\\left[\\left(\\frac{b \\sigma_c}{r-\\epsilon \\sigma_c}\\right)^{12}+\\left(\\frac{b \\sigma_c}{r-\\epsilon \\sigma_c}\\right)^6-\\left(\\frac{b \\sigma_c}{\\sigma_c+q-\\epsilon \\sigma_c}\\right)^{12}-\\left(\\frac{b \\sigma_c}{\\sigma_c+q-\\epsilon \\sigma_c}\\right)^6\\right]\n",
    "\\end{equation}\n",
    "\n",
    "Then, the interaction is given by the attractive AO part and this new repulsive part: $U_\\mathrm{AO,attractive}+U_\\mathrm{rep}$.\n",
    "Here, we have introduced some more paramters to adjust the repulsive part of the potential, namely $b$ and $\\epsilon$. As in the reference, let's use $b=0.01$ and $\\epsilon=0.98857 $, which results in $U_\\mathrm{softAO}(r=\\sigma_c)=1$.\n",
    "\n",
    "Implement this new potential and the force:"
   ]
  },
  {
   "cell_type": "code",
   "execution_count": null,
   "id": "44763a15-16ac-40bf-9e9c-8e5feb0e2cee",
   "metadata": {
    "id": "44763a15-16ac-40bf-9e9c-8e5feb0e2cee"
   },
   "outputs": [],
   "source": [
    "def soft_ao_potential(r, sigma_c, sigma_d, phi_d,b,epsilon):\n",
    "    # add code\n",
    "    ...\n",
    "    return U_AO\n",
    "\n",
    "\n",
    "def soft_ao_force(r, sigma_c, sigma_d, phi_d,b,epsilon):\n",
    "    # add code\n",
    "    ...\n",
    "    return F_AO\n",
    "\n",
    "phi_d = 0.4  # volume fraction of depletant\n",
    "sigma_d = 1.0  # diamter of depletant\n",
    "sigma_c = 5.0  # diameter of colloids\n",
    "phi_c = 0.1  #volume fraction of colloids\n",
    "b = 0.01\n",
    "epsilon = 0.98857\n",
    "\n",
    "r_min = sigma_c-0.1\n",
    "r_cut = sigma_c+sigma_d\n",
    "\n",
    "r = numpy.linspace(r_min, r_cut, 100, endpoint=False)\n",
    "\n",
    "fig, ax = matplotlib.pyplot.subplots(2,1,sharex=True)\n",
    "# add code to plot both the AO model and the \"soft AO\" model potential and force\n",
    "\n",
    "matplotlib.pyplot.show()"
   ]
  },
  {
   "cell_type": "markdown",
   "id": "5341999f-01f3-4d8c-b044-b2bba26f3d83",
   "metadata": {
    "id": "5341999f-01f3-4d8c-b044-b2bba26f3d83"
   },
   "source": [
    "Now we can run a small test simulation with this soft AO model. Here, we are making the $z$ direction of the box $L_z$ longer, so that if we get phase coexistence, we get the liquid phase to orient in that direction. This is sometimes called \"direct coexistence\" method. We will learn (soon!) the details of how to run a proper Langevin simulation:"
   ]
  },
  {
   "cell_type": "code",
   "execution_count": null,
   "id": "766ce291-f07d-4592-bbfa-b24bec96b438",
   "metadata": {
    "id": "766ce291-f07d-4592-bbfa-b24bec96b438"
   },
   "outputs": [],
   "source": [
    "phi_d = 0.4  # volume fraction of depletant\n",
    "sigma_d = 1.0  # diamter of depletant\n",
    "sigma_c = 5.0  # diameter of colloids\n",
    "phi_c = 0.2  #volume fraction of colloids\n",
    "b = 0.01\n",
    "epsilon = 0.98857\n",
    "\n",
    "frame = gsd.hoomd.Frame()\n",
    "L = 38\n",
    "Lz = 2*L\n",
    "N  = phi_c*L*L*Lz*6/(numpy.pi*sigma_c**3)\n",
    "\n",
    "x = numpy.arange(-0.5*L, 0.5*L-sigma_c, sigma_c+0.1)\n",
    "position = list(itertools.product(x, repeat=3))\n",
    "N = numpy.round(N).astype(int)\n",
    "\n",
    "frame.particles.N = N\n",
    "frame.particles.position = position[0:N]\n",
    "\n",
    "frame.configuration.box = [L, L, Lz, 0, 0, 0]\n",
    "frame.particles.types = ['A']\n",
    "\n",
    "integrator = hoomd.md.Integrator(dt=0.001)\n",
    "\n",
    "r_min = sigma_c-0.05\n",
    "r_cut = sigma_c+sigma_d\n",
    "cell = hoomd.md.nlist.Cell(buffer=0.4)\n",
    "r = numpy.linspace(r_min, r_cut, 1000, endpoint=False)\n",
    "\n",
    "# add code to add the new tabulated potential and force to the hoomd simulation\n",
    "...\n",
    "\n",
    "simulation = hoomd.Simulation(device=hoomd.device.auto_select(),seed=42)\n",
    "simulation.operations.integrator = integrator\n",
    "simulation.create_state_from_snapshot(frame)\n",
    "\n",
    "simulation.state.thermalize_particle_momenta(filter=hoomd.filter.All(), kT=1.0)\n",
    "\n",
    "nvt = hoomd.md.methods.Langevin(\n",
    "    filter=hoomd.filter.All(), kT=1.0\n",
    ")\n",
    "integrator.methods.append(nvt)\n",
    "\n",
    "simulation.run(500_000)\n",
    "snapshot = simulation.state.get_snapshot()"
   ]
  },
  {
   "cell_type": "markdown",
   "id": "090974ab-f2be-4680-8992-dd000d2cdc50",
   "metadata": {
    "id": "090974ab-f2be-4680-8992-dd000d2cdc50"
   },
   "source": [
    "To see what happened, we can compute a histogram in $z$ direction, which should show if we have one fluid or two phases. Get the $z$ positions from the `snapshot.particles.position` array. Then create a `numpy.histogram`, which you should normalize to get volume fraction from counts. Then plot the result:"
   ]
  },
  {
   "cell_type": "code",
   "execution_count": null,
   "id": "326675ee-a2ac-49ae-a858-7a54faaf26bd",
   "metadata": {
    "id": "326675ee-a2ac-49ae-a858-7a54faaf26bd"
   },
   "outputs": [],
   "source": [
    "positions_z = ...\n",
    "hist , edges = numpy.histogram(positions_z, bins=L, range=(-L,+L))\n",
    "\n",
    "center =  (edges[1:] + edges[:-1])/2\n",
    "# normalize\n",
    "hist = hist/...\n",
    "\n",
    "fig,ax = matplotlib.pyplot.subplots(1,1)\n",
    "ax.plot(center,hist)\n",
    "ax.set_xlabel(r\"$L_z[\\sigma]$\")\n",
    "ax.set_ylabel(r\"$\\phi_c$\")\n",
    "matplotlib.pyplot.show()\n"
   ]
  }
 ],
 "metadata": {
  "colab": {
   "provenance": []
  },
  "kernelspec": {
   "display_name": "Python 3 (ipykernel)",
   "language": "python",
   "name": "python3"
  },
  "language_info": {
   "codemirror_mode": {
    "name": "ipython",
    "version": 3
   },
   "file_extension": ".py",
   "mimetype": "text/x-python",
   "name": "python",
   "nbconvert_exporter": "python",
   "pygments_lexer": "ipython3",
   "version": "3.10.13"
  }
 },
 "nbformat": 4,
 "nbformat_minor": 5
}
